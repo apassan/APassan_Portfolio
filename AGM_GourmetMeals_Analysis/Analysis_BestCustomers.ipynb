{
 "cells": [
  {
   "cell_type": "markdown",
   "id": "cd11da2a",
   "metadata": {},
   "source": [
    "# Understanding Who AGM's Best Customers Are "
   ]
  },
  {
   "cell_type": "code",
   "execution_count": 1,
   "id": "a400eec0",
   "metadata": {},
   "outputs": [],
   "source": [
    "# Import necessary packages\n",
    "import math\n",
    "import numpy as np\n",
    "import pandas as pd\n",
    "import psycopg2\n",
    "import matplotlib.pyplot as plt\n",
    "import seaborn as sns"
   ]
  },
  {
   "cell_type": "code",
   "execution_count": 2,
   "id": "8fa124e7",
   "metadata": {},
   "outputs": [],
   "source": [
    "def my_select_query_pandas(query, rollback_before_flag, rollback_after_flag):\n",
    "    '''This function will run a selected query in Postgres and \n",
    "    return the rows in a pandas dataframe'''\n",
    "    \n",
    "    if rollback_before_flag:\n",
    "        connection.rollback()\n",
    "    \n",
    "    df = pd.read_sql_query(query, connection)\n",
    "    \n",
    "    if rollback_after_flag:\n",
    "        connection.rollback()\n",
    "    \n",
    "    # Below converts float columns that integer columns, for those that should be integer columns.\n",
    "    for column in df:\n",
    "    \n",
    "        if df[column].dtype == \"float64\":\n",
    "\n",
    "            fraction_flag = False\n",
    "\n",
    "            for value in df[column].values:\n",
    "                \n",
    "                if not np.isnan(value):\n",
    "                    if value - math.floor(value) != 0:\n",
    "                        fraction_flag = True\n",
    "\n",
    "            if not fraction_flag:\n",
    "                df[column] = df[column].astype('Int64')\n",
    "    \n",
    "    return(df)\n",
    "\n",
    "connection = psycopg2.connect(\n",
    "    user = \"postgres\",\n",
    "    password = \"ucb\",\n",
    "    host = \"postgres\",\n",
    "    port = \"5432\",\n",
    "    database = \"postgres\"\n",
    ")\n",
    "\n",
    "cursor = connection.cursor()"
   ]
  },
  {
   "cell_type": "markdown",
   "id": "e88f4c31",
   "metadata": {},
   "source": [
    "##### First we will conduct some general queries to get an idea of the scale of AGM's customer base (including those that have not yet contributed to sales)."
   ]
  },
  {
   "cell_type": "code",
   "execution_count": 3,
   "id": "5d67c412",
   "metadata": {},
   "outputs": [
    {
     "name": "stdout",
     "output_type": "stream",
     "text": [
      "Table 1: Total Number of AGM's Distinct Customers\n"
     ]
    },
    {
     "data": {
      "text/html": [
       "<div>\n",
       "<style scoped>\n",
       "    .dataframe tbody tr th:only-of-type {\n",
       "        vertical-align: middle;\n",
       "    }\n",
       "\n",
       "    .dataframe tbody tr th {\n",
       "        vertical-align: top;\n",
       "    }\n",
       "\n",
       "    .dataframe thead th {\n",
       "        text-align: right;\n",
       "    }\n",
       "</style>\n",
       "<table border=\"1\" class=\"dataframe\">\n",
       "  <thead>\n",
       "    <tr style=\"text-align: right;\">\n",
       "      <th></th>\n",
       "      <th>distinct_customers</th>\n",
       "    </tr>\n",
       "  </thead>\n",
       "  <tbody>\n",
       "    <tr>\n",
       "      <th>0</th>\n",
       "      <td>31082</td>\n",
       "    </tr>\n",
       "  </tbody>\n",
       "</table>\n",
       "</div>"
      ],
      "text/plain": [
       "   distinct_customers\n",
       "0               31082"
      ]
     },
     "execution_count": 3,
     "metadata": {},
     "output_type": "execute_result"
    }
   ],
   "source": [
    "# Count Total Number of Registered Customer IDs to get an idea of scale of AGM's customer base \n",
    "\n",
    "rollback_before_flag = True\n",
    "rollback_after_flag = True\n",
    "\n",
    "query = \"\"\"\n",
    "select count(distinct customer_id) as distinct_customers\n",
    "from customers\n",
    "\n",
    "\"\"\"\n",
    "print('Table 1: Total Number of AGM\\'s Distinct Customers')\n",
    "my_select_query_pandas(query, rollback_before_flag, rollback_after_flag)"
   ]
  },
  {
   "cell_type": "code",
   "execution_count": 4,
   "id": "07d88216",
   "metadata": {},
   "outputs": [
    {
     "name": "stdout",
     "output_type": "stream",
     "text": [
      "Table 2: Total Number of AGM's Distinct Customers contributing to AGM's Sales\n"
     ]
    },
    {
     "data": {
      "text/html": [
       "<div>\n",
       "<style scoped>\n",
       "    .dataframe tbody tr th:only-of-type {\n",
       "        vertical-align: middle;\n",
       "    }\n",
       "\n",
       "    .dataframe tbody tr th {\n",
       "        vertical-align: top;\n",
       "    }\n",
       "\n",
       "    .dataframe thead th {\n",
       "        text-align: right;\n",
       "    }\n",
       "</style>\n",
       "<table border=\"1\" class=\"dataframe\">\n",
       "  <thead>\n",
       "    <tr style=\"text-align: right;\">\n",
       "      <th></th>\n",
       "      <th>distinct_customers</th>\n",
       "    </tr>\n",
       "  </thead>\n",
       "  <tbody>\n",
       "    <tr>\n",
       "      <th>0</th>\n",
       "      <td>31047</td>\n",
       "    </tr>\n",
       "  </tbody>\n",
       "</table>\n",
       "</div>"
      ],
      "text/plain": [
       "   distinct_customers\n",
       "0               31047"
      ]
     },
     "execution_count": 4,
     "metadata": {},
     "output_type": "execute_result"
    }
   ],
   "source": [
    "# Count Total Number of Customer IDs contributing to sales to see how many of the registered customers are buying meals\n",
    "\n",
    "rollback_before_flag = True\n",
    "rollback_after_flag = True\n",
    "\n",
    "query = \"\"\"\n",
    "select count(distinct customer_id) as distinct_customers\n",
    "from sales\n",
    "\n",
    "\"\"\"\n",
    "print('Table 2: Total Number of AGM\\'s Distinct Customers contributing to AGM\\'s Sales')\n",
    "my_select_query_pandas(query, rollback_before_flag, rollback_after_flag)"
   ]
  },
  {
   "cell_type": "markdown",
   "id": "d1443628",
   "metadata": {},
   "source": [
    "Of the 31,082 registered customers, 31,047 have made a purchase. This means that there are 35 people who either have registered their information with AGM or are potentially errors in the database or fake customers that AGM could have created in the beginning when testing their SQL database, but forgot to take out. "
   ]
  },
  {
   "cell_type": "markdown",
   "id": "4f6528c9",
   "metadata": {},
   "source": [
    "##### We will then investigate the number of sales-contributing customers by store. "
   ]
  },
  {
   "cell_type": "code",
   "execution_count": 5,
   "id": "e1972ebd",
   "metadata": {},
   "outputs": [
    {
     "name": "stdout",
     "output_type": "stream",
     "text": [
      "Table 3: Number of Distinct Customers by Store\n"
     ]
    },
    {
     "data": {
      "text/html": [
       "<div>\n",
       "<style scoped>\n",
       "    .dataframe tbody tr th:only-of-type {\n",
       "        vertical-align: middle;\n",
       "    }\n",
       "\n",
       "    .dataframe tbody tr th {\n",
       "        vertical-align: top;\n",
       "    }\n",
       "\n",
       "    .dataframe thead th {\n",
       "        text-align: right;\n",
       "    }\n",
       "</style>\n",
       "<table border=\"1\" class=\"dataframe\">\n",
       "  <thead>\n",
       "    <tr style=\"text-align: right;\">\n",
       "      <th></th>\n",
       "      <th>city</th>\n",
       "      <th>distinct_customers</th>\n",
       "    </tr>\n",
       "  </thead>\n",
       "  <tbody>\n",
       "    <tr>\n",
       "      <th>0</th>\n",
       "      <td>Berkeley</td>\n",
       "      <td>8126</td>\n",
       "    </tr>\n",
       "    <tr>\n",
       "      <th>1</th>\n",
       "      <td>Seattle</td>\n",
       "      <td>7206</td>\n",
       "    </tr>\n",
       "    <tr>\n",
       "      <th>2</th>\n",
       "      <td>Dallas</td>\n",
       "      <td>6355</td>\n",
       "    </tr>\n",
       "    <tr>\n",
       "      <th>3</th>\n",
       "      <td>Miami</td>\n",
       "      <td>5720</td>\n",
       "    </tr>\n",
       "    <tr>\n",
       "      <th>4</th>\n",
       "      <td>Nashville</td>\n",
       "      <td>3640</td>\n",
       "    </tr>\n",
       "  </tbody>\n",
       "</table>\n",
       "</div>"
      ],
      "text/plain": [
       "        city  distinct_customers\n",
       "0   Berkeley                8126\n",
       "1    Seattle                7206\n",
       "2     Dallas                6355\n",
       "3      Miami                5720\n",
       "4  Nashville                3640"
      ]
     },
     "execution_count": 5,
     "metadata": {},
     "output_type": "execute_result"
    }
   ],
   "source": [
    "# Count Total Number of Customer IDs contributing to sales by store to see the breakdown\n",
    "\n",
    "rollback_before_flag = True\n",
    "rollback_after_flag = True\n",
    "\n",
    "query = \"\"\"\n",
    "select stores.city, count(distinct sales.customer_id) as distinct_customers\n",
    "from sales\n",
    "join stores\n",
    "     on stores.store_id = sales.store_id\n",
    "group by stores.city \n",
    "order by distinct_customers desc\n",
    "\"\"\"\n",
    "print('Table 3: Number of Distinct Customers by Store')\n",
    "my_select_query_pandas(query, rollback_before_flag, rollback_after_flag)\n"
   ]
  },
  {
   "cell_type": "markdown",
   "id": "4dee6169",
   "metadata": {},
   "source": [
    "The AGM store in Berkeley seems to have the highest number of distinct customers, followed by Seattle. Nashville seems to be the lowest. \n",
    "\n",
    "Given that no information has been given on how and when AGM expanded to the different cities, nothing can be said about how this may have affected these numbers (e.g. we cannot assume that Nashville is new)."
   ]
  },
  {
   "cell_type": "markdown",
   "id": "31f77124",
   "metadata": {},
   "source": [
    "##### Next we will investigate to determin who AGM's top customers are, where they are based."
   ]
  },
  {
   "cell_type": "code",
   "execution_count": 21,
   "id": "b0301f2c",
   "metadata": {},
   "outputs": [
    {
     "name": "stdout",
     "output_type": "stream",
     "text": [
      "Table 4: Number of Sales and Total Sale Amounts by Customer\n"
     ]
    },
    {
     "data": {
      "text/html": [
       "<div>\n",
       "<style scoped>\n",
       "    .dataframe tbody tr th:only-of-type {\n",
       "        vertical-align: middle;\n",
       "    }\n",
       "\n",
       "    .dataframe tbody tr th {\n",
       "        vertical-align: top;\n",
       "    }\n",
       "\n",
       "    .dataframe thead th {\n",
       "        text-align: right;\n",
       "    }\n",
       "</style>\n",
       "<table border=\"1\" class=\"dataframe\">\n",
       "  <thead>\n",
       "    <tr style=\"text-align: right;\">\n",
       "      <th></th>\n",
       "      <th>customer_id</th>\n",
       "      <th>city</th>\n",
       "      <th>distinct_sales</th>\n",
       "      <th>total_amount_sales</th>\n",
       "    </tr>\n",
       "  </thead>\n",
       "  <tbody>\n",
       "    <tr>\n",
       "      <th>0</th>\n",
       "      <td>30772</td>\n",
       "      <td>Nashville</td>\n",
       "      <td>110</td>\n",
       "      <td>8328</td>\n",
       "    </tr>\n",
       "    <tr>\n",
       "      <th>1</th>\n",
       "      <td>30775</td>\n",
       "      <td>Nashville</td>\n",
       "      <td>108</td>\n",
       "      <td>7908</td>\n",
       "    </tr>\n",
       "    <tr>\n",
       "      <th>2</th>\n",
       "      <td>30692</td>\n",
       "      <td>Nashville</td>\n",
       "      <td>100</td>\n",
       "      <td>7860</td>\n",
       "    </tr>\n",
       "    <tr>\n",
       "      <th>3</th>\n",
       "      <td>30323</td>\n",
       "      <td>Nashville</td>\n",
       "      <td>106</td>\n",
       "      <td>7848</td>\n",
       "    </tr>\n",
       "    <tr>\n",
       "      <th>4</th>\n",
       "      <td>28543</td>\n",
       "      <td>Nashville</td>\n",
       "      <td>108</td>\n",
       "      <td>7848</td>\n",
       "    </tr>\n",
       "    <tr>\n",
       "      <th>...</th>\n",
       "      <td>...</td>\n",
       "      <td>...</td>\n",
       "      <td>...</td>\n",
       "      <td>...</td>\n",
       "    </tr>\n",
       "    <tr>\n",
       "      <th>31042</th>\n",
       "      <td>15264</td>\n",
       "      <td>Seattle</td>\n",
       "      <td>12</td>\n",
       "      <td>708</td>\n",
       "    </tr>\n",
       "    <tr>\n",
       "      <th>31043</th>\n",
       "      <td>1528</td>\n",
       "      <td>Berkeley</td>\n",
       "      <td>16</td>\n",
       "      <td>684</td>\n",
       "    </tr>\n",
       "    <tr>\n",
       "      <th>31044</th>\n",
       "      <td>12861</td>\n",
       "      <td>Seattle</td>\n",
       "      <td>14</td>\n",
       "      <td>672</td>\n",
       "    </tr>\n",
       "    <tr>\n",
       "      <th>31045</th>\n",
       "      <td>22530</td>\n",
       "      <td>Miami</td>\n",
       "      <td>14</td>\n",
       "      <td>648</td>\n",
       "    </tr>\n",
       "    <tr>\n",
       "      <th>31046</th>\n",
       "      <td>6485</td>\n",
       "      <td>Berkeley</td>\n",
       "      <td>9</td>\n",
       "      <td>612</td>\n",
       "    </tr>\n",
       "  </tbody>\n",
       "</table>\n",
       "<p>31047 rows × 4 columns</p>\n",
       "</div>"
      ],
      "text/plain": [
       "       customer_id       city  distinct_sales  total_amount_sales\n",
       "0            30772  Nashville             110                8328\n",
       "1            30775  Nashville             108                7908\n",
       "2            30692  Nashville             100                7860\n",
       "3            30323  Nashville             106                7848\n",
       "4            28543  Nashville             108                7848\n",
       "...            ...        ...             ...                 ...\n",
       "31042        15264    Seattle              12                 708\n",
       "31043         1528   Berkeley              16                 684\n",
       "31044        12861    Seattle              14                 672\n",
       "31045        22530      Miami              14                 648\n",
       "31046         6485   Berkeley               9                 612\n",
       "\n",
       "[31047 rows x 4 columns]"
      ]
     },
     "execution_count": 21,
     "metadata": {},
     "output_type": "execute_result"
    }
   ],
   "source": [
    "# See which customers have been contributing the most and least to AGM's sales\n",
    "\n",
    "rollback_before_flag = True\n",
    "rollback_after_flag = True\n",
    "\n",
    "query = \"\"\"\n",
    "select sales.customer_id, stores.city, count(distinct sales.sale_id) as distinct_sales, sum(sales.total_amount) as total_amount_sales\n",
    "from sales\n",
    "join stores\n",
    "     on stores.store_id = sales.store_id\n",
    "group by customer_id, stores.city\n",
    "order by total_amount_sales desc\n",
    "\"\"\"\n",
    "\n",
    "df_cs = my_select_query_pandas(query, rollback_before_flag, rollback_after_flag)\n",
    "print('Table 4: Number of Sales and Total Sale Amounts by Customer')\n",
    "df_cs\n"
   ]
  },
  {
   "cell_type": "code",
   "execution_count": 22,
   "id": "e1066019",
   "metadata": {},
   "outputs": [
    {
     "data": {
      "text/plain": [
       "<function matplotlib.pyplot.show(close=None, block=None)>"
      ]
     },
     "execution_count": 22,
     "metadata": {},
     "output_type": "execute_result"
    },
    {
     "data": {
      "image/png": "[encoded data removed]",
      "text/plain": [
       "<Figure size 432x288 with 1 Axes>"
      ]
     },
     "metadata": {},
     "output_type": "display_data"
    }
   ],
   "source": [
    "# Graph the distribution of the total sales amount by customers \n",
    "\n",
    "plt.hist(df_cs['total_amount_sales'], bins = 7, edgecolor='aqua', color='cornflowerblue')\n",
    "plt.title('Graph 1: Distribution of Total Sales Amount per Customer')\n",
    "plt.style.use('ggplot')\n",
    "plt.xlabel('Value')\n",
    "plt.ylabel('Frequency')\n",
    "plt.show"
   ]
  },
  {
   "cell_type": "markdown",
   "id": "32eb145b",
   "metadata": {},
   "source": [
    "Based on the above distribution in Graph 1, *we decide to focus on analyzing the right two bins of customers contributing the most to AGM's sales.*\n",
    "\n",
    "The below website gives information on how bins are calculated by matplotlib in python. Essentially the range of the values is taken and then divided by the number of desired bins. Using this information, it was possible to calculate the values in the different bins which is helpful in this analysis. \n",
    "\n",
    "https://www.geeksforgeeks.org/bin-size-in-matplotlib-histogram/"
   ]
  },
  {
   "cell_type": "code",
   "execution_count": 23,
   "id": "7216840f",
   "metadata": {},
   "outputs": [
    {
     "name": "stdout",
     "output_type": "stream",
     "text": [
      "Individual bin size: $ 1102.29\n",
      "\n",
      "Bin 2:\n",
      "$ 1714.29 - $ 2816.58\n",
      "\n",
      "Bins 6 and 7\n",
      "$ 6123.45 - $ 8328.03\n"
     ]
    }
   ],
   "source": [
    "# Calculating Bin Ranges\n",
    "\n",
    "range1 = 8328-612\n",
    "binz = round(range1/7, 2)\n",
    "print('Individual bin size:','$', binz)\n",
    "\n",
    "print()\n",
    "\n",
    "bin2a = round(612 + binz, 2)\n",
    "bin2b = round(binz + bin2a, 2)\n",
    "print('Bin 2:')\n",
    "print('$',bin2a, '-','$', bin2b)\n",
    "\n",
    "print()\n",
    "\n",
    "print('Bins 6 and 7')\n",
    "bin6a = round(612+(binz*5), 2)\n",
    "bin7a = round(bin6a+binz, 2)\n",
    "bin7b = round(bin7a+binz, 2)\n",
    "print('$', bin6a,'-', '$', bin7b)\n"
   ]
  },
  {
   "cell_type": "markdown",
   "id": "65f56166",
   "metadata": {},
   "source": [
    "Given the above information, we will define the best customers to be those who have spend at least '$6,123.45' at AGM. The following analysis will investigate further on this sample of customers. "
   ]
  },
  {
   "cell_type": "code",
   "execution_count": 24,
   "id": "1740502f",
   "metadata": {},
   "outputs": [
    {
     "name": "stdout",
     "output_type": "stream",
     "text": [
      "Table 5: Top Customers of AGM\n"
     ]
    },
    {
     "data": {
      "text/html": [
       "<div>\n",
       "<style scoped>\n",
       "    .dataframe tbody tr th:only-of-type {\n",
       "        vertical-align: middle;\n",
       "    }\n",
       "\n",
       "    .dataframe tbody tr th {\n",
       "        vertical-align: top;\n",
       "    }\n",
       "\n",
       "    .dataframe thead th {\n",
       "        text-align: right;\n",
       "    }\n",
       "</style>\n",
       "<table border=\"1\" class=\"dataframe\">\n",
       "  <thead>\n",
       "    <tr style=\"text-align: right;\">\n",
       "      <th></th>\n",
       "      <th>customer_id</th>\n",
       "      <th>city</th>\n",
       "      <th>distinct_sales</th>\n",
       "      <th>total_amount_sales</th>\n",
       "    </tr>\n",
       "  </thead>\n",
       "  <tbody>\n",
       "    <tr>\n",
       "      <th>0</th>\n",
       "      <td>30772</td>\n",
       "      <td>Nashville</td>\n",
       "      <td>110</td>\n",
       "      <td>8328</td>\n",
       "    </tr>\n",
       "    <tr>\n",
       "      <th>1</th>\n",
       "      <td>30775</td>\n",
       "      <td>Nashville</td>\n",
       "      <td>108</td>\n",
       "      <td>7908</td>\n",
       "    </tr>\n",
       "    <tr>\n",
       "      <th>2</th>\n",
       "      <td>30692</td>\n",
       "      <td>Nashville</td>\n",
       "      <td>100</td>\n",
       "      <td>7860</td>\n",
       "    </tr>\n",
       "    <tr>\n",
       "      <th>3</th>\n",
       "      <td>30323</td>\n",
       "      <td>Nashville</td>\n",
       "      <td>106</td>\n",
       "      <td>7848</td>\n",
       "    </tr>\n",
       "    <tr>\n",
       "      <th>4</th>\n",
       "      <td>28543</td>\n",
       "      <td>Nashville</td>\n",
       "      <td>108</td>\n",
       "      <td>7848</td>\n",
       "    </tr>\n",
       "    <tr>\n",
       "      <th>...</th>\n",
       "      <td>...</td>\n",
       "      <td>...</td>\n",
       "      <td>...</td>\n",
       "      <td>...</td>\n",
       "    </tr>\n",
       "    <tr>\n",
       "      <th>800</th>\n",
       "      <td>25343</td>\n",
       "      <td>Miami</td>\n",
       "      <td>90</td>\n",
       "      <td>6132</td>\n",
       "    </tr>\n",
       "    <tr>\n",
       "      <th>801</th>\n",
       "      <td>17129</td>\n",
       "      <td>Dallas</td>\n",
       "      <td>100</td>\n",
       "      <td>6132</td>\n",
       "    </tr>\n",
       "    <tr>\n",
       "      <th>802</th>\n",
       "      <td>7900</td>\n",
       "      <td>Berkeley</td>\n",
       "      <td>93</td>\n",
       "      <td>6132</td>\n",
       "    </tr>\n",
       "    <tr>\n",
       "      <th>803</th>\n",
       "      <td>28979</td>\n",
       "      <td>Nashville</td>\n",
       "      <td>100</td>\n",
       "      <td>6132</td>\n",
       "    </tr>\n",
       "    <tr>\n",
       "      <th>804</th>\n",
       "      <td>28006</td>\n",
       "      <td>Nashville</td>\n",
       "      <td>101</td>\n",
       "      <td>6132</td>\n",
       "    </tr>\n",
       "  </tbody>\n",
       "</table>\n",
       "<p>805 rows × 4 columns</p>\n",
       "</div>"
      ],
      "text/plain": [
       "     customer_id       city  distinct_sales  total_amount_sales\n",
       "0          30772  Nashville             110                8328\n",
       "1          30775  Nashville             108                7908\n",
       "2          30692  Nashville             100                7860\n",
       "3          30323  Nashville             106                7848\n",
       "4          28543  Nashville             108                7848\n",
       "..           ...        ...             ...                 ...\n",
       "800        25343      Miami              90                6132\n",
       "801        17129     Dallas             100                6132\n",
       "802         7900   Berkeley              93                6132\n",
       "803        28979  Nashville             100                6132\n",
       "804        28006  Nashville             101                6132\n",
       "\n",
       "[805 rows x 4 columns]"
      ]
     },
     "execution_count": 24,
     "metadata": {},
     "output_type": "execute_result"
    }
   ],
   "source": [
    "# Query the top customers\n",
    "rollback_before_flag = True\n",
    "rollback_after_flag = True\n",
    "\n",
    "query = \"\"\"\n",
    "select sales.customer_id, stores.city, count(distinct sales.sale_id) as distinct_sales, sum(sales.total_amount) as total_amount_sales\n",
    "from sales\n",
    "join stores\n",
    "     on stores.store_id = sales.store_id \n",
    "group by customer_id, stores.city\n",
    "having sum(sales.total_amount) >= 6123\n",
    "order by total_amount_sales desc\n",
    "\"\"\"\n",
    "\n",
    "df_cs_top = my_select_query_pandas(query, rollback_before_flag, rollback_after_flag)\n",
    "print(('Table 5: Top Customers of AGM'))\n",
    "df_cs_top\n"
   ]
  },
  {
   "cell_type": "code",
   "execution_count": 25,
   "id": "34381b5b",
   "metadata": {},
   "outputs": [
    {
     "data": {
      "text/plain": [
       "0.02592843108834992"
      ]
     },
     "execution_count": 25,
     "metadata": {},
     "output_type": "execute_result"
    }
   ],
   "source": [
    "# Proportion of AGM's Top Customers from its sales-contributing customer base\n",
    "805/31047"
   ]
  },
  {
   "cell_type": "markdown",
   "id": "8cd08cbf",
   "metadata": {},
   "source": [
    "Table 5 tells us that under our definition of the top customers, of the 31,047 distinct customers that have contributed to AGM sales, 805 are considered as the best. This is about 2.6% of AGM's sales-contributing customers. "
   ]
  },
  {
   "cell_type": "code",
   "execution_count": 26,
   "id": "bc8b345e",
   "metadata": {},
   "outputs": [
    {
     "name": "stdout",
     "output_type": "stream",
     "text": [
      "Table 6: Number of Top customers by Store\n"
     ]
    },
    {
     "data": {
      "text/html": [
       "<div>\n",
       "<style scoped>\n",
       "    .dataframe tbody tr th:only-of-type {\n",
       "        vertical-align: middle;\n",
       "    }\n",
       "\n",
       "    .dataframe tbody tr th {\n",
       "        vertical-align: top;\n",
       "    }\n",
       "\n",
       "    .dataframe thead th {\n",
       "        text-align: right;\n",
       "    }\n",
       "</style>\n",
       "<table border=\"1\" class=\"dataframe\">\n",
       "  <thead>\n",
       "    <tr style=\"text-align: right;\">\n",
       "      <th></th>\n",
       "      <th>number_customers</th>\n",
       "    </tr>\n",
       "    <tr>\n",
       "      <th>city</th>\n",
       "      <th></th>\n",
       "    </tr>\n",
       "  </thead>\n",
       "  <tbody>\n",
       "    <tr>\n",
       "      <th>Berkeley</th>\n",
       "      <td>18</td>\n",
       "    </tr>\n",
       "    <tr>\n",
       "      <th>Dallas</th>\n",
       "      <td>80</td>\n",
       "    </tr>\n",
       "    <tr>\n",
       "      <th>Miami</th>\n",
       "      <td>86</td>\n",
       "    </tr>\n",
       "    <tr>\n",
       "      <th>Nashville</th>\n",
       "      <td>526</td>\n",
       "    </tr>\n",
       "    <tr>\n",
       "      <th>Seattle</th>\n",
       "      <td>95</td>\n",
       "    </tr>\n",
       "  </tbody>\n",
       "</table>\n",
       "</div>"
      ],
      "text/plain": [
       "           number_customers\n",
       "city                       \n",
       "Berkeley                 18\n",
       "Dallas                   80\n",
       "Miami                    86\n",
       "Nashville               526\n",
       "Seattle                  95"
      ]
     },
     "execution_count": 26,
     "metadata": {},
     "output_type": "execute_result"
    }
   ],
   "source": [
    "# Calculate the Number of Top Customers in each Store\n",
    "\n",
    "df_cs_top['number_customers']=df_cs_top['customer_id']\n",
    "df2 = df_cs_top[['city', 'number_customers']]\n",
    "print('Table 6: Number of Top customers by Store')\n",
    "df2.groupby('city').count()"
   ]
  },
  {
   "cell_type": "code",
   "execution_count": 27,
   "id": "3e661b45",
   "metadata": {
    "scrolled": true
   },
   "outputs": [
    {
     "data": {
      "image/png": "[encoded data removed]",
      "text/plain": [
       "<Figure size 720x360 with 1 Axes>"
      ]
     },
     "metadata": {},
     "output_type": "display_data"
    },
    {
     "data": {
      "image/png": "[encoded data removed]",
      "text/plain": [
       "<Figure size 720x360 with 1 Axes>"
      ]
     },
     "metadata": {},
     "output_type": "display_data"
    }
   ],
   "source": [
    "# Graph the distribution of stores the top customers shop at\n",
    "\n",
    "# By number of sales\n",
    "plt.figure(figsize=(10,5))\n",
    "plt.bar(df_cs_top['city'], df_cs_top['distinct_sales'], color='lightsteelblue')\n",
    "plt.title('Graph 2: Cumulative Number of Sales of the Top Customers, by Store')\n",
    "plt.xlabel('City of Store')\n",
    "plt.ylabel('Number of Sales')\n",
    "plt.show()\n",
    "\n",
    "# By total sales amount \n",
    "plt.figure(figsize=(10,5))\n",
    "plt.bar(df_cs_top['city'], df_cs_top['total_amount_sales'], color='cornflowerblue')\n",
    "plt.title('Graph 3: Cumulative Sales Amount of the Top Customers, by Store')\n",
    "plt.xlabel('City of Store')\n",
    "plt.ylabel('USD')\n",
    "plt.show()"
   ]
  },
  {
   "cell_type": "markdown",
   "id": "0e2801c8",
   "metadata": {},
   "source": [
    "In both graphs 2 and 3, it seems that Nashville had the highest number of cumulative sales by number of sales and total sales amount. Berkeley on the other hand had the lowest in both cases. Considering that Berkeley had the highest number of registered customers contributing to sales (8,126) and Nashville had the lowest (3,640) according to Table 1, this is quite intriguing. It suggests that while Nashville may have the least number of overall customers, it has the most \"top customers\" contributing to AGM's sales. This is supported by table 6 which shows that of the 805 top customers, 526 (~65%) come from Nashville's store. Considering Nashville's customer base is less than half the size of Berkeley's this is relatively impressive. \n",
    "\n",
    "What is also interesting to note is that even though the cumulative sales of Berkeley is relatively the lowest of all the stores (by both number of sales and total sales amount), the fact that this has been contributed by only 18 top customers (i.e. ~2% of all top customers) is quite impressive. It implies that while the Berkeley may have the least number of top customers, these top customers are likely some of the most loyal and returning customers of AGM. This also suggests that Berkeley's customer base may have less people returning at the rate Nashville has been seeing.\n",
    "\n",
    "Dallas, Seattle, and Miami also had much lower numbers of top customers but not as low as Berkeley; theirs ranged between 80-95 top customers each. Given this, it is still relatively impressive that these stores' top customers have also been able to have cumulative sales not too far off from Nashville's. "
   ]
  },
  {
   "cell_type": "code",
   "execution_count": 28,
   "id": "5850c865",
   "metadata": {},
   "outputs": [
    {
     "name": "stdout",
     "output_type": "stream",
     "text": [
      "Table 7: Distance Top Customers are traveling to pick up their AGM Meal\n"
     ]
    },
    {
     "data": {
      "text/html": [
       "<div>\n",
       "<style scoped>\n",
       "    .dataframe tbody tr th:only-of-type {\n",
       "        vertical-align: middle;\n",
       "    }\n",
       "\n",
       "    .dataframe tbody tr th {\n",
       "        vertical-align: top;\n",
       "    }\n",
       "\n",
       "    .dataframe thead th {\n",
       "        text-align: right;\n",
       "    }\n",
       "</style>\n",
       "<table border=\"1\" class=\"dataframe\">\n",
       "  <thead>\n",
       "    <tr style=\"text-align: right;\">\n",
       "      <th></th>\n",
       "      <th>customer_id</th>\n",
       "      <th>city</th>\n",
       "      <th>store_id</th>\n",
       "      <th>closest_store_id</th>\n",
       "      <th>avg_distance</th>\n",
       "    </tr>\n",
       "  </thead>\n",
       "  <tbody>\n",
       "    <tr>\n",
       "      <th>0</th>\n",
       "      <td>15326</td>\n",
       "      <td>Seattle</td>\n",
       "      <td>2</td>\n",
       "      <td>2</td>\n",
       "      <td>25</td>\n",
       "    </tr>\n",
       "    <tr>\n",
       "      <th>1</th>\n",
       "      <td>21691</td>\n",
       "      <td>Dallas</td>\n",
       "      <td>3</td>\n",
       "      <td>3</td>\n",
       "      <td>24</td>\n",
       "    </tr>\n",
       "    <tr>\n",
       "      <th>2</th>\n",
       "      <td>21673</td>\n",
       "      <td>Dallas</td>\n",
       "      <td>3</td>\n",
       "      <td>3</td>\n",
       "      <td>23</td>\n",
       "    </tr>\n",
       "    <tr>\n",
       "      <th>3</th>\n",
       "      <td>27399</td>\n",
       "      <td>Miami</td>\n",
       "      <td>4</td>\n",
       "      <td>4</td>\n",
       "      <td>23</td>\n",
       "    </tr>\n",
       "    <tr>\n",
       "      <th>4</th>\n",
       "      <td>27417</td>\n",
       "      <td>Miami</td>\n",
       "      <td>4</td>\n",
       "      <td>4</td>\n",
       "      <td>23</td>\n",
       "    </tr>\n",
       "    <tr>\n",
       "      <th>...</th>\n",
       "      <td>...</td>\n",
       "      <td>...</td>\n",
       "      <td>...</td>\n",
       "      <td>...</td>\n",
       "      <td>...</td>\n",
       "    </tr>\n",
       "    <tr>\n",
       "      <th>800</th>\n",
       "      <td>27590</td>\n",
       "      <td>Nashville</td>\n",
       "      <td>5</td>\n",
       "      <td>5</td>\n",
       "      <td>1</td>\n",
       "    </tr>\n",
       "    <tr>\n",
       "      <th>801</th>\n",
       "      <td>27596</td>\n",
       "      <td>Nashville</td>\n",
       "      <td>5</td>\n",
       "      <td>5</td>\n",
       "      <td>1</td>\n",
       "    </tr>\n",
       "    <tr>\n",
       "      <th>802</th>\n",
       "      <td>27598</td>\n",
       "      <td>Nashville</td>\n",
       "      <td>5</td>\n",
       "      <td>5</td>\n",
       "      <td>1</td>\n",
       "    </tr>\n",
       "    <tr>\n",
       "      <th>803</th>\n",
       "      <td>27605</td>\n",
       "      <td>Nashville</td>\n",
       "      <td>5</td>\n",
       "      <td>5</td>\n",
       "      <td>1</td>\n",
       "    </tr>\n",
       "    <tr>\n",
       "      <th>804</th>\n",
       "      <td>27611</td>\n",
       "      <td>Nashville</td>\n",
       "      <td>5</td>\n",
       "      <td>5</td>\n",
       "      <td>1</td>\n",
       "    </tr>\n",
       "  </tbody>\n",
       "</table>\n",
       "<p>805 rows × 5 columns</p>\n",
       "</div>"
      ],
      "text/plain": [
       "     customer_id       city  store_id  closest_store_id  avg_distance\n",
       "0          15326    Seattle         2                 2            25\n",
       "1          21691     Dallas         3                 3            24\n",
       "2          21673     Dallas         3                 3            23\n",
       "3          27399      Miami         4                 4            23\n",
       "4          27417      Miami         4                 4            23\n",
       "..           ...        ...       ...               ...           ...\n",
       "800        27590  Nashville         5                 5             1\n",
       "801        27596  Nashville         5                 5             1\n",
       "802        27598  Nashville         5                 5             1\n",
       "803        27605  Nashville         5                 5             1\n",
       "804        27611  Nashville         5                 5             1\n",
       "\n",
       "[805 rows x 5 columns]"
      ]
     },
     "execution_count": 28,
     "metadata": {},
     "output_type": "execute_result"
    }
   ],
   "source": [
    "# Investigate how far away customers tend to travvel to pick up their AGM meal \n",
    "\n",
    "rollback_before_flag = True\n",
    "rollback_after_flag = True\n",
    "\n",
    "query = \"\"\"\n",
    "select sales.customer_id, stores.city, stores.store_id, customers.closest_store_id, avg(customers.distance) as avg_distance\n",
    "from sales\n",
    "join stores\n",
    "     on stores.store_id = sales.store_id \n",
    "join customers\n",
    "     on customers.customer_id = sales.customer_id\n",
    "group by sales.customer_id, stores.city, stores.store_id, customers.closest_store_id, customers.distance\n",
    "having sum(sales.total_amount) >= 6123\n",
    "order by customers.distance desc\n",
    "\"\"\"\n",
    "\n",
    "df_cs_top2 = my_select_query_pandas(query, rollback_before_flag, rollback_after_flag)\n",
    "print('Table 7: Distance Top Customers are traveling to pick up their AGM Meal')\n",
    "df_cs_top2"
   ]
  },
  {
   "cell_type": "code",
   "execution_count": 29,
   "id": "0648a130",
   "metadata": {},
   "outputs": [
    {
     "name": "stdout",
     "output_type": "stream",
     "text": [
      "Table 8: Average Distance Top Customers are Traveling to pick up their AGM meal, by Store\n"
     ]
    },
    {
     "data": {
      "text/html": [
       "<div>\n",
       "<style scoped>\n",
       "    .dataframe tbody tr th:only-of-type {\n",
       "        vertical-align: middle;\n",
       "    }\n",
       "\n",
       "    .dataframe tbody tr th {\n",
       "        vertical-align: top;\n",
       "    }\n",
       "\n",
       "    .dataframe thead th {\n",
       "        text-align: right;\n",
       "    }\n",
       "</style>\n",
       "<table border=\"1\" class=\"dataframe\">\n",
       "  <thead>\n",
       "    <tr style=\"text-align: right;\">\n",
       "      <th></th>\n",
       "      <th>avg_distance</th>\n",
       "    </tr>\n",
       "    <tr>\n",
       "      <th>city</th>\n",
       "      <th></th>\n",
       "    </tr>\n",
       "  </thead>\n",
       "  <tbody>\n",
       "    <tr>\n",
       "      <th>Berkeley</th>\n",
       "      <td>10.722222</td>\n",
       "    </tr>\n",
       "    <tr>\n",
       "      <th>Dallas</th>\n",
       "      <td>8.175</td>\n",
       "    </tr>\n",
       "    <tr>\n",
       "      <th>Miami</th>\n",
       "      <td>8.581395</td>\n",
       "    </tr>\n",
       "    <tr>\n",
       "      <th>Nashville</th>\n",
       "      <td>4.359316</td>\n",
       "    </tr>\n",
       "    <tr>\n",
       "      <th>Seattle</th>\n",
       "      <td>9.757895</td>\n",
       "    </tr>\n",
       "  </tbody>\n",
       "</table>\n",
       "</div>"
      ],
      "text/plain": [
       "           avg_distance\n",
       "city                   \n",
       "Berkeley      10.722222\n",
       "Dallas            8.175\n",
       "Miami          8.581395\n",
       "Nashville      4.359316\n",
       "Seattle        9.757895"
      ]
     },
     "execution_count": 29,
     "metadata": {},
     "output_type": "execute_result"
    }
   ],
   "source": [
    "# Based on Table 6, calculate the aveerage distance customers are travelling to get their AGM meal \n",
    "\n",
    "df2 = df_cs_top2[['city', 'avg_distance']]\n",
    "print('Table 8: Average Distance Top Customers are Traveling to pick up their AGM meal, by Store')\n",
    "df2.groupby('city').mean()"
   ]
  },
  {
   "cell_type": "markdown",
   "id": "c6a38c52",
   "metadata": {},
   "source": [
    "Table 7 above shows that on average, top customers near the Berkeley store (followed by Seattle) have been traveling the most distance to get to the grocery store hosting their AGM meals, at ~10 miles (assumed miles given context; not specified in database description). Nashville on the other hand had the lowest top customer distance averge at ~4.4 miles. Given that on average, customers in Nashville seem to be travelling less it explains why even with a smaller overall customer base, the Nashville store has been able to accumulate a larger top customer base. It requires less effort on the part of a top customer in Nashville to purchase their AGM meal on average, compared to someone in Berkeley. "
   ]
  },
  {
   "cell_type": "markdown",
   "id": "0c0e46f9",
   "metadata": {},
   "source": [
    "### Characteristics of Top Customers based on Above Analysis:\n",
    "- Those who spent at least $6,123 in 2020 on AGM meals.  \n",
    "- Those based in areas requiring less travel to AGM hosted grocery stores. \n",
    "\n",
    "**To tap in more into what other characteristics make up top customers, the following supplementary research would be suggested:**\n",
    "Conduct greater research on the exact location of where each store is in these cities and compare the surround neighborhoods of each store. This would involve getting secondary data on the following surrounding neighborhoods: income distributions, number of business spaces (or higher education facilities) in the neighborhood, number of people working per business space, number of residential units, and population broken down by age groups. Together, this information would help get a clearer picture of the traits these top customers are, and why Nashville has been able to have the most top customers, despite having the smallest customer base. This proposition would help AGM get better insight to inform their strategy to see how more customers can join their top customers group from more stores. "
   ]
  },
  {
   "cell_type": "code",
   "execution_count": null,
   "id": "78876629",
   "metadata": {},
   "outputs": [],
   "source": []
  }
 ],
 "metadata": {
  "kernelspec": {
   "display_name": "Python 3",
   "language": "python",
   "name": "python3"
  },
  "language_info": {
   "codemirror_mode": {
    "name": "ipython",
    "version": 3
   },
   "file_extension": ".py",
   "mimetype": "text/x-python",
   "name": "python",
   "nbconvert_exporter": "python",
   "pygments_lexer": "ipython3",
   "version": "3.8.8"
  }
 },
 "nbformat": 4,
 "nbformat_minor": 5
}
