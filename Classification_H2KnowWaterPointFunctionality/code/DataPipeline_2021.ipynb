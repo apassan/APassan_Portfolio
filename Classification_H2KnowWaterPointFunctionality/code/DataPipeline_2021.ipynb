{
  "cells": [
    {
      "cell_type": "markdown",
      "metadata": {
        "id": "FoUao25gXvIM"
      },
      "source": [
        "# DataPipeline_2021\n",
        "Countries: Nigeria, Sierra Leone, Uganda\n",
        "This version of the pipeline will create a dataset where we want to run the model on a day that tends to fall in dry season in all three countries. Based on the below notes, the chosen day will be December 31st, 2021.\n",
        "\n",
        "Moreover a key difference in this pipeline is that we don't un-nest the historical data because we want the full database of existing waterpoints with the latest observation to run the model on.\n",
        "\n",
        "Dry Season Notes:\n",
        "- Sierra Leone: December - April\n",
        "- Nigeria: November - March\n",
        "- Uganda: June - August & December - February\n",
        "\n",
        "The final model will be run on this dataset to test whether it would change its prediction based on if it is not functional in dry season.# DataPipeline\n",
        "Countries: Nigeria, Sierra Leone, and Uganda"
      ]
    },
    {
      "cell_type": "markdown",
      "metadata": {
        "id": "9K3H94mtX0Ou"
      },
      "source": [
        "## I. NB Setup"
      ]
    },
    {
      "cell_type": "code",
      "execution_count": null,
      "metadata": {
        "id": "U7RHiEJqL33X"
      },
      "outputs": [],
      "source": [
        "# Import Modules\n",
        "import pandas as pd\n",
        "import numpy as np\n",
        "import matplotlib.pyplot as plt\n",
        "import seaborn as sns\n",
        "# from google.colab import drive\n",
        "import datetime"
      ]
    },
    {
      "cell_type": "code",
      "execution_count": null,
      "metadata": {
        "colab": {
          "base_uri": "https://localhost:8080/"
        },
        "id": "Z36kAp-ZM8ZH",
        "outputId": "d6651974-9680-4338-b8e2-e47dacee76ac"
      },
      "outputs": [
        {
          "name": "stdout",
          "output_type": "stream",
          "text": [
            "Mounted at /content/gdrive\n"
          ]
        }
      ],
      "source": [
        "# Set up Google Drive\n",
        "# drive.mount(\"/content/gdrive\")\n",
        "\n",
        "# Run below if above command giving some trouble\n",
        "# drive.mount(\"/content/drive\", force_remount=True)"
      ]
    },
    {
      "cell_type": "markdown",
      "metadata": {
        "id": "w90UXxajG_5o"
      },
      "source": [
        "# WPdx Data"
      ]
    },
    {
      "cell_type": "code",
      "execution_count": null,
      "metadata": {
        "id": "F8NAAkmuMCcx"
      },
      "outputs": [],
      "source": [
        "# Import Files\n",
        "# FILE_PATH = '/content/gdrive/My Drive/Capstone_Sum23/03_Data/01_wpdx/'\n",
        "\n",
        "df_raw = pd.read_csv('data/wpdx_sierraleone_nigeria_uganda.csv', low_memory=False)"
      ]
    },
    {
      "cell_type": "code",
      "execution_count": null,
      "metadata": {
        "id": "HF1sEpSFO5KM"
      },
      "outputs": [],
      "source": [
        "# Confirm we have proper countries\n",
        "countries = ['Sierra Leone', 'Uganda', 'Nigeria']\n",
        "df_raw = df_raw[df_raw['#clean_country_name'].isin(countries)]"
      ]
    },
    {
      "cell_type": "markdown",
      "metadata": {
        "id": "pESOv-b8aF2z"
      },
      "source": [
        "## II. Initial EDA"
      ]
    },
    {
      "cell_type": "markdown",
      "metadata": {
        "id": "qYeXI5902GOd"
      },
      "source": [
        "General Information"
      ]
    },
    {
      "cell_type": "code",
      "execution_count": null,
      "metadata": {
        "colab": {
          "base_uri": "https://localhost:8080/"
        },
        "id": "fUDGEz6T2IQM",
        "outputId": "12ea3e69-46ce-4ad9-aedb-32508d17bfca"
      },
      "outputs": [
        {
          "name": "stdout",
          "output_type": "stream",
          "text": [
            "<class 'pandas.core.frame.DataFrame'>\n",
            "Int64Index: 226819 entries, 85 to 305725\n",
            "Data columns (total 73 columns):\n",
            " #   Column                       Non-Null Count   Dtype  \n",
            "---  ------                       --------------   -----  \n",
            " 0   row_id                       226819 non-null  int64  \n",
            " 1   #source                      226819 non-null  object \n",
            " 2   #lat_deg                     226819 non-null  float64\n",
            " 3   #lon_deg                     226819 non-null  float64\n",
            " 4   #report_date                 226819 non-null  object \n",
            " 5   #status_id                   226819 non-null  object \n",
            " 6   #water_source_clean          210477 non-null  object \n",
            " 7   #water_source_category       210477 non-null  object \n",
            " 8   #water_tech_clean            139092 non-null  object \n",
            " 9   #water_tech_category         138481 non-null  object \n",
            " 10  #facility_type               226819 non-null  object \n",
            " 11  #clean_country_name          226819 non-null  object \n",
            " 12  #clean_country_id            226819 non-null  object \n",
            " 13  #clean_adm1                  226819 non-null  object \n",
            " 14  #clean_adm2                  226819 non-null  object \n",
            " 15  #clean_adm3                  127372 non-null  object \n",
            " 16  #clean_adm4                  99558 non-null   object \n",
            " 17  #install_year                153733 non-null  float64\n",
            " 18  #installer                   23656 non-null   object \n",
            " 19  #rehab_year                  140 non-null     float64\n",
            " 20  #rehabilitator               48 non-null      object \n",
            " 21  #management_clean            171668 non-null  object \n",
            " 22  #status_clean                226819 non-null  object \n",
            " 23  #pay_clean                   134840 non-null  object \n",
            " 24  #fecal_coliform_presence     1291 non-null    object \n",
            " 25  #fecal_coliform_value        797 non-null     float64\n",
            " 26  #subjective_quality_clean    101465 non-null  object \n",
            " 27  #activity_id                 104168 non-null  object \n",
            " 28  #scheme_id                   11403 non-null   object \n",
            " 29  #wpdx_id                     226819 non-null  object \n",
            " 30  #notes                       137994 non-null  object \n",
            " 31  #orig_lnk                    35441 non-null   object \n",
            " 32  #photo_lnk                   107509 non-null  object \n",
            " 33  #country_id                  224115 non-null  object \n",
            " 34  #data_lnk                    226819 non-null  object \n",
            " 35  #distance_to_primary_road    226819 non-null  float64\n",
            " 36  #distance_to_secondary_road  226819 non-null  float64\n",
            " 37  #distance_to_tertiary_road   226819 non-null  float64\n",
            " 38  #distance_to_city            226819 non-null  float64\n",
            " 39  #distance_to_town            226819 non-null  float64\n",
            " 40  water_point_history          226819 non-null  object \n",
            " 41  local_population_1km         201115 non-null  float64\n",
            " 42  water_point_population       201115 non-null  float64\n",
            " 43  rehab_priority               69920 non-null   float64\n",
            " 44  #pop_who_would_gain_access   54213 non-null   float64\n",
            " 45  crucialness_score            197925 non-null  float64\n",
            " 46  pressure_score               197473 non-null  float64\n",
            " 47  usage_capacity               210950 non-null  float64\n",
            " 48  days_since_report            226819 non-null  int64  \n",
            " 49  staleness_score              226819 non-null  float64\n",
            " 50  latest_record                226815 non-null  object \n",
            " 51  location_id                  226819 non-null  int64  \n",
            " 52  is_urban                     226819 non-null  bool   \n",
            " 53  cluster_size                 226819 non-null  int64  \n",
            " 54  #country_name                224115 non-null  object \n",
            " 55  #water_source                225280 non-null  object \n",
            " 56  #water_tech                  113779 non-null  object \n",
            " 57  #status                      195492 non-null  object \n",
            " 58  #adm1                        205941 non-null  object \n",
            " 59  #adm2                        207783 non-null  object \n",
            " 60  #adm3                        12944 non-null   object \n",
            " 61  #management                  173307 non-null  object \n",
            " 62  #pay                         134872 non-null  object \n",
            " 63  #subjective_quality          101784 non-null  object \n",
            " 64  New Georeferenced Column     226819 non-null  object \n",
            " 65  lat_lon_deg                  226819 non-null  object \n",
            " 66  public_data_source           226819 non-null  object \n",
            " 67  converted                    198996 non-null  object \n",
            " 68  count                        226819 non-null  int64  \n",
            " 69  created_timestamp            226819 non-null  object \n",
            " 70  updated_timestamp            226819 non-null  object \n",
            " 71  is_duplicate                 5573 non-null    object \n",
            " 72  dataset_title                226819 non-null  object \n",
            "dtypes: bool(1), float64(18), int64(5), object(49)\n",
            "memory usage: 126.5+ MB\n"
          ]
        }
      ],
      "source": [
        "df_raw.info()"
      ]
    },
    {
      "cell_type": "markdown",
      "metadata": {
        "id": "CSJtOuJQhG1g"
      },
      "source": [
        "Columns present"
      ]
    },
    {
      "cell_type": "code",
      "execution_count": null,
      "metadata": {
        "colab": {
          "base_uri": "https://localhost:8080/"
        },
        "id": "mkv9brRdaEp3",
        "outputId": "7837551e-aff1-468e-af20-981cceaa0b01"
      },
      "outputs": [
        {
          "name": "stdout",
          "output_type": "stream",
          "text": [
            "['row_id', '#source', '#lat_deg', '#lon_deg', '#report_date', '#status_id', '#water_source_clean', '#water_source_category', '#water_tech_clean', '#water_tech_category', '#facility_type', '#clean_country_name', '#clean_country_id', '#clean_adm1', '#clean_adm2', '#clean_adm3', '#clean_adm4', '#install_year', '#installer', '#rehab_year', '#rehabilitator', '#management_clean', '#status_clean', '#pay_clean', '#fecal_coliform_presence', '#fecal_coliform_value', '#subjective_quality_clean', '#activity_id', '#scheme_id', '#wpdx_id', '#notes', '#orig_lnk', '#photo_lnk', '#country_id', '#data_lnk', '#distance_to_primary_road', '#distance_to_secondary_road', '#distance_to_tertiary_road', '#distance_to_city', '#distance_to_town', 'water_point_history', 'local_population_1km', 'water_point_population', 'rehab_priority', '#pop_who_would_gain_access', 'crucialness_score', 'pressure_score', 'usage_capacity', 'days_since_report', 'staleness_score', 'latest_record', 'location_id', 'is_urban', 'cluster_size', '#country_name', '#water_source', '#water_tech', '#status', '#adm1', '#adm2', '#adm3', '#management', '#pay', '#subjective_quality', 'New Georeferenced Column ', 'lat_lon_deg', 'public_data_source', 'converted', 'count', 'created_timestamp', 'updated_timestamp', 'is_duplicate', 'dataset_title']\n"
          ]
        }
      ],
      "source": [
        "df_raw_cols = list(df_raw.columns)\n",
        "print(df_raw_cols)"
      ]
    },
    {
      "cell_type": "markdown",
      "metadata": {
        "id": "ULk96OFShKos"
      },
      "source": [
        "Number of observations and features"
      ]
    },
    {
      "cell_type": "code",
      "execution_count": null,
      "metadata": {
        "colab": {
          "base_uri": "https://localhost:8080/"
        },
        "id": "iki1Uoz5aEe9",
        "outputId": "4e6ce63d-2e6a-472f-c2bc-0875d88cde99"
      },
      "outputs": [
        {
          "name": "stdout",
          "output_type": "stream",
          "text": [
            "DataFrame Shape: (226819, 73)\n"
          ]
        }
      ],
      "source": [
        "print('DataFrame Shape:', df_raw.shape)"
      ]
    },
    {
      "cell_type": "markdown",
      "metadata": {
        "id": "SKUud-iBhNzU"
      },
      "source": [
        "Number of unique waterpoints"
      ]
    },
    {
      "cell_type": "code",
      "execution_count": null,
      "metadata": {
        "colab": {
          "base_uri": "https://localhost:8080/"
        },
        "id": "hg013iIHNDOc",
        "outputId": "a1c26ff2-4b42-432b-80fd-663d4f715ce1"
      },
      "outputs": [
        {
          "name": "stdout",
          "output_type": "stream",
          "text": [
            "Unique ID count: 226819\n"
          ]
        }
      ],
      "source": [
        "# ID is unique per row = No repeat observations from the same pump?\n",
        "print('Unique ID count:', len(df_raw['#wpdx_id'].unique()))"
      ]
    },
    {
      "cell_type": "markdown",
      "metadata": {
        "id": "jYttuB8_hSP9"
      },
      "source": [
        "Earliest and latest observation dates"
      ]
    },
    {
      "cell_type": "code",
      "execution_count": null,
      "metadata": {
        "colab": {
          "base_uri": "https://localhost:8080/"
        },
        "id": "madjP2_2egkQ",
        "outputId": "c2bc9615-7d61-45e5-d00a-45f382dec25a"
      },
      "outputs": [
        {
          "name": "stdout",
          "output_type": "stream",
          "text": [
            "Earliest observation: 01/01/2010 12:00:00 AM\n",
            "Latest observation: 12/31/2021 12:00:00 AM\n"
          ]
        }
      ],
      "source": [
        "print('Earliest observation:', df_raw['#report_date'].min())\n",
        "print('Latest observation:', df_raw['#report_date'].max())"
      ]
    },
    {
      "cell_type": "markdown",
      "metadata": {
        "id": "qRnH7gQ7iDmi"
      },
      "source": [
        "Blank Data"
      ]
    },
    {
      "cell_type": "code",
      "execution_count": null,
      "metadata": {
        "colab": {
          "base_uri": "https://localhost:8080/"
        },
        "id": "MPZrjzgliDA0",
        "outputId": "d15c6f9c-be2b-4034-8dec-edf8293d88f4"
      },
      "outputs": [
        {
          "name": "stdout",
          "output_type": "stream",
          "text": [
            "[['row_id', 0], ['#source', 0], ['#lat_deg', 0], ['#lon_deg', 0], ['#report_date', 0], ['#status_id', 0], ['#water_source_clean', 16342], ['#water_source_category', 16342], ['#water_tech_clean', 87727], ['#water_tech_category', 88338], ['#facility_type', 0], ['#clean_country_name', 0], ['#clean_country_id', 0], ['#clean_adm1', 0], ['#clean_adm2', 0], ['#clean_adm3', 99447], ['#clean_adm4', 127261], ['#install_year', 73086], ['#installer', 203163], ['#rehab_year', 226679], ['#rehabilitator', 226771], ['#management_clean', 55151], ['#status_clean', 0], ['#pay_clean', 91979], ['#fecal_coliform_presence', 225528], ['#fecal_coliform_value', 226022], ['#subjective_quality_clean', 125354], ['#activity_id', 122651], ['#scheme_id', 215416], ['#wpdx_id', 0], ['#notes', 88825], ['#orig_lnk', 191378], ['#photo_lnk', 119310], ['#country_id', 2704], ['#data_lnk', 0], ['#distance_to_primary_road', 0], ['#distance_to_secondary_road', 0], ['#distance_to_tertiary_road', 0], ['#distance_to_city', 0], ['#distance_to_town', 0], ['water_point_history', 0], ['local_population_1km', 25704], ['water_point_population', 25704], ['rehab_priority', 156899], ['#pop_who_would_gain_access', 172606], ['crucialness_score', 28894], ['pressure_score', 29346], ['usage_capacity', 15869], ['days_since_report', 0], ['staleness_score', 0], ['latest_record', 4], ['location_id', 0], ['is_urban', 0], ['cluster_size', 0], ['#country_name', 2704], ['#water_source', 1539], ['#water_tech', 113040], ['#status', 31327], ['#adm1', 20878], ['#adm2', 19036], ['#adm3', 213875], ['#management', 53512], ['#pay', 91947], ['#subjective_quality', 125035], ['New Georeferenced Column ', 0], ['lat_lon_deg', 0], ['public_data_source', 0], ['converted', 27823], ['count', 0], ['created_timestamp', 0], ['updated_timestamp', 0], ['is_duplicate', 221246], ['dataset_title', 0]]\n"
          ]
        }
      ],
      "source": [
        "blanks_list = []\n",
        "for col in df_raw_cols:\n",
        "  blanks_list.append([col, df_raw[col].isna().sum()])\n",
        "print(blanks_list)"
      ]
    },
    {
      "cell_type": "code",
      "execution_count": null,
      "metadata": {
        "colab": {
          "base_uri": "https://localhost:8080/",
          "height": 440
        },
        "id": "w7forE-JQMzO",
        "outputId": "d04429e0-d267-4822-f6f9-568731871bd3"
      },
      "outputs": [
        {
          "data": {
            "image/png": "[encoded data removed]",
            "text/plain": [
              "<Figure size 2000x500 with 1 Axes>"
            ]
          },
          "metadata": {},
          "output_type": "display_data"
        }
      ],
      "source": [
        "# Count the number of null values in each column\n",
        "null_counts = df_raw.isnull().sum()\n",
        "\n",
        "# Create a histogram of null value counts\n",
        "plt.figure(figsize=(20,5))\n",
        "null_counts.plot(kind='bar')\n",
        "plt.axhline(y=0.7*len(df_raw), color='r', linestyle='--', label='Null Value cut-off point')\n",
        "\n",
        "# Set the plot title and axes labels\n",
        "plt.title('Null Value Histogram')\n",
        "plt.xlabel('Columns')\n",
        "plt.ylabel('Null Value Counts')\n",
        "plt.legend()\n",
        "\n",
        "# Display the plot\n",
        "plt.show()"
      ]
    },
    {
      "cell_type": "markdown",
      "metadata": {
        "id": "8drv_sGKTiS-"
      },
      "source": [
        "## III. Cleaning (I)"
      ]
    },
    {
      "cell_type": "code",
      "execution_count": null,
      "metadata": {
        "colab": {
          "base_uri": "https://localhost:8080/"
        },
        "id": "o74pQQ_mTVbL",
        "outputId": "38f4185d-e5b4-420c-db68-02fb36b269a2"
      },
      "outputs": [
        {
          "data": {
            "text/plain": [
              "(221246, 73)"
            ]
          },
          "execution_count": 31,
          "metadata": {},
          "output_type": "execute_result"
        }
      ],
      "source": [
        "# Filter out duplicates\n",
        "df_filtered = df_raw[df_raw['is_duplicate'] != True]\n",
        "df_filtered.shape"
      ]
    },
    {
      "cell_type": "code",
      "execution_count": null,
      "metadata": {
        "id": "Mv3-bgNDr4sk"
      },
      "outputs": [],
      "source": [
        "high_null = ['#installer', '#rehab_year', '#rehabilitator', '#fecal_coliform_presence', '#fecal_coliform_value', '#scheme_id', '#orig_lnk', 'rehab_priority', '#adm3', 'is_duplicate']\n",
        "df_null_drop = df_filtered.drop(columns=high_null)"
      ]
    },
    {
      "cell_type": "code",
      "execution_count": null,
      "metadata": {
        "colab": {
          "base_uri": "https://localhost:8080/"
        },
        "id": "EZ88iDenTVmx",
        "outputId": "5f7bb342-b2b7-43b0-f318-accd4f2b7157"
      },
      "outputs": [
        {
          "name": "stdout",
          "output_type": "stream",
          "text": [
            "['#installer', '#rehab_year', '#rehabilitator', '#fecal_coliform_presence', '#fecal_coliform_value', '#scheme_id', '#orig_lnk', 'rehab_priority', '#pop_who_would_gain_access', '#adm3', 'is_duplicate']\n"
          ]
        }
      ],
      "source": [
        "# Drop High Null Columns\n",
        "\n",
        "# Get list of high null columns (>70% nulls)\n",
        "high_null = []\n",
        "for i in range(len(df_filtered.isnull().sum())):\n",
        "  if df_filtered.isnull().sum()[i] > 0.7*len(df_filtered):\n",
        "    high_null.append(df_filtered.isnull().columns[i])\n",
        "print(high_null)\n",
        "# Drop high null columns\n",
        "df_null_drop = df_filtered.drop(columns=high_null)"
      ]
    },
    {
      "cell_type": "markdown",
      "metadata": {
        "id": "djnCEcehdE6e"
      },
      "source": [
        "Unfortunately the following columns that could have been useful needed to be dropped:\n",
        "\n",
        "\n",
        "*   #rehab_year - when a waterpoint had its last major rehabilitation\n",
        "*   #rehabilitator - name of entity/ies that did the most recent rehabilitation\n",
        "*   #installer\n",
        "*   #fecal_coliform_presence\n",
        "*   #fecal_coliform_value\n",
        "*   rehab_priority\n",
        "*   #pop_who_would_gain_access\n",
        "\n",
        "*Note, that rehabilitation priority comes from a wpdx tool\n",
        "\n",
        "\n"
      ]
    },
    {
      "cell_type": "code",
      "execution_count": null,
      "metadata": {
        "id": "3zd_rrTWjtqr"
      },
      "outputs": [],
      "source": [
        "check = df_null_drop[['#status_id', 'New Georeferenced Column ', 'cluster_size', 'converted', 'count', 'created_timestamp', 'lat_lon_deg','latest_record','location_id','public_data_source', 'row_id', 'water_point_history']]\n",
        "# check.head()"
      ]
    },
    {
      "cell_type": "markdown",
      "metadata": {
        "id": "2NgfXNdvkEws"
      },
      "source": [
        "**Other Data Notes:**\n",
        "\n",
        "Variables that come from the rehabilitation priority tool:\n",
        "- Potential population that would regain access if point was repaired (default)\n",
        "  - too many nulls --> dropped\n",
        "- Total population within 1km of water point\n",
        "- Crucialness of water point (i.e., are there alternative water points nearby)\n",
        "- Pressure on the water point (i.e., is the water point over or under-utilized)\n",
        "\n",
        "New georeference column will be kept for the purposes of potential mapping later on."
      ]
    },
    {
      "cell_type": "code",
      "execution_count": null,
      "metadata": {
        "id": "1vMQsOv_fhlL"
      },
      "outputs": [],
      "source": [
        "df_preclean = df_null_drop[['row_id', '#activity_id', '#clean_adm1', '#clean_adm2','#clean_adm3', '#clean_adm4', '#clean_country_id', \\\n",
        " '#clean_country_name', 'location_id', '#distance_to_city', '#distance_to_primary_road','#distance_to_secondary_road', \\\n",
        " '#distance_to_tertiary_road', '#distance_to_town', '#facility_type', '#install_year', '#lat_deg','#lon_deg', \\\n",
        " '#management_clean','#pay_clean',  '#report_date', '#source', '#status_clean', '#status_id', \\\n",
        " '#subjective_quality_clean', '#water_source_category', '#water_source_clean', '#water_tech_category',\n",
        " '#water_tech_clean', '#wpdx_id', 'crucialness_score', 'days_since_report', 'is_urban', 'local_population_1km', \\\n",
        " 'pressure_score',  'staleness_score', 'updated_timestamp', 'usage_capacity', 'water_point_population']]"
      ]
    },
    {
      "cell_type": "markdown",
      "metadata": {
        "id": "CrJ74PuApTnK"
      },
      "source": [
        "**Notes about columns that are being dropped:**\n",
        "*   In cases where there are two versions of the same column, only the clean version is kept\n",
        "*   #notes is an open text column that has additional information not already part of the WPdx standard that is useful to the data provider. The type of information in this column is quite varied and only some may be useful. At this point, it has been decided that parsing this open text column is will not bring enough value for the amount of work that would be needed to gain useful information from it.\n",
        "*   #status is an open text column about the status of the physical and mechanical condition of the water point. #status_clean incorporates information form this column and is used instead."
      ]
    },
    {
      "cell_type": "code",
      "execution_count": null,
      "metadata": {
        "id": "VljwkiBng8_T"
      },
      "outputs": [],
      "source": [
        "# Columns that have been selected to be filtered out as they will not provide relevant information for the prediction task\n",
        "# This does not include not clean columns\n",
        "# This is only for reference\n",
        "other_cols = ['#photo_lnk','#data_lnk', 'dataset_title', 'New Georeferenced Column ', 'cluster_size', \\\n",
        "              'converted', 'public_data_source', 'water_point_history', 'created_timestamp', \\\n",
        "             'lat_lon_deg', 'count', 'latest_record']"
      ]
    },
    {
      "cell_type": "code",
      "execution_count": null,
      "metadata": {
        "id": "Alh31RqcsSE1"
      },
      "outputs": [],
      "source": [
        "df_preclean = df_null_drop"
      ]
    },
    {
      "cell_type": "code",
      "execution_count": null,
      "metadata": {
        "colab": {
          "base_uri": "https://localhost:8080/"
        },
        "id": "yIMVd5bppFi7",
        "outputId": "edf7afc6-65db-4800-eb8e-46227aa0a4cd"
      },
      "outputs": [
        {
          "name": "stdout",
          "output_type": "stream",
          "text": [
            "Index(['row_id', '#source', '#lat_deg', '#lon_deg', '#report_date',\n",
            "       '#status_id', '#water_source_clean', '#water_source_category',\n",
            "       '#water_tech_clean', '#water_tech_category', '#facility_type',\n",
            "       '#clean_country_name', '#clean_country_id', '#clean_adm1',\n",
            "       '#clean_adm2', '#clean_adm3', '#clean_adm4', '#install_year',\n",
            "       '#management_clean', '#status_clean', '#pay_clean',\n",
            "       '#subjective_quality_clean', '#activity_id', '#wpdx_id', '#notes',\n",
            "       '#photo_lnk', '#country_id', '#data_lnk', '#distance_to_primary_road',\n",
            "       '#distance_to_secondary_road', '#distance_to_tertiary_road',\n",
            "       '#distance_to_city', '#distance_to_town', 'water_point_history',\n",
            "       'local_population_1km', 'water_point_population',\n",
            "       '#pop_who_would_gain_access', 'crucialness_score', 'pressure_score',\n",
            "       'usage_capacity', 'days_since_report', 'staleness_score',\n",
            "       'latest_record', 'location_id', 'is_urban', 'cluster_size',\n",
            "       '#country_name', '#water_source', '#water_tech', '#status', '#adm1',\n",
            "       '#adm2', '#management', '#pay', '#subjective_quality',\n",
            "       'New Georeferenced Column ', 'lat_lon_deg', 'public_data_source',\n",
            "       'converted', 'count', 'created_timestamp', 'updated_timestamp',\n",
            "       'dataset_title'],\n",
            "      dtype='object')\n"
          ]
        }
      ],
      "source": [
        "print(df_preclean.columns)"
      ]
    },
    {
      "cell_type": "markdown",
      "metadata": {
        "id": "WI4NCNz7mHZL"
      },
      "source": [
        "## III. Target Variable Mapping"
      ]
    },
    {
      "cell_type": "markdown",
      "metadata": {
        "id": "laBA0X6CWSNi"
      },
      "source": [
        "### EDA"
      ]
    },
    {
      "cell_type": "code",
      "execution_count": null,
      "metadata": {
        "colab": {
          "base_uri": "https://localhost:8080/",
          "height": 174
        },
        "id": "tOirQeuRwgFt",
        "outputId": "d1982d04-a3f4-4263-c601-fc9b94bdfa07"
      },
      "outputs": [
        {
          "data": {
            "text/html": [
              "\n",
              "\n",
              "  <div id=\"df-f56cc800-c217-4352-b743-fe7278e52214\">\n",
              "    <div class=\"colab-df-container\">\n",
              "      <div>\n",
              "<style scoped>\n",
              "    .dataframe tbody tr th:only-of-type {\n",
              "        vertical-align: middle;\n",
              "    }\n",
              "\n",
              "    .dataframe tbody tr th {\n",
              "        vertical-align: top;\n",
              "    }\n",
              "\n",
              "    .dataframe thead th {\n",
              "        text-align: right;\n",
              "    }\n",
              "</style>\n",
              "<table border=\"1\" class=\"dataframe\">\n",
              "  <thead>\n",
              "    <tr style=\"text-align: right;\">\n",
              "      <th></th>\n",
              "      <th>row_id</th>\n",
              "    </tr>\n",
              "    <tr>\n",
              "      <th>#status_id</th>\n",
              "      <th></th>\n",
              "    </tr>\n",
              "  </thead>\n",
              "  <tbody>\n",
              "    <tr>\n",
              "      <th>No</th>\n",
              "      <td>55943</td>\n",
              "    </tr>\n",
              "    <tr>\n",
              "      <th>Unknown</th>\n",
              "      <td>17299</td>\n",
              "    </tr>\n",
              "    <tr>\n",
              "      <th>Yes</th>\n",
              "      <td>148004</td>\n",
              "    </tr>\n",
              "  </tbody>\n",
              "</table>\n",
              "</div>\n",
              "      <button class=\"colab-df-convert\" onclick=\"convertToInteractive('df-f56cc800-c217-4352-b743-fe7278e52214')\"\n",
              "              title=\"Convert this dataframe to an interactive table.\"\n",
              "              style=\"display:none;\">\n",
              "\n",
              "  <svg xmlns=\"http://www.w3.org/2000/svg\" height=\"24px\"viewBox=\"0 0 24 24\"\n",
              "       width=\"24px\">\n",
              "    <path d=\"M0 0h24v24H0V0z\" fill=\"none\"/>\n",
              "    <path d=\"M18.56 5.44l.94 2.06.94-2.06 2.06-.94-2.06-.94-.94-2.06-.94 2.06-2.06.94zm-11 1L8.5 8.5l.94-2.06 2.06-.94-2.06-.94L8.5 2.5l-.94 2.06-2.06.94zm10 10l.94 2.06.94-2.06 2.06-.94-2.06-.94-.94-2.06-.94 2.06-2.06.94z\"/><path d=\"M17.41 7.96l-1.37-1.37c-.4-.4-.92-.59-1.43-.59-.52 0-1.04.2-1.43.59L10.3 9.45l-7.72 7.72c-.78.78-.78 2.05 0 2.83L4 21.41c.39.39.9.59 1.41.59.51 0 1.02-.2 1.41-.59l7.78-7.78 2.81-2.81c.8-.78.8-2.07 0-2.86zM5.41 20L4 18.59l7.72-7.72 1.47 1.35L5.41 20z\"/>\n",
              "  </svg>\n",
              "      </button>\n",
              "\n",
              "\n",
              "\n",
              "    <div id=\"df-0d2e05ab-1d5b-4c3d-a35b-adcee5b40a82\">\n",
              "      <button class=\"colab-df-quickchart\" onclick=\"quickchart('df-0d2e05ab-1d5b-4c3d-a35b-adcee5b40a82')\"\n",
              "              title=\"Suggest charts.\"\n",
              "              style=\"display:none;\">\n",
              "\n",
              "<svg xmlns=\"http://www.w3.org/2000/svg\" height=\"24px\"viewBox=\"0 0 24 24\"\n",
              "     width=\"24px\">\n",
              "    <g>\n",
              "        <path d=\"M19 3H5c-1.1 0-2 .9-2 2v14c0 1.1.9 2 2 2h14c1.1 0 2-.9 2-2V5c0-1.1-.9-2-2-2zM9 17H7v-7h2v7zm4 0h-2V7h2v10zm4 0h-2v-4h2v4z\"/>\n",
              "    </g>\n",
              "</svg>\n",
              "      </button>\n",
              "    </div>\n",
              "\n",
              "<style>\n",
              "  .colab-df-quickchart {\n",
              "    background-color: #E8F0FE;\n",
              "    border: none;\n",
              "    border-radius: 50%;\n",
              "    cursor: pointer;\n",
              "    display: none;\n",
              "    fill: #1967D2;\n",
              "    height: 32px;\n",
              "    padding: 0 0 0 0;\n",
              "    width: 32px;\n",
              "  }\n",
              "\n",
              "  .colab-df-quickchart:hover {\n",
              "    background-color: #E2EBFA;\n",
              "    box-shadow: 0px 1px 2px rgba(60, 64, 67, 0.3), 0px 1px 3px 1px rgba(60, 64, 67, 0.15);\n",
              "    fill: #174EA6;\n",
              "  }\n",
              "\n",
              "  [theme=dark] .colab-df-quickchart {\n",
              "    background-color: #3B4455;\n",
              "    fill: #D2E3FC;\n",
              "  }\n",
              "\n",
              "  [theme=dark] .colab-df-quickchart:hover {\n",
              "    background-color: #434B5C;\n",
              "    box-shadow: 0px 1px 3px 1px rgba(0, 0, 0, 0.15);\n",
              "    filter: drop-shadow(0px 1px 2px rgba(0, 0, 0, 0.3));\n",
              "    fill: #FFFFFF;\n",
              "  }\n",
              "</style>\n",
              "\n",
              "    <script>\n",
              "      async function quickchart(key) {\n",
              "        const containerElement = document.querySelector('#' + key);\n",
              "        const charts = await google.colab.kernel.invokeFunction(\n",
              "            'suggestCharts', [key], {});\n",
              "      }\n",
              "    </script>\n",
              "\n",
              "      <script>\n",
              "\n",
              "function displayQuickchartButton(domScope) {\n",
              "  let quickchartButtonEl =\n",
              "    domScope.querySelector('#df-0d2e05ab-1d5b-4c3d-a35b-adcee5b40a82 button.colab-df-quickchart');\n",
              "  quickchartButtonEl.style.display =\n",
              "    google.colab.kernel.accessAllowed ? 'block' : 'none';\n",
              "}\n",
              "\n",
              "        displayQuickchartButton(document);\n",
              "      </script>\n",
              "      <style>\n",
              "    .colab-df-container {\n",
              "      display:flex;\n",
              "      flex-wrap:wrap;\n",
              "      gap: 12px;\n",
              "    }\n",
              "\n",
              "    .colab-df-convert {\n",
              "      background-color: #E8F0FE;\n",
              "      border: none;\n",
              "      border-radius: 50%;\n",
              "      cursor: pointer;\n",
              "      display: none;\n",
              "      fill: #1967D2;\n",
              "      height: 32px;\n",
              "      padding: 0 0 0 0;\n",
              "      width: 32px;\n",
              "    }\n",
              "\n",
              "    .colab-df-convert:hover {\n",
              "      background-color: #E2EBFA;\n",
              "      box-shadow: 0px 1px 2px rgba(60, 64, 67, 0.3), 0px 1px 3px 1px rgba(60, 64, 67, 0.15);\n",
              "      fill: #174EA6;\n",
              "    }\n",
              "\n",
              "    [theme=dark] .colab-df-convert {\n",
              "      background-color: #3B4455;\n",
              "      fill: #D2E3FC;\n",
              "    }\n",
              "\n",
              "    [theme=dark] .colab-df-convert:hover {\n",
              "      background-color: #434B5C;\n",
              "      box-shadow: 0px 1px 3px 1px rgba(0, 0, 0, 0.15);\n",
              "      filter: drop-shadow(0px 1px 2px rgba(0, 0, 0, 0.3));\n",
              "      fill: #FFFFFF;\n",
              "    }\n",
              "  </style>\n",
              "\n",
              "      <script>\n",
              "        const buttonEl =\n",
              "          document.querySelector('#df-f56cc800-c217-4352-b743-fe7278e52214 button.colab-df-convert');\n",
              "        buttonEl.style.display =\n",
              "          google.colab.kernel.accessAllowed ? 'block' : 'none';\n",
              "\n",
              "        async function convertToInteractive(key) {\n",
              "          const element = document.querySelector('#df-f56cc800-c217-4352-b743-fe7278e52214');\n",
              "          const dataTable =\n",
              "            await google.colab.kernel.invokeFunction('convertToInteractive',\n",
              "                                                     [key], {});\n",
              "          if (!dataTable) return;\n",
              "\n",
              "          const docLinkHtml = 'Like what you see? Visit the ' +\n",
              "            '<a target=\"_blank\" href=https://colab.research.google.com/notebooks/data_table.ipynb>data table notebook</a>'\n",
              "            + ' to learn more about interactive tables.';\n",
              "          element.innerHTML = '';\n",
              "          dataTable['output_type'] = 'display_data';\n",
              "          await google.colab.output.renderOutput(dataTable, element);\n",
              "          const docLink = document.createElement('div');\n",
              "          docLink.innerHTML = docLinkHtml;\n",
              "          element.appendChild(docLink);\n",
              "        }\n",
              "      </script>\n",
              "    </div>\n",
              "  </div>\n"
            ],
            "text/plain": [
              "            row_id\n",
              "#status_id        \n",
              "No           55943\n",
              "Unknown      17299\n",
              "Yes         148004"
            ]
          },
          "execution_count": 10,
          "metadata": {},
          "output_type": "execute_result"
        }
      ],
      "source": [
        "df_preclean['#status_id'] = df_preclean['#status_id'].astype('str')\n",
        "\n",
        "# status_id\n",
        "pd.DataFrame(df_preclean.groupby(['#status_id'])['row_id'].count())"
      ]
    },
    {
      "cell_type": "markdown",
      "metadata": {
        "id": "HmXi51VfW6pQ"
      },
      "source": [
        "Look at **#status_id** for each country to inform mapping"
      ]
    },
    {
      "cell_type": "code",
      "execution_count": null,
      "metadata": {
        "id": "j9RxRZvBXKHl"
      },
      "outputs": [],
      "source": [
        "# Create df for each country\n",
        "sierraleone_df = df_preclean.loc[df_preclean['#clean_country_name'] == \"Sierra Leone\"]\n",
        "uganda_df = df_preclean.loc[df_preclean['#clean_country_name'] == \"Uganda\"]\n",
        "nigeria_df = df_preclean.loc[df_preclean['#clean_country_name'] == \"Nigeria\"]"
      ]
    },
    {
      "cell_type": "code",
      "execution_count": null,
      "metadata": {
        "colab": {
          "base_uri": "https://localhost:8080/"
        },
        "id": "cRL5OPqyXf5r",
        "outputId": "db6063c4-2063-4dcd-d204-44d6ac7c0ce4"
      },
      "outputs": [
        {
          "data": {
            "text/plain": [
              "Non-Functional                14072\n",
              "Functional, not in use        11813\n",
              "Functional                     1367\n",
              "Abandoned/Decommissioned         36\n",
              "Non-Functional, dry season       15\n",
              "Functional, needs repair          1\n",
              "Name: #status_clean, dtype: int64"
            ]
          },
          "execution_count": 14,
          "metadata": {},
          "output_type": "execute_result"
        }
      ],
      "source": [
        "sierraleone_df[\"#status_clean\"].value_counts()"
      ]
    },
    {
      "cell_type": "code",
      "execution_count": null,
      "metadata": {
        "colab": {
          "base_uri": "https://localhost:8080/"
        },
        "id": "pmJBuMshbD9X",
        "outputId": "2b53e4ae-bbec-4246-9be9-6cbc6a3cb665"
      },
      "outputs": [
        {
          "data": {
            "text/plain": [
              "Functional                    66441\n",
              "Non-Functional                28387\n",
              "Functional, not in use         2311\n",
              "Non-Functional, dry season      855\n",
              "Abandoned/Decommissioned        473\n",
              "Functional, needs repair        253\n",
              "Name: #status_clean, dtype: int64"
            ]
          },
          "execution_count": 15,
          "metadata": {},
          "output_type": "execute_result"
        }
      ],
      "source": [
        "uganda_df[\"#status_clean\"].value_counts()"
      ]
    },
    {
      "cell_type": "code",
      "execution_count": null,
      "metadata": {
        "colab": {
          "base_uri": "https://localhost:8080/"
        },
        "id": "-NvERYt7bD2X",
        "outputId": "a8a92f47-4eac-44af-96cf-c4fbfcb55bfe"
      },
      "outputs": [
        {
          "data": {
            "text/plain": [
              "Functional, not in use        52774\n",
              "Non-Functional                39377\n",
              "Non-Functional, dry season     2456\n",
              "Abandoned/Decommissioned        355\n",
              "Functional                      197\n",
              "Functional, needs repair         63\n",
              "Name: #status_clean, dtype: int64"
            ]
          },
          "execution_count": 16,
          "metadata": {},
          "output_type": "execute_result"
        }
      ],
      "source": [
        "nigeria_df[\"#status_clean\"].value_counts()"
      ]
    },
    {
      "cell_type": "markdown",
      "metadata": {
        "id": "3080gV0zvzTl"
      },
      "source": [
        "Dry Season Notes:\n",
        "- Sierra Leone: December - April\n",
        "- Nigeria: November - March\n",
        "- Uganda: June - August & December - February"
      ]
    },
    {
      "cell_type": "markdown",
      "metadata": {
        "id": "bk-W1wUTWWRL"
      },
      "source": [
        "### Mapping"
      ]
    },
    {
      "cell_type": "code",
      "execution_count": null,
      "metadata": {
        "id": "P3mPv0QbV6Xg"
      },
      "outputs": [],
      "source": [
        "def wp_status(row):\n",
        "  functional = ['Functional', 'Functional, needs repair', 'Functional, not in use']\n",
        "  not_functional = ['Non-Functional', 'Abandoned/Decommissioned', 'Non-Functional, dry season']\n",
        "  if row['#status_clean'] in functional:\n",
        "    status_fin = 'functional'\n",
        "  else:\n",
        "    status_fin = 'not_functional'\n",
        "  return status_fin"
      ]
    },
    {
      "cell_type": "code",
      "execution_count": null,
      "metadata": {
        "id": "1qQvP40dpyzh"
      },
      "outputs": [],
      "source": [
        "df_preclean['status_fin'] = df_preclean.apply(wp_status, axis=1)"
      ]
    },
    {
      "cell_type": "markdown",
      "metadata": {
        "id": "rw_lMAprbqNJ"
      },
      "source": [
        "### Final Breakdown"
      ]
    },
    {
      "cell_type": "code",
      "execution_count": null,
      "metadata": {
        "colab": {
          "base_uri": "https://localhost:8080/",
          "height": 143
        },
        "id": "kk2DvmD7V6Uq",
        "outputId": "5d4890fb-c188-4932-aa57-42edea6e110f"
      },
      "outputs": [
        {
          "data": {
            "text/html": [
              "\n",
              "\n",
              "  <div id=\"df-845895b3-ba0c-4c3a-bc6c-98b6fab554cf\">\n",
              "    <div class=\"colab-df-container\">\n",
              "      <div>\n",
              "<style scoped>\n",
              "    .dataframe tbody tr th:only-of-type {\n",
              "        vertical-align: middle;\n",
              "    }\n",
              "\n",
              "    .dataframe tbody tr th {\n",
              "        vertical-align: top;\n",
              "    }\n",
              "\n",
              "    .dataframe thead th {\n",
              "        text-align: right;\n",
              "    }\n",
              "</style>\n",
              "<table border=\"1\" class=\"dataframe\">\n",
              "  <thead>\n",
              "    <tr style=\"text-align: right;\">\n",
              "      <th></th>\n",
              "      <th>row_id</th>\n",
              "    </tr>\n",
              "    <tr>\n",
              "      <th>status_fin</th>\n",
              "      <th></th>\n",
              "    </tr>\n",
              "  </thead>\n",
              "  <tbody>\n",
              "    <tr>\n",
              "      <th>functional</th>\n",
              "      <td>135220</td>\n",
              "    </tr>\n",
              "    <tr>\n",
              "      <th>not_functional</th>\n",
              "      <td>86026</td>\n",
              "    </tr>\n",
              "  </tbody>\n",
              "</table>\n",
              "</div>\n",
              "      <button class=\"colab-df-convert\" onclick=\"convertToInteractive('df-845895b3-ba0c-4c3a-bc6c-98b6fab554cf')\"\n",
              "              title=\"Convert this dataframe to an interactive table.\"\n",
              "              style=\"display:none;\">\n",
              "\n",
              "  <svg xmlns=\"http://www.w3.org/2000/svg\" height=\"24px\"viewBox=\"0 0 24 24\"\n",
              "       width=\"24px\">\n",
              "    <path d=\"M0 0h24v24H0V0z\" fill=\"none\"/>\n",
              "    <path d=\"M18.56 5.44l.94 2.06.94-2.06 2.06-.94-2.06-.94-.94-2.06-.94 2.06-2.06.94zm-11 1L8.5 8.5l.94-2.06 2.06-.94-2.06-.94L8.5 2.5l-.94 2.06-2.06.94zm10 10l.94 2.06.94-2.06 2.06-.94-2.06-.94-.94-2.06-.94 2.06-2.06.94z\"/><path d=\"M17.41 7.96l-1.37-1.37c-.4-.4-.92-.59-1.43-.59-.52 0-1.04.2-1.43.59L10.3 9.45l-7.72 7.72c-.78.78-.78 2.05 0 2.83L4 21.41c.39.39.9.59 1.41.59.51 0 1.02-.2 1.41-.59l7.78-7.78 2.81-2.81c.8-.78.8-2.07 0-2.86zM5.41 20L4 18.59l7.72-7.72 1.47 1.35L5.41 20z\"/>\n",
              "  </svg>\n",
              "      </button>\n",
              "\n",
              "\n",
              "\n",
              "    <div id=\"df-73527ae3-4a6d-43cf-8f2f-8a397862800d\">\n",
              "      <button class=\"colab-df-quickchart\" onclick=\"quickchart('df-73527ae3-4a6d-43cf-8f2f-8a397862800d')\"\n",
              "              title=\"Suggest charts.\"\n",
              "              style=\"display:none;\">\n",
              "\n",
              "<svg xmlns=\"http://www.w3.org/2000/svg\" height=\"24px\"viewBox=\"0 0 24 24\"\n",
              "     width=\"24px\">\n",
              "    <g>\n",
              "        <path d=\"M19 3H5c-1.1 0-2 .9-2 2v14c0 1.1.9 2 2 2h14c1.1 0 2-.9 2-2V5c0-1.1-.9-2-2-2zM9 17H7v-7h2v7zm4 0h-2V7h2v10zm4 0h-2v-4h2v4z\"/>\n",
              "    </g>\n",
              "</svg>\n",
              "      </button>\n",
              "    </div>\n",
              "\n",
              "<style>\n",
              "  .colab-df-quickchart {\n",
              "    background-color: #E8F0FE;\n",
              "    border: none;\n",
              "    border-radius: 50%;\n",
              "    cursor: pointer;\n",
              "    display: none;\n",
              "    fill: #1967D2;\n",
              "    height: 32px;\n",
              "    padding: 0 0 0 0;\n",
              "    width: 32px;\n",
              "  }\n",
              "\n",
              "  .colab-df-quickchart:hover {\n",
              "    background-color: #E2EBFA;\n",
              "    box-shadow: 0px 1px 2px rgba(60, 64, 67, 0.3), 0px 1px 3px 1px rgba(60, 64, 67, 0.15);\n",
              "    fill: #174EA6;\n",
              "  }\n",
              "\n",
              "  [theme=dark] .colab-df-quickchart {\n",
              "    background-color: #3B4455;\n",
              "    fill: #D2E3FC;\n",
              "  }\n",
              "\n",
              "  [theme=dark] .colab-df-quickchart:hover {\n",
              "    background-color: #434B5C;\n",
              "    box-shadow: 0px 1px 3px 1px rgba(0, 0, 0, 0.15);\n",
              "    filter: drop-shadow(0px 1px 2px rgba(0, 0, 0, 0.3));\n",
              "    fill: #FFFFFF;\n",
              "  }\n",
              "</style>\n",
              "\n",
              "    <script>\n",
              "      async function quickchart(key) {\n",
              "        const containerElement = document.querySelector('#' + key);\n",
              "        const charts = await google.colab.kernel.invokeFunction(\n",
              "            'suggestCharts', [key], {});\n",
              "      }\n",
              "    </script>\n",
              "\n",
              "      <script>\n",
              "\n",
              "function displayQuickchartButton(domScope) {\n",
              "  let quickchartButtonEl =\n",
              "    domScope.querySelector('#df-73527ae3-4a6d-43cf-8f2f-8a397862800d button.colab-df-quickchart');\n",
              "  quickchartButtonEl.style.display =\n",
              "    google.colab.kernel.accessAllowed ? 'block' : 'none';\n",
              "}\n",
              "\n",
              "        displayQuickchartButton(document);\n",
              "      </script>\n",
              "      <style>\n",
              "    .colab-df-container {\n",
              "      display:flex;\n",
              "      flex-wrap:wrap;\n",
              "      gap: 12px;\n",
              "    }\n",
              "\n",
              "    .colab-df-convert {\n",
              "      background-color: #E8F0FE;\n",
              "      border: none;\n",
              "      border-radius: 50%;\n",
              "      cursor: pointer;\n",
              "      display: none;\n",
              "      fill: #1967D2;\n",
              "      height: 32px;\n",
              "      padding: 0 0 0 0;\n",
              "      width: 32px;\n",
              "    }\n",
              "\n",
              "    .colab-df-convert:hover {\n",
              "      background-color: #E2EBFA;\n",
              "      box-shadow: 0px 1px 2px rgba(60, 64, 67, 0.3), 0px 1px 3px 1px rgba(60, 64, 67, 0.15);\n",
              "      fill: #174EA6;\n",
              "    }\n",
              "\n",
              "    [theme=dark] .colab-df-convert {\n",
              "      background-color: #3B4455;\n",
              "      fill: #D2E3FC;\n",
              "    }\n",
              "\n",
              "    [theme=dark] .colab-df-convert:hover {\n",
              "      background-color: #434B5C;\n",
              "      box-shadow: 0px 1px 3px 1px rgba(0, 0, 0, 0.15);\n",
              "      filter: drop-shadow(0px 1px 2px rgba(0, 0, 0, 0.3));\n",
              "      fill: #FFFFFF;\n",
              "    }\n",
              "  </style>\n",
              "\n",
              "      <script>\n",
              "        const buttonEl =\n",
              "          document.querySelector('#df-845895b3-ba0c-4c3a-bc6c-98b6fab554cf button.colab-df-convert');\n",
              "        buttonEl.style.display =\n",
              "          google.colab.kernel.accessAllowed ? 'block' : 'none';\n",
              "\n",
              "        async function convertToInteractive(key) {\n",
              "          const element = document.querySelector('#df-845895b3-ba0c-4c3a-bc6c-98b6fab554cf');\n",
              "          const dataTable =\n",
              "            await google.colab.kernel.invokeFunction('convertToInteractive',\n",
              "                                                     [key], {});\n",
              "          if (!dataTable) return;\n",
              "\n",
              "          const docLinkHtml = 'Like what you see? Visit the ' +\n",
              "            '<a target=\"_blank\" href=https://colab.research.google.com/notebooks/data_table.ipynb>data table notebook</a>'\n",
              "            + ' to learn more about interactive tables.';\n",
              "          element.innerHTML = '';\n",
              "          dataTable['output_type'] = 'display_data';\n",
              "          await google.colab.output.renderOutput(dataTable, element);\n",
              "          const docLink = document.createElement('div');\n",
              "          docLink.innerHTML = docLinkHtml;\n",
              "          element.appendChild(docLink);\n",
              "        }\n",
              "      </script>\n",
              "    </div>\n",
              "  </div>\n"
            ],
            "text/plain": [
              "                row_id\n",
              "status_fin            \n",
              "functional      135220\n",
              "not_functional   86026"
            ]
          },
          "execution_count": 13,
          "metadata": {},
          "output_type": "execute_result"
        }
      ],
      "source": [
        "# status_fin\n",
        "pd.DataFrame(df_preclean.groupby(['status_fin'])['row_id'].count())"
      ]
    },
    {
      "cell_type": "markdown",
      "metadata": {
        "id": "jf_Df18NclqC"
      },
      "source": [
        "Class breakdown:\n",
        "\n",
        "\n",
        "*   functional: 61.3%\n",
        "*   not_functional: 38.6%\n",
        "\n",
        "\n",
        "\n"
      ]
    },
    {
      "cell_type": "markdown",
      "metadata": {
        "id": "BAZfF_3PzNfe"
      },
      "source": [
        "## V. Cleaning (II)"
      ]
    },
    {
      "cell_type": "code",
      "execution_count": null,
      "metadata": {
        "colab": {
          "base_uri": "https://localhost:8080/"
        },
        "id": "ERUWTlPzBrjV",
        "outputId": "9cf79431-454c-4a63-dee6-658964931b19"
      },
      "outputs": [
        {
          "data": {
            "text/plain": [
              "(221246, 64)"
            ]
          },
          "execution_count": 37,
          "metadata": {},
          "output_type": "execute_result"
        }
      ],
      "source": [
        "df_clean = df_preclean\n",
        "df_clean.shape"
      ]
    },
    {
      "cell_type": "code",
      "execution_count": null,
      "metadata": {
        "id": "7mM-XgEYapv1"
      },
      "outputs": [],
      "source": [
        "df_clean['report_month'] = df_clean['#report_date'].apply(lambda x: int(x[0:2]))\n",
        "df_clean['report_day'] = df_clean['#report_date'].apply(lambda x: int(x[3:5]))\n",
        "df_clean['report_year'] = df_clean['#report_date'].apply(lambda x: int(x[6:10]))\n",
        "df_clean['report_date'] = pd.to_datetime(df_clean['#report_date'])"
      ]
    },
    {
      "cell_type": "markdown",
      "metadata": {
        "id": "Iv8peQp7gW_4"
      },
      "source": [
        "**Dates Issues:**\n",
        "\n",
        "\n",
        "*   some report dates in future; while their updated timestamps are in the past\n",
        "*   specifically happening for Sierra Leone and Uganda in our dataset\n",
        "\n",
        "\n"
      ]
    },
    {
      "cell_type": "code",
      "execution_count": null,
      "metadata": {
        "colab": {
          "base_uri": "https://localhost:8080/"
        },
        "id": "ngLScQVTY2er",
        "outputId": "9e39c57d-8450-46b6-b041-fae8a8c5105c"
      },
      "outputs": [
        {
          "name": "stdout",
          "output_type": "stream",
          "text": [
            "Earliest observation: 2005-09-07 00:00:00\n",
            "Latest observation: 2023-12-01 00:00:00\n"
          ]
        }
      ],
      "source": [
        "print('Earliest observation:', df_clean['report_date'].min())\n",
        "print('Latest observation:', df_clean['report_date'].max())"
      ]
    },
    {
      "cell_type": "code",
      "execution_count": null,
      "metadata": {
        "id": "GBEmKlrO9_SX"
      },
      "outputs": [],
      "source": [
        "def clean_install_year(df):\n",
        "  '''\n",
        "  Arg:\n",
        "  Return: clean dataframe\n",
        "\n",
        "  Does the following:\n",
        "  - if install year is greater than year timestamp it should be Nan\n",
        "  '''\n",
        "\n",
        "  # Clean #install_year\n",
        "  install_year = df['#install_year']\n",
        "  if np.where(df[['#install_year', 'report_year']].notnull()):\n",
        "    if df['#install_year'] > df['report_year']:\n",
        "      install_year = np.NaN\n",
        "  elif np.where(df['#install_year'].notnull()):\n",
        "    install_year = df['#install_year']\n",
        "  else:\n",
        "    install_year = df['#install_year']\n",
        "\n",
        "  return install_year"
      ]
    },
    {
      "cell_type": "code",
      "execution_count": null,
      "metadata": {
        "id": "XKlhxavMnk9t"
      },
      "outputs": [],
      "source": [
        "def create_dry_col(df):\n",
        "  if df['#status_clean'] == 'Non-Functional, dry season':\n",
        "    val = 1\n",
        "  else:\n",
        "    val = 0\n",
        "  return val"
      ]
    },
    {
      "cell_type": "code",
      "execution_count": null,
      "metadata": {
        "id": "Z0-4pEVUHm-m"
      },
      "outputs": [],
      "source": [
        "def get_source_type(val):\n",
        "  gov = ['Federal Ministry of Water Resources, Nigeria', 'Ministry of Water and Environment, Uganda', \\\n",
        "              'Ministry of Basic and Senior Secondary Education - Sierra Leone', 'Ministry of Water Resources, \\\n",
        "              Sierra Leone', 'Kenema Water Directorate',\n",
        "              ]\n",
        "  un = ['OCHA ROSEA','UNHCR','UNICEF', ]\n",
        "  ngo = ['iMMAP', 'GOAL','World Vision','charity: water',  'CARE-Uganda-Otuke','World Vision WASH','IRC', \\\n",
        "         'Living Water International',  'Inter Aide', 'WaterAid UK', 'WaterAid', 'The Water Trust', \\\n",
        "         'The Water Trust Uganda',  'Water4','International Lifeline Fund', 'Drop in the Bucket',\\\n",
        "         'Evidence Action', 'Water For People', 'Ugandan Water Project','Stanford University and International Lifeline Fund', \\\n",
        "         'Aquaya','CRS RAIN Project', 'Water for People', ]\n",
        "  other = ['C & D', 'YouthMappers', 'YouthMappers Gulu Chapter', 'TTC Mobile', 'Lifeline', 'GRID3']\n",
        "\n",
        "  if val in gov:\n",
        "    val = 'gov'\n",
        "  elif val in un:\n",
        "    val = 'un'\n",
        "  elif val in ngo:\n",
        "    val = 'ngo'\n",
        "  else:\n",
        "    val = 'other'\n",
        "  return val"
      ]
    },
    {
      "cell_type": "code",
      "execution_count": null,
      "metadata": {
        "id": "PU1Y3CW6Crc3"
      },
      "outputs": [],
      "source": [
        "df_clean['install_year'] = df_clean.apply(lambda s: clean_install_year(s), axis=1)\n",
        "df_clean['not_func_dry_season'] = df_clean.apply(lambda s: create_dry_col(s), axis=1)\n",
        "df_clean['source_type'] = df_clean['#source'].apply(lambda x: get_source_type(x))"
      ]
    },
    {
      "cell_type": "code",
      "execution_count": null,
      "metadata": {
        "colab": {
          "base_uri": "https://localhost:8080/"
        },
        "id": "IxLGMeNHjaZd",
        "outputId": "18f06ed9-8200-4ad2-c9a2-29199bcef8f4"
      },
      "outputs": [
        {
          "data": {
            "text/plain": [
              "(214750, 71)"
            ]
          },
          "execution_count": 43,
          "metadata": {},
          "output_type": "execute_result"
        }
      ],
      "source": [
        "# Filter out rows after 2021\n",
        "df_clean = df_clean[df_clean['report_year'] < 2022]\n",
        "df_clean.shape"
      ]
    },
    {
      "cell_type": "code",
      "execution_count": null,
      "metadata": {
        "colab": {
          "base_uri": "https://localhost:8080/"
        },
        "id": "qlnhmhG8F6ou",
        "outputId": "dd2d9cdf-7422-4b6f-8b48-26819d800e87"
      },
      "outputs": [
        {
          "data": {
            "text/plain": [
              "Index(['row_id', '#lat_deg', '#lon_deg', '#report_date', '#status_id',\n",
              "       '#water_source_clean', '#water_source_category', '#water_tech_clean',\n",
              "       '#water_tech_category', '#facility_type', '#clean_country_name',\n",
              "       '#clean_country_id', '#clean_adm1', '#clean_adm2', '#clean_adm3',\n",
              "       '#clean_adm4', '#install_year', '#management_clean', '#status_clean',\n",
              "       '#pay_clean', '#subjective_quality_clean', '#activity_id', '#wpdx_id',\n",
              "       '#notes', '#photo_lnk', '#country_id', '#data_lnk',\n",
              "       '#distance_to_primary_road', '#distance_to_secondary_road',\n",
              "       '#distance_to_tertiary_road', '#distance_to_city', '#distance_to_town',\n",
              "       'water_point_history', 'local_population_1km', 'water_point_population',\n",
              "       '#pop_who_would_gain_access', 'crucialness_score', 'pressure_score',\n",
              "       'usage_capacity', 'days_since_report', 'staleness_score',\n",
              "       'latest_record', 'location_id', 'is_urban', 'cluster_size',\n",
              "       '#country_name', '#water_source', '#water_tech', '#status', '#adm1',\n",
              "       '#adm2', '#management', '#pay', '#subjective_quality',\n",
              "       'New Georeferenced Column ', 'lat_lon_deg', 'public_data_source',\n",
              "       'converted', 'count', 'created_timestamp', 'updated_timestamp',\n",
              "       'dataset_title', 'status_fin', 'report_month', 'report_day',\n",
              "       'report_year', 'report_date', 'install_year', 'not_func_dry_season',\n",
              "       'source_type'],\n",
              "      dtype='object')"
            ]
          },
          "execution_count": 44,
          "metadata": {},
          "output_type": "execute_result"
        }
      ],
      "source": [
        "df_clean = df_clean.drop(columns=['#source'])\n",
        "df_clean.columns"
      ]
    },
    {
      "cell_type": "code",
      "execution_count": null,
      "metadata": {
        "id": "cpjiOpkYIJS_"
      },
      "outputs": [],
      "source": [
        "df_clean = df_clean.drop(columns=['#install_year', '#report_date'])"
      ]
    },
    {
      "cell_type": "code",
      "execution_count": null,
      "metadata": {
        "colab": {
          "base_uri": "https://localhost:8080/"
        },
        "id": "-OjZSDL6ZT8V",
        "outputId": "b49d5fac-c5c6-42cc-fc33-90ca479e3210"
      },
      "outputs": [
        {
          "name": "stdout",
          "output_type": "stream",
          "text": [
            "Earliest observation: 2005-09-07 00:00:00\n",
            "Latest observation: 2023-06-01 00:00:00\n"
          ]
        }
      ],
      "source": [
        "print('Earliest observation:', df_clean['report_date'].min())\n",
        "print('Latest observation:', df_clean['report_date'].max())"
      ]
    },
    {
      "cell_type": "markdown",
      "metadata": {
        "id": "OVyT3pXaCf4M"
      },
      "source": [
        "## VI. Change to 2021\n",
        "This section will adjust the database to assume we are on December 31st, 2021. "
      ]
    },
    {
      "cell_type": "code",
      "execution_count": null,
      "metadata": {
        "colab": {
          "base_uri": "https://localhost:8080/",
          "height": 386
        },
        "id": "6gCDAgfPAeV1",
        "outputId": "9469bc4a-9b92-4775-b174-7342676664ef"
      },
      "outputs": [
        {
          "data": {
            "text/html": [
              "\n",
              "\n",
              "  <div id=\"df-2ad14bd1-4aec-46f4-a6a0-db40b7bdd24c\">\n",
              "    <div class=\"colab-df-container\">\n",
              "      <div>\n",
              "<style scoped>\n",
              "    .dataframe tbody tr th:only-of-type {\n",
              "        vertical-align: middle;\n",
              "    }\n",
              "\n",
              "    .dataframe tbody tr th {\n",
              "        vertical-align: top;\n",
              "    }\n",
              "\n",
              "    .dataframe thead th {\n",
              "        text-align: right;\n",
              "    }\n",
              "</style>\n",
              "<table border=\"1\" class=\"dataframe\">\n",
              "  <thead>\n",
              "    <tr style=\"text-align: right;\">\n",
              "      <th></th>\n",
              "      <th>row_id</th>\n",
              "      <th>#lat_deg</th>\n",
              "      <th>#lon_deg</th>\n",
              "      <th>#status_id</th>\n",
              "      <th>#water_source_clean</th>\n",
              "      <th>#water_source_category</th>\n",
              "      <th>#water_tech_clean</th>\n",
              "      <th>#water_tech_category</th>\n",
              "      <th>#facility_type</th>\n",
              "      <th>#clean_country_name</th>\n",
              "      <th>...</th>\n",
              "      <th>updated_timestamp</th>\n",
              "      <th>dataset_title</th>\n",
              "      <th>status_fin</th>\n",
              "      <th>report_month</th>\n",
              "      <th>report_day</th>\n",
              "      <th>report_year</th>\n",
              "      <th>report_date</th>\n",
              "      <th>install_year</th>\n",
              "      <th>not_func_dry_season</th>\n",
              "      <th>source_type</th>\n",
              "    </tr>\n",
              "  </thead>\n",
              "  <tbody>\n",
              "    <tr>\n",
              "      <th>86</th>\n",
              "      <td>71934</td>\n",
              "      <td>7.670000</td>\n",
              "      <td>5.390000</td>\n",
              "      <td>Unknown</td>\n",
              "      <td>NaN</td>\n",
              "      <td>NaN</td>\n",
              "      <td>Public Tapstand</td>\n",
              "      <td>Public Tapstand</td>\n",
              "      <td>Improved</td>\n",
              "      <td>Nigeria</td>\n",
              "      <td>...</td>\n",
              "      <td>12/06/2021 09:12:57 PM</td>\n",
              "      <td>GRID3_Nigeria_2018-2020</td>\n",
              "      <td>not_functional</td>\n",
              "      <td>9</td>\n",
              "      <td>7</td>\n",
              "      <td>2018</td>\n",
              "      <td>2018-09-07</td>\n",
              "      <td>NaN</td>\n",
              "      <td>0</td>\n",
              "      <td>other</td>\n",
              "    </tr>\n",
              "    <tr>\n",
              "      <th>87</th>\n",
              "      <td>671815</td>\n",
              "      <td>6.776732</td>\n",
              "      <td>9.044447</td>\n",
              "      <td>Yes</td>\n",
              "      <td>Borehole/Tubewell</td>\n",
              "      <td>Well</td>\n",
              "      <td>Hand Pump</td>\n",
              "      <td>Hand Pump</td>\n",
              "      <td>Improved</td>\n",
              "      <td>Nigeria</td>\n",
              "      <td>...</td>\n",
              "      <td>06/30/2020 12:56:07 PM</td>\n",
              "      <td>Federal Ministry of Water Resources_Nigeria_2015</td>\n",
              "      <td>functional</td>\n",
              "      <td>8</td>\n",
              "      <td>22</td>\n",
              "      <td>2015</td>\n",
              "      <td>2015-08-22</td>\n",
              "      <td>NaN</td>\n",
              "      <td>0</td>\n",
              "      <td>gov</td>\n",
              "    </tr>\n",
              "    <tr>\n",
              "      <th>88</th>\n",
              "      <td>396372</td>\n",
              "      <td>5.866844</td>\n",
              "      <td>7.373515</td>\n",
              "      <td>Yes</td>\n",
              "      <td>Borehole/Tubewell</td>\n",
              "      <td>Well</td>\n",
              "      <td>Motorized Pump</td>\n",
              "      <td>Motorized Pump</td>\n",
              "      <td>Improved</td>\n",
              "      <td>Nigeria</td>\n",
              "      <td>...</td>\n",
              "      <td>06/30/2020 12:56:07 PM</td>\n",
              "      <td>Federal Ministry of Water Resources_Nigeria_2015</td>\n",
              "      <td>functional</td>\n",
              "      <td>2</td>\n",
              "      <td>26</td>\n",
              "      <td>2015</td>\n",
              "      <td>2015-02-26</td>\n",
              "      <td>NaN</td>\n",
              "      <td>0</td>\n",
              "      <td>gov</td>\n",
              "    </tr>\n",
              "    <tr>\n",
              "      <th>89</th>\n",
              "      <td>674097</td>\n",
              "      <td>6.910172</td>\n",
              "      <td>7.662312</td>\n",
              "      <td>Yes</td>\n",
              "      <td>Borehole/Tubewell</td>\n",
              "      <td>Well</td>\n",
              "      <td>Hand Pump</td>\n",
              "      <td>Hand Pump</td>\n",
              "      <td>Improved</td>\n",
              "      <td>Nigeria</td>\n",
              "      <td>...</td>\n",
              "      <td>06/30/2020 12:56:07 PM</td>\n",
              "      <td>Federal Ministry of Water Resources_Nigeria_2015</td>\n",
              "      <td>functional</td>\n",
              "      <td>8</td>\n",
              "      <td>30</td>\n",
              "      <td>2015</td>\n",
              "      <td>2015-08-30</td>\n",
              "      <td>NaN</td>\n",
              "      <td>0</td>\n",
              "      <td>gov</td>\n",
              "    </tr>\n",
              "    <tr>\n",
              "      <th>90</th>\n",
              "      <td>604999</td>\n",
              "      <td>6.613382</td>\n",
              "      <td>3.298497</td>\n",
              "      <td>Yes</td>\n",
              "      <td>Borehole/Tubewell</td>\n",
              "      <td>Well</td>\n",
              "      <td>Motorized Pump</td>\n",
              "      <td>Motorized Pump</td>\n",
              "      <td>Improved</td>\n",
              "      <td>Nigeria</td>\n",
              "      <td>...</td>\n",
              "      <td>06/30/2020 12:56:07 PM</td>\n",
              "      <td>Federal Ministry of Water Resources_Nigeria_2015</td>\n",
              "      <td>functional</td>\n",
              "      <td>5</td>\n",
              "      <td>28</td>\n",
              "      <td>2015</td>\n",
              "      <td>2015-05-28</td>\n",
              "      <td>2013.0</td>\n",
              "      <td>0</td>\n",
              "      <td>gov</td>\n",
              "    </tr>\n",
              "  </tbody>\n",
              "</table>\n",
              "<p>5 rows × 68 columns</p>\n",
              "</div>\n",
              "      <button class=\"colab-df-convert\" onclick=\"convertToInteractive('df-2ad14bd1-4aec-46f4-a6a0-db40b7bdd24c')\"\n",
              "              title=\"Convert this dataframe to an interactive table.\"\n",
              "              style=\"display:none;\">\n",
              "\n",
              "  <svg xmlns=\"http://www.w3.org/2000/svg\" height=\"24px\"viewBox=\"0 0 24 24\"\n",
              "       width=\"24px\">\n",
              "    <path d=\"M0 0h24v24H0V0z\" fill=\"none\"/>\n",
              "    <path d=\"M18.56 5.44l.94 2.06.94-2.06 2.06-.94-2.06-.94-.94-2.06-.94 2.06-2.06.94zm-11 1L8.5 8.5l.94-2.06 2.06-.94-2.06-.94L8.5 2.5l-.94 2.06-2.06.94zm10 10l.94 2.06.94-2.06 2.06-.94-2.06-.94-.94-2.06-.94 2.06-2.06.94z\"/><path d=\"M17.41 7.96l-1.37-1.37c-.4-.4-.92-.59-1.43-.59-.52 0-1.04.2-1.43.59L10.3 9.45l-7.72 7.72c-.78.78-.78 2.05 0 2.83L4 21.41c.39.39.9.59 1.41.59.51 0 1.02-.2 1.41-.59l7.78-7.78 2.81-2.81c.8-.78.8-2.07 0-2.86zM5.41 20L4 18.59l7.72-7.72 1.47 1.35L5.41 20z\"/>\n",
              "  </svg>\n",
              "      </button>\n",
              "\n",
              "\n",
              "\n",
              "    <div id=\"df-42cdc891-9855-44b3-9247-0918e40fede1\">\n",
              "      <button class=\"colab-df-quickchart\" onclick=\"quickchart('df-42cdc891-9855-44b3-9247-0918e40fede1')\"\n",
              "              title=\"Suggest charts.\"\n",
              "              style=\"display:none;\">\n",
              "\n",
              "<svg xmlns=\"http://www.w3.org/2000/svg\" height=\"24px\"viewBox=\"0 0 24 24\"\n",
              "     width=\"24px\">\n",
              "    <g>\n",
              "        <path d=\"M19 3H5c-1.1 0-2 .9-2 2v14c0 1.1.9 2 2 2h14c1.1 0 2-.9 2-2V5c0-1.1-.9-2-2-2zM9 17H7v-7h2v7zm4 0h-2V7h2v10zm4 0h-2v-4h2v4z\"/>\n",
              "    </g>\n",
              "</svg>\n",
              "      </button>\n",
              "    </div>\n",
              "\n",
              "<style>\n",
              "  .colab-df-quickchart {\n",
              "    background-color: #E8F0FE;\n",
              "    border: none;\n",
              "    border-radius: 50%;\n",
              "    cursor: pointer;\n",
              "    display: none;\n",
              "    fill: #1967D2;\n",
              "    height: 32px;\n",
              "    padding: 0 0 0 0;\n",
              "    width: 32px;\n",
              "  }\n",
              "\n",
              "  .colab-df-quickchart:hover {\n",
              "    background-color: #E2EBFA;\n",
              "    box-shadow: 0px 1px 2px rgba(60, 64, 67, 0.3), 0px 1px 3px 1px rgba(60, 64, 67, 0.15);\n",
              "    fill: #174EA6;\n",
              "  }\n",
              "\n",
              "  [theme=dark] .colab-df-quickchart {\n",
              "    background-color: #3B4455;\n",
              "    fill: #D2E3FC;\n",
              "  }\n",
              "\n",
              "  [theme=dark] .colab-df-quickchart:hover {\n",
              "    background-color: #434B5C;\n",
              "    box-shadow: 0px 1px 3px 1px rgba(0, 0, 0, 0.15);\n",
              "    filter: drop-shadow(0px 1px 2px rgba(0, 0, 0, 0.3));\n",
              "    fill: #FFFFFF;\n",
              "  }\n",
              "</style>\n",
              "\n",
              "    <script>\n",
              "      async function quickchart(key) {\n",
              "        const containerElement = document.querySelector('#' + key);\n",
              "        const charts = await google.colab.kernel.invokeFunction(\n",
              "            'suggestCharts', [key], {});\n",
              "      }\n",
              "    </script>\n",
              "\n",
              "      <script>\n",
              "\n",
              "function displayQuickchartButton(domScope) {\n",
              "  let quickchartButtonEl =\n",
              "    domScope.querySelector('#df-42cdc891-9855-44b3-9247-0918e40fede1 button.colab-df-quickchart');\n",
              "  quickchartButtonEl.style.display =\n",
              "    google.colab.kernel.accessAllowed ? 'block' : 'none';\n",
              "}\n",
              "\n",
              "        displayQuickchartButton(document);\n",
              "      </script>\n",
              "      <style>\n",
              "    .colab-df-container {\n",
              "      display:flex;\n",
              "      flex-wrap:wrap;\n",
              "      gap: 12px;\n",
              "    }\n",
              "\n",
              "    .colab-df-convert {\n",
              "      background-color: #E8F0FE;\n",
              "      border: none;\n",
              "      border-radius: 50%;\n",
              "      cursor: pointer;\n",
              "      display: none;\n",
              "      fill: #1967D2;\n",
              "      height: 32px;\n",
              "      padding: 0 0 0 0;\n",
              "      width: 32px;\n",
              "    }\n",
              "\n",
              "    .colab-df-convert:hover {\n",
              "      background-color: #E2EBFA;\n",
              "      box-shadow: 0px 1px 2px rgba(60, 64, 67, 0.3), 0px 1px 3px 1px rgba(60, 64, 67, 0.15);\n",
              "      fill: #174EA6;\n",
              "    }\n",
              "\n",
              "    [theme=dark] .colab-df-convert {\n",
              "      background-color: #3B4455;\n",
              "      fill: #D2E3FC;\n",
              "    }\n",
              "\n",
              "    [theme=dark] .colab-df-convert:hover {\n",
              "      background-color: #434B5C;\n",
              "      box-shadow: 0px 1px 3px 1px rgba(0, 0, 0, 0.15);\n",
              "      filter: drop-shadow(0px 1px 2px rgba(0, 0, 0, 0.3));\n",
              "      fill: #FFFFFF;\n",
              "    }\n",
              "  </style>\n",
              "\n",
              "      <script>\n",
              "        const buttonEl =\n",
              "          document.querySelector('#df-2ad14bd1-4aec-46f4-a6a0-db40b7bdd24c button.colab-df-convert');\n",
              "        buttonEl.style.display =\n",
              "          google.colab.kernel.accessAllowed ? 'block' : 'none';\n",
              "\n",
              "        async function convertToInteractive(key) {\n",
              "          const element = document.querySelector('#df-2ad14bd1-4aec-46f4-a6a0-db40b7bdd24c');\n",
              "          const dataTable =\n",
              "            await google.colab.kernel.invokeFunction('convertToInteractive',\n",
              "                                                     [key], {});\n",
              "          if (!dataTable) return;\n",
              "\n",
              "          const docLinkHtml = 'Like what you see? Visit the ' +\n",
              "            '<a target=\"_blank\" href=https://colab.research.google.com/notebooks/data_table.ipynb>data table notebook</a>'\n",
              "            + ' to learn more about interactive tables.';\n",
              "          element.innerHTML = '';\n",
              "          dataTable['output_type'] = 'display_data';\n",
              "          await google.colab.output.renderOutput(dataTable, element);\n",
              "          const docLink = document.createElement('div');\n",
              "          docLink.innerHTML = docLinkHtml;\n",
              "          element.appendChild(docLink);\n",
              "        }\n",
              "      </script>\n",
              "    </div>\n",
              "  </div>\n"
            ],
            "text/plain": [
              "    row_id  #lat_deg  #lon_deg #status_id #water_source_clean  \\\n",
              "86   71934  7.670000  5.390000    Unknown                 NaN   \n",
              "87  671815  6.776732  9.044447        Yes   Borehole/Tubewell   \n",
              "88  396372  5.866844  7.373515        Yes   Borehole/Tubewell   \n",
              "89  674097  6.910172  7.662312        Yes   Borehole/Tubewell   \n",
              "90  604999  6.613382  3.298497        Yes   Borehole/Tubewell   \n",
              "\n",
              "   #water_source_category #water_tech_clean #water_tech_category  \\\n",
              "86                    NaN   Public Tapstand      Public Tapstand   \n",
              "87                   Well         Hand Pump            Hand Pump   \n",
              "88                   Well    Motorized Pump       Motorized Pump   \n",
              "89                   Well         Hand Pump            Hand Pump   \n",
              "90                   Well    Motorized Pump       Motorized Pump   \n",
              "\n",
              "   #facility_type #clean_country_name  ...       updated_timestamp  \\\n",
              "86       Improved             Nigeria  ...  12/06/2021 09:12:57 PM   \n",
              "87       Improved             Nigeria  ...  06/30/2020 12:56:07 PM   \n",
              "88       Improved             Nigeria  ...  06/30/2020 12:56:07 PM   \n",
              "89       Improved             Nigeria  ...  06/30/2020 12:56:07 PM   \n",
              "90       Improved             Nigeria  ...  06/30/2020 12:56:07 PM   \n",
              "\n",
              "                                       dataset_title      status_fin  \\\n",
              "86                           GRID3_Nigeria_2018-2020  not_functional   \n",
              "87  Federal Ministry of Water Resources_Nigeria_2015      functional   \n",
              "88  Federal Ministry of Water Resources_Nigeria_2015      functional   \n",
              "89  Federal Ministry of Water Resources_Nigeria_2015      functional   \n",
              "90  Federal Ministry of Water Resources_Nigeria_2015      functional   \n",
              "\n",
              "   report_month report_day report_year report_date install_year  \\\n",
              "86            9          7        2018  2018-09-07          NaN   \n",
              "87            8         22        2015  2015-08-22          NaN   \n",
              "88            2         26        2015  2015-02-26          NaN   \n",
              "89            8         30        2015  2015-08-30          NaN   \n",
              "90            5         28        2015  2015-05-28       2013.0   \n",
              "\n",
              "   not_func_dry_season source_type  \n",
              "86                   0       other  \n",
              "87                   0         gov  \n",
              "88                   0         gov  \n",
              "89                   0         gov  \n",
              "90                   0         gov  \n",
              "\n",
              "[5 rows x 68 columns]"
            ]
          },
          "execution_count": 46,
          "metadata": {},
          "output_type": "execute_result"
        }
      ],
      "source": [
        "df_2021 = df_clean\n",
        "df_2021.head()"
      ]
    },
    {
      "cell_type": "code",
      "execution_count": null,
      "metadata": {
        "colab": {
          "base_uri": "https://localhost:8080/",
          "height": 386
        },
        "id": "HzKsUz-zAePX",
        "outputId": "da12fb47-1797-400b-99f7-52e90c46da7b"
      },
      "outputs": [
        {
          "data": {
            "text/html": [
              "\n",
              "\n",
              "  <div id=\"df-21350796-1ea7-4cda-becc-2b8d86576b2b\">\n",
              "    <div class=\"colab-df-container\">\n",
              "      <div>\n",
              "<style scoped>\n",
              "    .dataframe tbody tr th:only-of-type {\n",
              "        vertical-align: middle;\n",
              "    }\n",
              "\n",
              "    .dataframe tbody tr th {\n",
              "        vertical-align: top;\n",
              "    }\n",
              "\n",
              "    .dataframe thead th {\n",
              "        text-align: right;\n",
              "    }\n",
              "</style>\n",
              "<table border=\"1\" class=\"dataframe\">\n",
              "  <thead>\n",
              "    <tr style=\"text-align: right;\">\n",
              "      <th></th>\n",
              "      <th>row_id</th>\n",
              "      <th>#lat_deg</th>\n",
              "      <th>#lon_deg</th>\n",
              "      <th>#status_id</th>\n",
              "      <th>#water_source_clean</th>\n",
              "      <th>#water_source_category</th>\n",
              "      <th>#water_tech_clean</th>\n",
              "      <th>#water_tech_category</th>\n",
              "      <th>#facility_type</th>\n",
              "      <th>#clean_country_name</th>\n",
              "      <th>...</th>\n",
              "      <th>updated_timestamp</th>\n",
              "      <th>dataset_title</th>\n",
              "      <th>status_fin</th>\n",
              "      <th>report_month</th>\n",
              "      <th>report_day</th>\n",
              "      <th>report_year</th>\n",
              "      <th>report_date</th>\n",
              "      <th>install_year</th>\n",
              "      <th>not_func_dry_season</th>\n",
              "      <th>source_type</th>\n",
              "    </tr>\n",
              "  </thead>\n",
              "  <tbody>\n",
              "    <tr>\n",
              "      <th>86</th>\n",
              "      <td>71934</td>\n",
              "      <td>7.670000</td>\n",
              "      <td>5.390000</td>\n",
              "      <td>Unknown</td>\n",
              "      <td>NaN</td>\n",
              "      <td>NaN</td>\n",
              "      <td>Public Tapstand</td>\n",
              "      <td>Public Tapstand</td>\n",
              "      <td>Improved</td>\n",
              "      <td>Nigeria</td>\n",
              "      <td>...</td>\n",
              "      <td>12/06/2021 09:12:57 PM</td>\n",
              "      <td>GRID3_Nigeria_2018-2020</td>\n",
              "      <td>not_functional</td>\n",
              "      <td>12</td>\n",
              "      <td>31</td>\n",
              "      <td>2021</td>\n",
              "      <td>2018-09-07</td>\n",
              "      <td>NaN</td>\n",
              "      <td>0</td>\n",
              "      <td>other</td>\n",
              "    </tr>\n",
              "    <tr>\n",
              "      <th>87</th>\n",
              "      <td>671815</td>\n",
              "      <td>6.776732</td>\n",
              "      <td>9.044447</td>\n",
              "      <td>Yes</td>\n",
              "      <td>Borehole/Tubewell</td>\n",
              "      <td>Well</td>\n",
              "      <td>Hand Pump</td>\n",
              "      <td>Hand Pump</td>\n",
              "      <td>Improved</td>\n",
              "      <td>Nigeria</td>\n",
              "      <td>...</td>\n",
              "      <td>06/30/2020 12:56:07 PM</td>\n",
              "      <td>Federal Ministry of Water Resources_Nigeria_2015</td>\n",
              "      <td>functional</td>\n",
              "      <td>12</td>\n",
              "      <td>31</td>\n",
              "      <td>2021</td>\n",
              "      <td>2015-08-22</td>\n",
              "      <td>NaN</td>\n",
              "      <td>0</td>\n",
              "      <td>gov</td>\n",
              "    </tr>\n",
              "    <tr>\n",
              "      <th>88</th>\n",
              "      <td>396372</td>\n",
              "      <td>5.866844</td>\n",
              "      <td>7.373515</td>\n",
              "      <td>Yes</td>\n",
              "      <td>Borehole/Tubewell</td>\n",
              "      <td>Well</td>\n",
              "      <td>Motorized Pump</td>\n",
              "      <td>Motorized Pump</td>\n",
              "      <td>Improved</td>\n",
              "      <td>Nigeria</td>\n",
              "      <td>...</td>\n",
              "      <td>06/30/2020 12:56:07 PM</td>\n",
              "      <td>Federal Ministry of Water Resources_Nigeria_2015</td>\n",
              "      <td>functional</td>\n",
              "      <td>12</td>\n",
              "      <td>31</td>\n",
              "      <td>2021</td>\n",
              "      <td>2015-02-26</td>\n",
              "      <td>NaN</td>\n",
              "      <td>0</td>\n",
              "      <td>gov</td>\n",
              "    </tr>\n",
              "    <tr>\n",
              "      <th>89</th>\n",
              "      <td>674097</td>\n",
              "      <td>6.910172</td>\n",
              "      <td>7.662312</td>\n",
              "      <td>Yes</td>\n",
              "      <td>Borehole/Tubewell</td>\n",
              "      <td>Well</td>\n",
              "      <td>Hand Pump</td>\n",
              "      <td>Hand Pump</td>\n",
              "      <td>Improved</td>\n",
              "      <td>Nigeria</td>\n",
              "      <td>...</td>\n",
              "      <td>06/30/2020 12:56:07 PM</td>\n",
              "      <td>Federal Ministry of Water Resources_Nigeria_2015</td>\n",
              "      <td>functional</td>\n",
              "      <td>12</td>\n",
              "      <td>31</td>\n",
              "      <td>2021</td>\n",
              "      <td>2015-08-30</td>\n",
              "      <td>NaN</td>\n",
              "      <td>0</td>\n",
              "      <td>gov</td>\n",
              "    </tr>\n",
              "    <tr>\n",
              "      <th>90</th>\n",
              "      <td>604999</td>\n",
              "      <td>6.613382</td>\n",
              "      <td>3.298497</td>\n",
              "      <td>Yes</td>\n",
              "      <td>Borehole/Tubewell</td>\n",
              "      <td>Well</td>\n",
              "      <td>Motorized Pump</td>\n",
              "      <td>Motorized Pump</td>\n",
              "      <td>Improved</td>\n",
              "      <td>Nigeria</td>\n",
              "      <td>...</td>\n",
              "      <td>06/30/2020 12:56:07 PM</td>\n",
              "      <td>Federal Ministry of Water Resources_Nigeria_2015</td>\n",
              "      <td>functional</td>\n",
              "      <td>12</td>\n",
              "      <td>31</td>\n",
              "      <td>2021</td>\n",
              "      <td>2015-05-28</td>\n",
              "      <td>2013.0</td>\n",
              "      <td>0</td>\n",
              "      <td>gov</td>\n",
              "    </tr>\n",
              "  </tbody>\n",
              "</table>\n",
              "<p>5 rows × 68 columns</p>\n",
              "</div>\n",
              "      <button class=\"colab-df-convert\" onclick=\"convertToInteractive('df-21350796-1ea7-4cda-becc-2b8d86576b2b')\"\n",
              "              title=\"Convert this dataframe to an interactive table.\"\n",
              "              style=\"display:none;\">\n",
              "\n",
              "  <svg xmlns=\"http://www.w3.org/2000/svg\" height=\"24px\"viewBox=\"0 0 24 24\"\n",
              "       width=\"24px\">\n",
              "    <path d=\"M0 0h24v24H0V0z\" fill=\"none\"/>\n",
              "    <path d=\"M18.56 5.44l.94 2.06.94-2.06 2.06-.94-2.06-.94-.94-2.06-.94 2.06-2.06.94zm-11 1L8.5 8.5l.94-2.06 2.06-.94-2.06-.94L8.5 2.5l-.94 2.06-2.06.94zm10 10l.94 2.06.94-2.06 2.06-.94-2.06-.94-.94-2.06-.94 2.06-2.06.94z\"/><path d=\"M17.41 7.96l-1.37-1.37c-.4-.4-.92-.59-1.43-.59-.52 0-1.04.2-1.43.59L10.3 9.45l-7.72 7.72c-.78.78-.78 2.05 0 2.83L4 21.41c.39.39.9.59 1.41.59.51 0 1.02-.2 1.41-.59l7.78-7.78 2.81-2.81c.8-.78.8-2.07 0-2.86zM5.41 20L4 18.59l7.72-7.72 1.47 1.35L5.41 20z\"/>\n",
              "  </svg>\n",
              "      </button>\n",
              "\n",
              "\n",
              "\n",
              "    <div id=\"df-8c178a03-4654-40c3-9904-d98743e4a563\">\n",
              "      <button class=\"colab-df-quickchart\" onclick=\"quickchart('df-8c178a03-4654-40c3-9904-d98743e4a563')\"\n",
              "              title=\"Suggest charts.\"\n",
              "              style=\"display:none;\">\n",
              "\n",
              "<svg xmlns=\"http://www.w3.org/2000/svg\" height=\"24px\"viewBox=\"0 0 24 24\"\n",
              "     width=\"24px\">\n",
              "    <g>\n",
              "        <path d=\"M19 3H5c-1.1 0-2 .9-2 2v14c0 1.1.9 2 2 2h14c1.1 0 2-.9 2-2V5c0-1.1-.9-2-2-2zM9 17H7v-7h2v7zm4 0h-2V7h2v10zm4 0h-2v-4h2v4z\"/>\n",
              "    </g>\n",
              "</svg>\n",
              "      </button>\n",
              "    </div>\n",
              "\n",
              "<style>\n",
              "  .colab-df-quickchart {\n",
              "    background-color: #E8F0FE;\n",
              "    border: none;\n",
              "    border-radius: 50%;\n",
              "    cursor: pointer;\n",
              "    display: none;\n",
              "    fill: #1967D2;\n",
              "    height: 32px;\n",
              "    padding: 0 0 0 0;\n",
              "    width: 32px;\n",
              "  }\n",
              "\n",
              "  .colab-df-quickchart:hover {\n",
              "    background-color: #E2EBFA;\n",
              "    box-shadow: 0px 1px 2px rgba(60, 64, 67, 0.3), 0px 1px 3px 1px rgba(60, 64, 67, 0.15);\n",
              "    fill: #174EA6;\n",
              "  }\n",
              "\n",
              "  [theme=dark] .colab-df-quickchart {\n",
              "    background-color: #3B4455;\n",
              "    fill: #D2E3FC;\n",
              "  }\n",
              "\n",
              "  [theme=dark] .colab-df-quickchart:hover {\n",
              "    background-color: #434B5C;\n",
              "    box-shadow: 0px 1px 3px 1px rgba(0, 0, 0, 0.15);\n",
              "    filter: drop-shadow(0px 1px 2px rgba(0, 0, 0, 0.3));\n",
              "    fill: #FFFFFF;\n",
              "  }\n",
              "</style>\n",
              "\n",
              "    <script>\n",
              "      async function quickchart(key) {\n",
              "        const containerElement = document.querySelector('#' + key);\n",
              "        const charts = await google.colab.kernel.invokeFunction(\n",
              "            'suggestCharts', [key], {});\n",
              "      }\n",
              "    </script>\n",
              "\n",
              "      <script>\n",
              "\n",
              "function displayQuickchartButton(domScope) {\n",
              "  let quickchartButtonEl =\n",
              "    domScope.querySelector('#df-8c178a03-4654-40c3-9904-d98743e4a563 button.colab-df-quickchart');\n",
              "  quickchartButtonEl.style.display =\n",
              "    google.colab.kernel.accessAllowed ? 'block' : 'none';\n",
              "}\n",
              "\n",
              "        displayQuickchartButton(document);\n",
              "      </script>\n",
              "      <style>\n",
              "    .colab-df-container {\n",
              "      display:flex;\n",
              "      flex-wrap:wrap;\n",
              "      gap: 12px;\n",
              "    }\n",
              "\n",
              "    .colab-df-convert {\n",
              "      background-color: #E8F0FE;\n",
              "      border: none;\n",
              "      border-radius: 50%;\n",
              "      cursor: pointer;\n",
              "      display: none;\n",
              "      fill: #1967D2;\n",
              "      height: 32px;\n",
              "      padding: 0 0 0 0;\n",
              "      width: 32px;\n",
              "    }\n",
              "\n",
              "    .colab-df-convert:hover {\n",
              "      background-color: #E2EBFA;\n",
              "      box-shadow: 0px 1px 2px rgba(60, 64, 67, 0.3), 0px 1px 3px 1px rgba(60, 64, 67, 0.15);\n",
              "      fill: #174EA6;\n",
              "    }\n",
              "\n",
              "    [theme=dark] .colab-df-convert {\n",
              "      background-color: #3B4455;\n",
              "      fill: #D2E3FC;\n",
              "    }\n",
              "\n",
              "    [theme=dark] .colab-df-convert:hover {\n",
              "      background-color: #434B5C;\n",
              "      box-shadow: 0px 1px 3px 1px rgba(0, 0, 0, 0.15);\n",
              "      filter: drop-shadow(0px 1px 2px rgba(0, 0, 0, 0.3));\n",
              "      fill: #FFFFFF;\n",
              "    }\n",
              "  </style>\n",
              "\n",
              "      <script>\n",
              "        const buttonEl =\n",
              "          document.querySelector('#df-21350796-1ea7-4cda-becc-2b8d86576b2b button.colab-df-convert');\n",
              "        buttonEl.style.display =\n",
              "          google.colab.kernel.accessAllowed ? 'block' : 'none';\n",
              "\n",
              "        async function convertToInteractive(key) {\n",
              "          const element = document.querySelector('#df-21350796-1ea7-4cda-becc-2b8d86576b2b');\n",
              "          const dataTable =\n",
              "            await google.colab.kernel.invokeFunction('convertToInteractive',\n",
              "                                                     [key], {});\n",
              "          if (!dataTable) return;\n",
              "\n",
              "          const docLinkHtml = 'Like what you see? Visit the ' +\n",
              "            '<a target=\"_blank\" href=https://colab.research.google.com/notebooks/data_table.ipynb>data table notebook</a>'\n",
              "            + ' to learn more about interactive tables.';\n",
              "          element.innerHTML = '';\n",
              "          dataTable['output_type'] = 'display_data';\n",
              "          await google.colab.output.renderOutput(dataTable, element);\n",
              "          const docLink = document.createElement('div');\n",
              "          docLink.innerHTML = docLinkHtml;\n",
              "          element.appendChild(docLink);\n",
              "        }\n",
              "      </script>\n",
              "    </div>\n",
              "  </div>\n"
            ],
            "text/plain": [
              "    row_id  #lat_deg  #lon_deg #status_id #water_source_clean  \\\n",
              "86   71934  7.670000  5.390000    Unknown                 NaN   \n",
              "87  671815  6.776732  9.044447        Yes   Borehole/Tubewell   \n",
              "88  396372  5.866844  7.373515        Yes   Borehole/Tubewell   \n",
              "89  674097  6.910172  7.662312        Yes   Borehole/Tubewell   \n",
              "90  604999  6.613382  3.298497        Yes   Borehole/Tubewell   \n",
              "\n",
              "   #water_source_category #water_tech_clean #water_tech_category  \\\n",
              "86                    NaN   Public Tapstand      Public Tapstand   \n",
              "87                   Well         Hand Pump            Hand Pump   \n",
              "88                   Well    Motorized Pump       Motorized Pump   \n",
              "89                   Well         Hand Pump            Hand Pump   \n",
              "90                   Well    Motorized Pump       Motorized Pump   \n",
              "\n",
              "   #facility_type #clean_country_name  ...       updated_timestamp  \\\n",
              "86       Improved             Nigeria  ...  12/06/2021 09:12:57 PM   \n",
              "87       Improved             Nigeria  ...  06/30/2020 12:56:07 PM   \n",
              "88       Improved             Nigeria  ...  06/30/2020 12:56:07 PM   \n",
              "89       Improved             Nigeria  ...  06/30/2020 12:56:07 PM   \n",
              "90       Improved             Nigeria  ...  06/30/2020 12:56:07 PM   \n",
              "\n",
              "                                       dataset_title      status_fin  \\\n",
              "86                           GRID3_Nigeria_2018-2020  not_functional   \n",
              "87  Federal Ministry of Water Resources_Nigeria_2015      functional   \n",
              "88  Federal Ministry of Water Resources_Nigeria_2015      functional   \n",
              "89  Federal Ministry of Water Resources_Nigeria_2015      functional   \n",
              "90  Federal Ministry of Water Resources_Nigeria_2015      functional   \n",
              "\n",
              "   report_month report_day report_year report_date install_year  \\\n",
              "86           12         31        2021  2018-09-07          NaN   \n",
              "87           12         31        2021  2015-08-22          NaN   \n",
              "88           12         31        2021  2015-02-26          NaN   \n",
              "89           12         31        2021  2015-08-30          NaN   \n",
              "90           12         31        2021  2015-05-28       2013.0   \n",
              "\n",
              "   not_func_dry_season source_type  \n",
              "86                   0       other  \n",
              "87                   0         gov  \n",
              "88                   0         gov  \n",
              "89                   0         gov  \n",
              "90                   0         gov  \n",
              "\n",
              "[5 rows x 68 columns]"
            ]
          },
          "execution_count": 47,
          "metadata": {},
          "output_type": "execute_result"
        }
      ],
      "source": [
        "# to 2021\n",
        "df_2021['report_month'] = 12\n",
        "df_2021['report_day'] = 31\n",
        "df_2021['report_year'] = 2021\n",
        "df_2021.head()"
      ]
    },
    {
      "cell_type": "markdown",
      "metadata": {
        "id": "j9mANe1QqR6R"
      },
      "source": [
        "# Secondary Data\n",
        "[Global Data Lab](https://globaldatalab.org/)\n",
        "\n",
        "[World Bank Development Indicators](https://databank.worldbank.org/source/world-development-indicators)"
      ]
    },
    {
      "cell_type": "markdown",
      "metadata": {
        "id": "_yctjsze9UW7"
      },
      "source": [
        "## I. Load"
      ]
    },
    {
      "cell_type": "code",
      "execution_count": null,
      "metadata": {
        "id": "eFQwnnKGoa5g"
      },
      "outputs": [],
      "source": [
        "# Load secondary data\n",
        "# FILE_PATH = '/content/gdrive/My Drive/Capstone_Sum23/03_Data/01_wpdx/'\n",
        "# FILE_PATH2 = '/content/gdrive/My Drive/Capstone_Sum23/03_Data/02_secondary/'\n",
        "\n",
        "# Load wpdx data\n",
        "# wpdx_df = pd.read_csv(FILE_PATH + 'clean_mapped_wpdx_sierraleone_nigeria_uganda.csv')\n",
        "wpdx_df = df_2021\n",
        "\n",
        "# Load secondary indicators - country level\n",
        "country2_df = pd.read_csv('data/esg_data_country.csv')\n",
        "\n",
        "# Load secondary indicators - region level\n",
        "region2_df = pd.read_csv('data/gdl_data_region.csv')\n"
      ]
    },
    {
      "cell_type": "markdown",
      "metadata": {
        "id": "itthshG99cez"
      },
      "source": [
        "## II. Initial EDA/Cleaning"
      ]
    },
    {
      "cell_type": "markdown",
      "metadata": {
        "id": "J7JwfL8_-mZB"
      },
      "source": [
        "General Information"
      ]
    },
    {
      "cell_type": "code",
      "execution_count": null,
      "metadata": {
        "colab": {
          "base_uri": "https://localhost:8080/"
        },
        "id": "e-pn57Pr9tyk",
        "outputId": "44602748-00e4-41e6-efdf-cd588fa5554b"
      },
      "outputs": [
        {
          "name": "stdout",
          "output_type": "stream",
          "text": [
            "<class 'pandas.core.frame.DataFrame'>\n",
            "RangeIndex: 54 entries, 0 to 53\n",
            "Data columns (total 17 columns):\n",
            " #   Column                                                                                          Non-Null Count  Dtype  \n",
            "---  ------                                                                                          --------------  -----  \n",
            " 0   Country                                                                                         54 non-null     object \n",
            " 1   Year                                                                                            54 non-null     int64  \n",
            " 2   Access to electricity (% of population)                                                         48 non-null     float64\n",
            " 3   Agricultural land (% of land area)                                                              48 non-null     float64\n",
            " 4   Agriculture, forestry, and fishing, value added (% of GDP)                                      53 non-null     float64\n",
            " 5   Annual freshwater withdrawals, total (% of internal resources)                                  48 non-null     float64\n",
            " 6   Cooling Degree Days                                                                             48 non-null     float64\n",
            " 7   GDP growth (annual %)                                                                           54 non-null     float64\n",
            " 8   Government Effectiveness: Estimate                                                              51 non-null     float64\n",
            " 9   Heat Index 35                                                                                   48 non-null     float64\n",
            " 10  Heating Degree Days                                                                             48 non-null     float64\n",
            " 11  Land Surface Temperature                                                                        51 non-null     float64\n",
            " 12  Level of water stress: freshwater withdrawal as a proportion of available freshwater resources  48 non-null     float64\n",
            " 13  Political Stability and Absence of Violence/Terrorism: Estimate                                 51 non-null     float64\n",
            " 14  Regulatory Quality: Estimate                                                                    51 non-null     float64\n",
            " 15  Rule of Law: Estimate                                                                           51 non-null     float64\n",
            " 16  Voice and Accountability: Estimate                                                              51 non-null     float64\n",
            "dtypes: float64(15), int64(1), object(1)\n",
            "memory usage: 7.3+ KB\n"
          ]
        }
      ],
      "source": [
        "country2_df.info()\n",
        "# Not too many nulls. Since it is not decided how the data will be split, nulls will not be replaced (not too many and tree models can handle it)."
      ]
    },
    {
      "cell_type": "code",
      "execution_count": null,
      "metadata": {
        "colab": {
          "base_uri": "https://localhost:8080/"
        },
        "id": "H1Y-LyAL-VzT",
        "outputId": "2d0c54f8-788b-45ff-b3e1-ca0a302618dc"
      },
      "outputs": [
        {
          "name": "stdout",
          "output_type": "stream",
          "text": [
            "<class 'pandas.core.frame.DataFrame'>\n",
            "RangeIndex: 1088 entries, 0 to 1087\n",
            "Data columns (total 8 columns):\n",
            " #   Column                       Non-Null Count  Dtype  \n",
            "---  ------                       --------------  -----  \n",
            " 0   Country                      1088 non-null   object \n",
            " 1   Region                       1088 non-null   object \n",
            " 2   Year                         1088 non-null   int64  \n",
            " 3   log_gni_cap_1000usd_2011ppp  1088 non-null   float64\n",
            " 4   hdi                          1088 non-null   float64\n",
            " 5   perc_emp_women_agric         1066 non-null   object \n",
            " 6   perc_emp_men_agric           1066 non-null   object \n",
            " 7   avg_yrs_school_female        1088 non-null   float64\n",
            "dtypes: float64(3), int64(1), object(4)\n",
            "memory usage: 68.1+ KB\n"
          ]
        }
      ],
      "source": [
        "region2_df.info()"
      ]
    },
    {
      "cell_type": "code",
      "execution_count": null,
      "metadata": {
        "id": "RWovb1XRSnX3"
      },
      "outputs": [],
      "source": [
        "def float_convert(val):\n",
        "  \"\"\"\n",
        "  Convert column values to float values.\n",
        "\n",
        "  Args: row value\n",
        "\n",
        "  Result: new float value\n",
        "  \"\"\"\n",
        "  if val == '#DIV/0!':\n",
        "    val = np.nan\n",
        "  else:\n",
        "    val = float(val)\n",
        "  return val"
      ]
    },
    {
      "cell_type": "markdown",
      "metadata": {
        "id": "RzDOMNBA-3a8"
      },
      "source": [
        "Columns Present"
      ]
    },
    {
      "cell_type": "code",
      "execution_count": null,
      "metadata": {
        "colab": {
          "base_uri": "https://localhost:8080/"
        },
        "id": "wRJaR51c-6CW",
        "outputId": "a94b80b6-3640-4283-a59e-de7317548cd1"
      },
      "outputs": [
        {
          "name": "stdout",
          "output_type": "stream",
          "text": [
            "['Country', 'Year', 'Access to electricity (% of population)', 'Agricultural land (% of land area)', 'Agriculture, forestry, and fishing, value added (% of GDP)', 'Annual freshwater withdrawals, total (% of internal resources)', 'Cooling Degree Days', 'GDP growth (annual %)', 'Government Effectiveness: Estimate', 'Heat Index 35', 'Heating Degree Days', 'Land Surface Temperature', 'Level of water stress: freshwater withdrawal as a proportion of available freshwater resources', 'Political Stability and Absence of Violence/Terrorism: Estimate', 'Regulatory Quality: Estimate', 'Rule of Law: Estimate', 'Voice and Accountability: Estimate']\n"
          ]
        }
      ],
      "source": [
        "print(list(country2_df.columns))"
      ]
    },
    {
      "cell_type": "code",
      "execution_count": null,
      "metadata": {
        "colab": {
          "base_uri": "https://localhost:8080/"
        },
        "id": "HLhQ03tH-55a",
        "outputId": "8d4570e4-536d-4ae2-a3ab-56cb6d644454"
      },
      "outputs": [
        {
          "name": "stdout",
          "output_type": "stream",
          "text": [
            "['Country', 'Region', 'Year', 'log_gni_cap_1000usd_2011ppp', 'hdi', 'perc_emp_women_agric', 'perc_emp_men_agric', 'avg_yrs_school_female']\n"
          ]
        }
      ],
      "source": [
        "print(list(region2_df.columns))"
      ]
    },
    {
      "cell_type": "markdown",
      "metadata": {
        "id": "pfsBfPSy9gaF"
      },
      "source": [
        "## III. Join Secondary Data with WPdx"
      ]
    },
    {
      "cell_type": "code",
      "execution_count": null,
      "metadata": {
        "colab": {
          "base_uri": "https://localhost:8080/"
        },
        "id": "Ybu1fSHNY5Rt",
        "outputId": "e2bf57ce-6563-41dd-9ad7-269b0506b335"
      },
      "outputs": [
        {
          "name": "stdout",
          "output_type": "stream",
          "text": [
            "Before join\n",
            "wpdx (214750, 69)\n",
            "country2 (54, 18)\n",
            "\n",
            "After join\n",
            "wpdx2 (214750, 84)\n"
          ]
        }
      ],
      "source": [
        "# Join wpdx and country indicators\n",
        "wpdx_df['country2_key'] = wpdx_df['#clean_country_name'] + '_' + wpdx_df['report_year'].astype(str)\n",
        "country2_df['country2_key'] = country2_df['Country'] + '_' + country2_df['Year'].astype(str)\n",
        "\n",
        "print('Before join')\n",
        "print('wpdx', wpdx_df.shape)\n",
        "print('country2', country2_df.shape)\n",
        "\n",
        "wpdx_df2 = pd.merge(wpdx_df, country2_df, on='country2_key', how='left')\n",
        "wpdx_df2 = wpdx_df2.drop(columns = ['Country', 'Year'])\n",
        "print()\n",
        "print('After join')\n",
        "print('wpdx2', wpdx_df2.shape)"
      ]
    },
    {
      "cell_type": "code",
      "execution_count": null,
      "metadata": {
        "id": "kmG2RUEMGGTu"
      },
      "outputs": [],
      "source": [
        "def wpdx_region_key(df):\n",
        "  if df['#clean_country_name'] == 'Sierra Leone':\n",
        "    result = df['#clean_country_name'] + '_' + df['#clean_adm2'] + '_' + str(df['report_year'])\n",
        "  else:\n",
        "    result = df['#clean_country_name'] + '_' + df['#clean_adm1'] + '_' + str(df['report_year'])\n",
        "  return result"
      ]
    },
    {
      "cell_type": "code",
      "execution_count": null,
      "metadata": {
        "colab": {
          "base_uri": "https://localhost:8080/"
        },
        "id": "kGF2P0Qu7ASQ",
        "outputId": "40f8f660-81fd-45f6-f5fc-8c5a4b8859cb"
      },
      "outputs": [
        {
          "name": "stdout",
          "output_type": "stream",
          "text": [
            "Before join\n",
            "wpdx2 (214750, 85)\n",
            "region2 (1088, 9)\n",
            "\n",
            "After join\n",
            "wpdx3 (214750, 90)\n"
          ]
        }
      ],
      "source": [
        "# Join wpdx_country with region indicators\n",
        "wpdx_df2['region2_key'] = wpdx_df2.apply(lambda s: wpdx_region_key(s), axis=1)\n",
        "region2_df['region2_key'] = region2_df['Country'] + '_' + region2_df['Region'] + '_' + region2_df['Year'].astype(str)\n",
        "\n",
        "print('Before join')\n",
        "print('wpdx2', wpdx_df2.shape)\n",
        "print('region2', region2_df.shape)\n",
        "\n",
        "wpdx_df3 = pd.merge(wpdx_df2, region2_df, on='region2_key', how='left')\n",
        "wpdx_df3 = wpdx_df3.drop(columns = ['Country', 'Region', 'Year'])\n",
        "print()\n",
        "print('After join')\n",
        "print('wpdx3', wpdx_df3.shape)"
      ]
    },
    {
      "cell_type": "code",
      "execution_count": null,
      "metadata": {
        "colab": {
          "base_uri": "https://localhost:8080/",
          "height": 539
        },
        "id": "NH5bby2m8hFU",
        "outputId": "56b7ee13-4873-4c8e-abd6-7eca0081f3e3"
      },
      "outputs": [
        {
          "data": {
            "text/html": [
              "\n",
              "\n",
              "  <div id=\"df-94436f54-c8c7-4074-a406-0cc37a2a704f\">\n",
              "    <div class=\"colab-df-container\">\n",
              "      <div>\n",
              "<style scoped>\n",
              "    .dataframe tbody tr th:only-of-type {\n",
              "        vertical-align: middle;\n",
              "    }\n",
              "\n",
              "    .dataframe tbody tr th {\n",
              "        vertical-align: top;\n",
              "    }\n",
              "\n",
              "    .dataframe thead th {\n",
              "        text-align: right;\n",
              "    }\n",
              "</style>\n",
              "<table border=\"1\" class=\"dataframe\">\n",
              "  <thead>\n",
              "    <tr style=\"text-align: right;\">\n",
              "      <th></th>\n",
              "      <th>row_id</th>\n",
              "      <th>#lat_deg</th>\n",
              "      <th>#lon_deg</th>\n",
              "      <th>#status_id</th>\n",
              "      <th>#water_source_clean</th>\n",
              "      <th>#water_source_category</th>\n",
              "      <th>#water_tech_clean</th>\n",
              "      <th>#water_tech_category</th>\n",
              "      <th>#facility_type</th>\n",
              "      <th>#clean_country_name</th>\n",
              "      <th>...</th>\n",
              "      <th>Political Stability and Absence of Violence/Terrorism: Estimate</th>\n",
              "      <th>Regulatory Quality: Estimate</th>\n",
              "      <th>Rule of Law: Estimate</th>\n",
              "      <th>Voice and Accountability: Estimate</th>\n",
              "      <th>region2_key</th>\n",
              "      <th>log_gni_cap_1000usd_2011ppp</th>\n",
              "      <th>hdi</th>\n",
              "      <th>perc_emp_women_agric</th>\n",
              "      <th>perc_emp_men_agric</th>\n",
              "      <th>avg_yrs_school_female</th>\n",
              "    </tr>\n",
              "  </thead>\n",
              "  <tbody>\n",
              "    <tr>\n",
              "      <th>0</th>\n",
              "      <td>71934</td>\n",
              "      <td>7.670000</td>\n",
              "      <td>5.390000</td>\n",
              "      <td>Unknown</td>\n",
              "      <td>NaN</td>\n",
              "      <td>NaN</td>\n",
              "      <td>Public Tapstand</td>\n",
              "      <td>Public Tapstand</td>\n",
              "      <td>Improved</td>\n",
              "      <td>Nigeria</td>\n",
              "      <td>...</td>\n",
              "      <td>-1.779303</td>\n",
              "      <td>-0.932638</td>\n",
              "      <td>-0.855664</td>\n",
              "      <td>-0.636556</td>\n",
              "      <td>Nigeria_Ekiti_2021</td>\n",
              "      <td>8.483</td>\n",
              "      <td>0.614</td>\n",
              "      <td>0.01</td>\n",
              "      <td>42.1</td>\n",
              "      <td>8.7700</td>\n",
              "    </tr>\n",
              "    <tr>\n",
              "      <th>1</th>\n",
              "      <td>671815</td>\n",
              "      <td>6.776732</td>\n",
              "      <td>9.044447</td>\n",
              "      <td>Yes</td>\n",
              "      <td>Borehole/Tubewell</td>\n",
              "      <td>Well</td>\n",
              "      <td>Hand Pump</td>\n",
              "      <td>Hand Pump</td>\n",
              "      <td>Improved</td>\n",
              "      <td>Nigeria</td>\n",
              "      <td>...</td>\n",
              "      <td>-1.779303</td>\n",
              "      <td>-0.932638</td>\n",
              "      <td>-0.855664</td>\n",
              "      <td>-0.636556</td>\n",
              "      <td>Nigeria_Benue_2021</td>\n",
              "      <td>8.373</td>\n",
              "      <td>0.604</td>\n",
              "      <td>0.01</td>\n",
              "      <td>61.8</td>\n",
              "      <td>6.2180</td>\n",
              "    </tr>\n",
              "    <tr>\n",
              "      <th>2</th>\n",
              "      <td>396372</td>\n",
              "      <td>5.866844</td>\n",
              "      <td>7.373515</td>\n",
              "      <td>Yes</td>\n",
              "      <td>Borehole/Tubewell</td>\n",
              "      <td>Well</td>\n",
              "      <td>Motorized Pump</td>\n",
              "      <td>Motorized Pump</td>\n",
              "      <td>Improved</td>\n",
              "      <td>Nigeria</td>\n",
              "      <td>...</td>\n",
              "      <td>-1.779303</td>\n",
              "      <td>-0.932638</td>\n",
              "      <td>-0.855664</td>\n",
              "      <td>-0.636556</td>\n",
              "      <td>Nigeria_Imo_2021</td>\n",
              "      <td>8.965</td>\n",
              "      <td>0.647</td>\n",
              "      <td>0.01</td>\n",
              "      <td>10.9</td>\n",
              "      <td>9.7380</td>\n",
              "    </tr>\n",
              "    <tr>\n",
              "      <th>3</th>\n",
              "      <td>674097</td>\n",
              "      <td>6.910172</td>\n",
              "      <td>7.662312</td>\n",
              "      <td>Yes</td>\n",
              "      <td>Borehole/Tubewell</td>\n",
              "      <td>Well</td>\n",
              "      <td>Hand Pump</td>\n",
              "      <td>Hand Pump</td>\n",
              "      <td>Improved</td>\n",
              "      <td>Nigeria</td>\n",
              "      <td>...</td>\n",
              "      <td>-1.779303</td>\n",
              "      <td>-0.932638</td>\n",
              "      <td>-0.855664</td>\n",
              "      <td>-0.636556</td>\n",
              "      <td>Nigeria_Benue_2021</td>\n",
              "      <td>8.373</td>\n",
              "      <td>0.604</td>\n",
              "      <td>0.01</td>\n",
              "      <td>61.8</td>\n",
              "      <td>6.2180</td>\n",
              "    </tr>\n",
              "    <tr>\n",
              "      <th>4</th>\n",
              "      <td>604999</td>\n",
              "      <td>6.613382</td>\n",
              "      <td>3.298497</td>\n",
              "      <td>Yes</td>\n",
              "      <td>Borehole/Tubewell</td>\n",
              "      <td>Well</td>\n",
              "      <td>Motorized Pump</td>\n",
              "      <td>Motorized Pump</td>\n",
              "      <td>Improved</td>\n",
              "      <td>Nigeria</td>\n",
              "      <td>...</td>\n",
              "      <td>-1.779303</td>\n",
              "      <td>-0.932638</td>\n",
              "      <td>-0.855664</td>\n",
              "      <td>-0.636556</td>\n",
              "      <td>Nigeria_Lagos_2021</td>\n",
              "      <td>9.051</td>\n",
              "      <td>0.681</td>\n",
              "      <td>0.01</td>\n",
              "      <td>1.62</td>\n",
              "      <td>11.4300</td>\n",
              "    </tr>\n",
              "    <tr>\n",
              "      <th>...</th>\n",
              "      <td>...</td>\n",
              "      <td>...</td>\n",
              "      <td>...</td>\n",
              "      <td>...</td>\n",
              "      <td>...</td>\n",
              "      <td>...</td>\n",
              "      <td>...</td>\n",
              "      <td>...</td>\n",
              "      <td>...</td>\n",
              "      <td>...</td>\n",
              "      <td>...</td>\n",
              "      <td>...</td>\n",
              "      <td>...</td>\n",
              "      <td>...</td>\n",
              "      <td>...</td>\n",
              "      <td>...</td>\n",
              "      <td>...</td>\n",
              "      <td>...</td>\n",
              "      <td>...</td>\n",
              "      <td>...</td>\n",
              "      <td>...</td>\n",
              "    </tr>\n",
              "    <tr>\n",
              "      <th>214745</th>\n",
              "      <td>113355</td>\n",
              "      <td>1.055088</td>\n",
              "      <td>33.913393</td>\n",
              "      <td>Yes</td>\n",
              "      <td>Borehole/Tubewell</td>\n",
              "      <td>Well</td>\n",
              "      <td>NaN</td>\n",
              "      <td>NaN</td>\n",
              "      <td>Improved</td>\n",
              "      <td>Uganda</td>\n",
              "      <td>...</td>\n",
              "      <td>-0.859658</td>\n",
              "      <td>-0.476885</td>\n",
              "      <td>-0.352074</td>\n",
              "      <td>-0.821765</td>\n",
              "      <td>Uganda_Eastern_2021</td>\n",
              "      <td>7.584</td>\n",
              "      <td>0.525</td>\n",
              "      <td>#DIV/0!</td>\n",
              "      <td>#DIV/0!</td>\n",
              "      <td>4.6205</td>\n",
              "    </tr>\n",
              "    <tr>\n",
              "      <th>214746</th>\n",
              "      <td>168160</td>\n",
              "      <td>2.575640</td>\n",
              "      <td>34.647301</td>\n",
              "      <td>No</td>\n",
              "      <td>Borehole/Tubewell</td>\n",
              "      <td>Well</td>\n",
              "      <td>NaN</td>\n",
              "      <td>NaN</td>\n",
              "      <td>Improved</td>\n",
              "      <td>Uganda</td>\n",
              "      <td>...</td>\n",
              "      <td>-0.859658</td>\n",
              "      <td>-0.476885</td>\n",
              "      <td>-0.352074</td>\n",
              "      <td>-0.821765</td>\n",
              "      <td>Uganda_Northern_2021</td>\n",
              "      <td>7.351</td>\n",
              "      <td>0.478</td>\n",
              "      <td>#DIV/0!</td>\n",
              "      <td>#DIV/0!</td>\n",
              "      <td>3.3115</td>\n",
              "    </tr>\n",
              "    <tr>\n",
              "      <th>214747</th>\n",
              "      <td>109675</td>\n",
              "      <td>0.611798</td>\n",
              "      <td>33.304118</td>\n",
              "      <td>No</td>\n",
              "      <td>Borehole/Tubewell</td>\n",
              "      <td>Well</td>\n",
              "      <td>NaN</td>\n",
              "      <td>NaN</td>\n",
              "      <td>Improved</td>\n",
              "      <td>Uganda</td>\n",
              "      <td>...</td>\n",
              "      <td>-0.859658</td>\n",
              "      <td>-0.476885</td>\n",
              "      <td>-0.352074</td>\n",
              "      <td>-0.821765</td>\n",
              "      <td>Uganda_Eastern_2021</td>\n",
              "      <td>7.584</td>\n",
              "      <td>0.525</td>\n",
              "      <td>#DIV/0!</td>\n",
              "      <td>#DIV/0!</td>\n",
              "      <td>4.6205</td>\n",
              "    </tr>\n",
              "    <tr>\n",
              "      <th>214748</th>\n",
              "      <td>751757</td>\n",
              "      <td>1.056971</td>\n",
              "      <td>34.270544</td>\n",
              "      <td>Unknown</td>\n",
              "      <td>Protected Spring</td>\n",
              "      <td>Spring</td>\n",
              "      <td>NaN</td>\n",
              "      <td>NaN</td>\n",
              "      <td>Improved</td>\n",
              "      <td>Uganda</td>\n",
              "      <td>...</td>\n",
              "      <td>-0.859658</td>\n",
              "      <td>-0.476885</td>\n",
              "      <td>-0.352074</td>\n",
              "      <td>-0.821765</td>\n",
              "      <td>Uganda_Eastern_2021</td>\n",
              "      <td>7.584</td>\n",
              "      <td>0.525</td>\n",
              "      <td>#DIV/0!</td>\n",
              "      <td>#DIV/0!</td>\n",
              "      <td>4.6205</td>\n",
              "    </tr>\n",
              "    <tr>\n",
              "      <th>214749</th>\n",
              "      <td>20680</td>\n",
              "      <td>3.481256</td>\n",
              "      <td>31.085158</td>\n",
              "      <td>Yes</td>\n",
              "      <td>Borehole/Tubewell</td>\n",
              "      <td>Well</td>\n",
              "      <td>NaN</td>\n",
              "      <td>NaN</td>\n",
              "      <td>Improved</td>\n",
              "      <td>Uganda</td>\n",
              "      <td>...</td>\n",
              "      <td>-0.859658</td>\n",
              "      <td>-0.476885</td>\n",
              "      <td>-0.352074</td>\n",
              "      <td>-0.821765</td>\n",
              "      <td>Uganda_Northern_2021</td>\n",
              "      <td>7.351</td>\n",
              "      <td>0.478</td>\n",
              "      <td>#DIV/0!</td>\n",
              "      <td>#DIV/0!</td>\n",
              "      <td>3.3115</td>\n",
              "    </tr>\n",
              "  </tbody>\n",
              "</table>\n",
              "<p>214750 rows × 90 columns</p>\n",
              "</div>\n",
              "      <button class=\"colab-df-convert\" onclick=\"convertToInteractive('df-94436f54-c8c7-4074-a406-0cc37a2a704f')\"\n",
              "              title=\"Convert this dataframe to an interactive table.\"\n",
              "              style=\"display:none;\">\n",
              "\n",
              "  <svg xmlns=\"http://www.w3.org/2000/svg\" height=\"24px\"viewBox=\"0 0 24 24\"\n",
              "       width=\"24px\">\n",
              "    <path d=\"M0 0h24v24H0V0z\" fill=\"none\"/>\n",
              "    <path d=\"M18.56 5.44l.94 2.06.94-2.06 2.06-.94-2.06-.94-.94-2.06-.94 2.06-2.06.94zm-11 1L8.5 8.5l.94-2.06 2.06-.94-2.06-.94L8.5 2.5l-.94 2.06-2.06.94zm10 10l.94 2.06.94-2.06 2.06-.94-2.06-.94-.94-2.06-.94 2.06-2.06.94z\"/><path d=\"M17.41 7.96l-1.37-1.37c-.4-.4-.92-.59-1.43-.59-.52 0-1.04.2-1.43.59L10.3 9.45l-7.72 7.72c-.78.78-.78 2.05 0 2.83L4 21.41c.39.39.9.59 1.41.59.51 0 1.02-.2 1.41-.59l7.78-7.78 2.81-2.81c.8-.78.8-2.07 0-2.86zM5.41 20L4 18.59l7.72-7.72 1.47 1.35L5.41 20z\"/>\n",
              "  </svg>\n",
              "      </button>\n",
              "\n",
              "\n",
              "\n",
              "    <div id=\"df-11a521c0-f80c-4bed-be0a-6081c69d3833\">\n",
              "      <button class=\"colab-df-quickchart\" onclick=\"quickchart('df-11a521c0-f80c-4bed-be0a-6081c69d3833')\"\n",
              "              title=\"Suggest charts.\"\n",
              "              style=\"display:none;\">\n",
              "\n",
              "<svg xmlns=\"http://www.w3.org/2000/svg\" height=\"24px\"viewBox=\"0 0 24 24\"\n",
              "     width=\"24px\">\n",
              "    <g>\n",
              "        <path d=\"M19 3H5c-1.1 0-2 .9-2 2v14c0 1.1.9 2 2 2h14c1.1 0 2-.9 2-2V5c0-1.1-.9-2-2-2zM9 17H7v-7h2v7zm4 0h-2V7h2v10zm4 0h-2v-4h2v4z\"/>\n",
              "    </g>\n",
              "</svg>\n",
              "      </button>\n",
              "    </div>\n",
              "\n",
              "<style>\n",
              "  .colab-df-quickchart {\n",
              "    background-color: #E8F0FE;\n",
              "    border: none;\n",
              "    border-radius: 50%;\n",
              "    cursor: pointer;\n",
              "    display: none;\n",
              "    fill: #1967D2;\n",
              "    height: 32px;\n",
              "    padding: 0 0 0 0;\n",
              "    width: 32px;\n",
              "  }\n",
              "\n",
              "  .colab-df-quickchart:hover {\n",
              "    background-color: #E2EBFA;\n",
              "    box-shadow: 0px 1px 2px rgba(60, 64, 67, 0.3), 0px 1px 3px 1px rgba(60, 64, 67, 0.15);\n",
              "    fill: #174EA6;\n",
              "  }\n",
              "\n",
              "  [theme=dark] .colab-df-quickchart {\n",
              "    background-color: #3B4455;\n",
              "    fill: #D2E3FC;\n",
              "  }\n",
              "\n",
              "  [theme=dark] .colab-df-quickchart:hover {\n",
              "    background-color: #434B5C;\n",
              "    box-shadow: 0px 1px 3px 1px rgba(0, 0, 0, 0.15);\n",
              "    filter: drop-shadow(0px 1px 2px rgba(0, 0, 0, 0.3));\n",
              "    fill: #FFFFFF;\n",
              "  }\n",
              "</style>\n",
              "\n",
              "    <script>\n",
              "      async function quickchart(key) {\n",
              "        const containerElement = document.querySelector('#' + key);\n",
              "        const charts = await google.colab.kernel.invokeFunction(\n",
              "            'suggestCharts', [key], {});\n",
              "      }\n",
              "    </script>\n",
              "\n",
              "      <script>\n",
              "\n",
              "function displayQuickchartButton(domScope) {\n",
              "  let quickchartButtonEl =\n",
              "    domScope.querySelector('#df-11a521c0-f80c-4bed-be0a-6081c69d3833 button.colab-df-quickchart');\n",
              "  quickchartButtonEl.style.display =\n",
              "    google.colab.kernel.accessAllowed ? 'block' : 'none';\n",
              "}\n",
              "\n",
              "        displayQuickchartButton(document);\n",
              "      </script>\n",
              "      <style>\n",
              "    .colab-df-container {\n",
              "      display:flex;\n",
              "      flex-wrap:wrap;\n",
              "      gap: 12px;\n",
              "    }\n",
              "\n",
              "    .colab-df-convert {\n",
              "      background-color: #E8F0FE;\n",
              "      border: none;\n",
              "      border-radius: 50%;\n",
              "      cursor: pointer;\n",
              "      display: none;\n",
              "      fill: #1967D2;\n",
              "      height: 32px;\n",
              "      padding: 0 0 0 0;\n",
              "      width: 32px;\n",
              "    }\n",
              "\n",
              "    .colab-df-convert:hover {\n",
              "      background-color: #E2EBFA;\n",
              "      box-shadow: 0px 1px 2px rgba(60, 64, 67, 0.3), 0px 1px 3px 1px rgba(60, 64, 67, 0.15);\n",
              "      fill: #174EA6;\n",
              "    }\n",
              "\n",
              "    [theme=dark] .colab-df-convert {\n",
              "      background-color: #3B4455;\n",
              "      fill: #D2E3FC;\n",
              "    }\n",
              "\n",
              "    [theme=dark] .colab-df-convert:hover {\n",
              "      background-color: #434B5C;\n",
              "      box-shadow: 0px 1px 3px 1px rgba(0, 0, 0, 0.15);\n",
              "      filter: drop-shadow(0px 1px 2px rgba(0, 0, 0, 0.3));\n",
              "      fill: #FFFFFF;\n",
              "    }\n",
              "  </style>\n",
              "\n",
              "      <script>\n",
              "        const buttonEl =\n",
              "          document.querySelector('#df-94436f54-c8c7-4074-a406-0cc37a2a704f button.colab-df-convert');\n",
              "        buttonEl.style.display =\n",
              "          google.colab.kernel.accessAllowed ? 'block' : 'none';\n",
              "\n",
              "        async function convertToInteractive(key) {\n",
              "          const element = document.querySelector('#df-94436f54-c8c7-4074-a406-0cc37a2a704f');\n",
              "          const dataTable =\n",
              "            await google.colab.kernel.invokeFunction('convertToInteractive',\n",
              "                                                     [key], {});\n",
              "          if (!dataTable) return;\n",
              "\n",
              "          const docLinkHtml = 'Like what you see? Visit the ' +\n",
              "            '<a target=\"_blank\" href=https://colab.research.google.com/notebooks/data_table.ipynb>data table notebook</a>'\n",
              "            + ' to learn more about interactive tables.';\n",
              "          element.innerHTML = '';\n",
              "          dataTable['output_type'] = 'display_data';\n",
              "          await google.colab.output.renderOutput(dataTable, element);\n",
              "          const docLink = document.createElement('div');\n",
              "          docLink.innerHTML = docLinkHtml;\n",
              "          element.appendChild(docLink);\n",
              "        }\n",
              "      </script>\n",
              "    </div>\n",
              "  </div>\n"
            ],
            "text/plain": [
              "        row_id  #lat_deg   #lon_deg #status_id #water_source_clean  \\\n",
              "0        71934  7.670000   5.390000    Unknown                 NaN   \n",
              "1       671815  6.776732   9.044447        Yes   Borehole/Tubewell   \n",
              "2       396372  5.866844   7.373515        Yes   Borehole/Tubewell   \n",
              "3       674097  6.910172   7.662312        Yes   Borehole/Tubewell   \n",
              "4       604999  6.613382   3.298497        Yes   Borehole/Tubewell   \n",
              "...        ...       ...        ...        ...                 ...   \n",
              "214745  113355  1.055088  33.913393        Yes   Borehole/Tubewell   \n",
              "214746  168160  2.575640  34.647301         No   Borehole/Tubewell   \n",
              "214747  109675  0.611798  33.304118         No   Borehole/Tubewell   \n",
              "214748  751757  1.056971  34.270544    Unknown    Protected Spring   \n",
              "214749   20680  3.481256  31.085158        Yes   Borehole/Tubewell   \n",
              "\n",
              "       #water_source_category #water_tech_clean #water_tech_category  \\\n",
              "0                         NaN   Public Tapstand      Public Tapstand   \n",
              "1                        Well         Hand Pump            Hand Pump   \n",
              "2                        Well    Motorized Pump       Motorized Pump   \n",
              "3                        Well         Hand Pump            Hand Pump   \n",
              "4                        Well    Motorized Pump       Motorized Pump   \n",
              "...                       ...               ...                  ...   \n",
              "214745                   Well               NaN                  NaN   \n",
              "214746                   Well               NaN                  NaN   \n",
              "214747                   Well               NaN                  NaN   \n",
              "214748                 Spring               NaN                  NaN   \n",
              "214749                   Well               NaN                  NaN   \n",
              "\n",
              "       #facility_type #clean_country_name  ...  \\\n",
              "0            Improved             Nigeria  ...   \n",
              "1            Improved             Nigeria  ...   \n",
              "2            Improved             Nigeria  ...   \n",
              "3            Improved             Nigeria  ...   \n",
              "4            Improved             Nigeria  ...   \n",
              "...               ...                 ...  ...   \n",
              "214745       Improved              Uganda  ...   \n",
              "214746       Improved              Uganda  ...   \n",
              "214747       Improved              Uganda  ...   \n",
              "214748       Improved              Uganda  ...   \n",
              "214749       Improved              Uganda  ...   \n",
              "\n",
              "       Political Stability and Absence of Violence/Terrorism: Estimate  \\\n",
              "0                                               -1.779303                \n",
              "1                                               -1.779303                \n",
              "2                                               -1.779303                \n",
              "3                                               -1.779303                \n",
              "4                                               -1.779303                \n",
              "...                                                   ...                \n",
              "214745                                          -0.859658                \n",
              "214746                                          -0.859658                \n",
              "214747                                          -0.859658                \n",
              "214748                                          -0.859658                \n",
              "214749                                          -0.859658                \n",
              "\n",
              "       Regulatory Quality: Estimate Rule of Law: Estimate  \\\n",
              "0                         -0.932638             -0.855664   \n",
              "1                         -0.932638             -0.855664   \n",
              "2                         -0.932638             -0.855664   \n",
              "3                         -0.932638             -0.855664   \n",
              "4                         -0.932638             -0.855664   \n",
              "...                             ...                   ...   \n",
              "214745                    -0.476885             -0.352074   \n",
              "214746                    -0.476885             -0.352074   \n",
              "214747                    -0.476885             -0.352074   \n",
              "214748                    -0.476885             -0.352074   \n",
              "214749                    -0.476885             -0.352074   \n",
              "\n",
              "       Voice and Accountability: Estimate           region2_key  \\\n",
              "0                               -0.636556    Nigeria_Ekiti_2021   \n",
              "1                               -0.636556    Nigeria_Benue_2021   \n",
              "2                               -0.636556      Nigeria_Imo_2021   \n",
              "3                               -0.636556    Nigeria_Benue_2021   \n",
              "4                               -0.636556    Nigeria_Lagos_2021   \n",
              "...                                   ...                   ...   \n",
              "214745                          -0.821765   Uganda_Eastern_2021   \n",
              "214746                          -0.821765  Uganda_Northern_2021   \n",
              "214747                          -0.821765   Uganda_Eastern_2021   \n",
              "214748                          -0.821765   Uganda_Eastern_2021   \n",
              "214749                          -0.821765  Uganda_Northern_2021   \n",
              "\n",
              "       log_gni_cap_1000usd_2011ppp    hdi perc_emp_women_agric  \\\n",
              "0                            8.483  0.614                 0.01   \n",
              "1                            8.373  0.604                 0.01   \n",
              "2                            8.965  0.647                 0.01   \n",
              "3                            8.373  0.604                 0.01   \n",
              "4                            9.051  0.681                 0.01   \n",
              "...                            ...    ...                  ...   \n",
              "214745                       7.584  0.525              #DIV/0!   \n",
              "214746                       7.351  0.478              #DIV/0!   \n",
              "214747                       7.584  0.525              #DIV/0!   \n",
              "214748                       7.584  0.525              #DIV/0!   \n",
              "214749                       7.351  0.478              #DIV/0!   \n",
              "\n",
              "       perc_emp_men_agric avg_yrs_school_female  \n",
              "0                    42.1                8.7700  \n",
              "1                    61.8                6.2180  \n",
              "2                    10.9                9.7380  \n",
              "3                    61.8                6.2180  \n",
              "4                    1.62               11.4300  \n",
              "...                   ...                   ...  \n",
              "214745            #DIV/0!                4.6205  \n",
              "214746            #DIV/0!                3.3115  \n",
              "214747            #DIV/0!                4.6205  \n",
              "214748            #DIV/0!                4.6205  \n",
              "214749            #DIV/0!                3.3115  \n",
              "\n",
              "[214750 rows x 90 columns]"
            ]
          },
          "execution_count": 54,
          "metadata": {},
          "output_type": "execute_result"
        }
      ],
      "source": [
        "df_joined = wpdx_df3\n",
        "df_joined"
      ]
    },
    {
      "cell_type": "code",
      "execution_count": null,
      "metadata": {
        "id": "Yel1NDFW9PPm"
      },
      "outputs": [],
      "source": [
        "# FILE_PATH3 = '/content/gdrive/My Drive/Capstone_Sum23/03_Data/'\n",
        "\n",
        "df_joined.to_csv('data/clean_final_full_dataset_2021.csv') "
      ]
    },
    {
      "cell_type": "code",
      "execution_count": null,
      "metadata": {
        "colab": {
          "base_uri": "https://localhost:8080/"
        },
        "id": "2Jmethps-KLe",
        "outputId": "cf77aa7a-dbdf-4cab-f121-c7c587e432aa"
      },
      "outputs": [
        {
          "name": "stdout",
          "output_type": "stream",
          "text": [
            "<class 'pandas.core.frame.DataFrame'>\n",
            "Int64Index: 221092 entries, 0 to 221091\n",
            "Data columns (total 66 columns):\n",
            " #   Column                                                                                          Non-Null Count   Dtype         \n",
            "---  ------                                                                                          --------------   -----         \n",
            " 0   row_id                                                                                          221092 non-null  int64         \n",
            " 1   #activity_id                                                                                    98741 non-null   object        \n",
            " 2   #clean_adm1                                                                                     221092 non-null  object        \n",
            " 3   #clean_adm2                                                                                     221092 non-null  object        \n",
            " 4   #clean_adm3                                                                                     125870 non-null  object        \n",
            " 5   #clean_adm4                                                                                     98566 non-null   object        \n",
            " 6   #clean_country_id                                                                               221092 non-null  object        \n",
            " 7   #clean_country_name                                                                             221092 non-null  object        \n",
            " 8   location_id                                                                                     221092 non-null  int64         \n",
            " 9   #distance_to_city                                                                               221092 non-null  float64       \n",
            " 10  #distance_to_primary_road                                                                       221092 non-null  float64       \n",
            " 11  #distance_to_secondary_road                                                                     221092 non-null  float64       \n",
            " 12  #distance_to_tertiary_road                                                                      221092 non-null  float64       \n",
            " 13  #distance_to_town                                                                               221092 non-null  float64       \n",
            " 14  #facility_type                                                                                  221092 non-null  object        \n",
            " 15  #lat_deg                                                                                        221092 non-null  float64       \n",
            " 16  #lon_deg                                                                                        221092 non-null  float64       \n",
            " 17  #management_clean                                                                               170671 non-null  object        \n",
            " 18  #pay_clean                                                                                      134399 non-null  object        \n",
            " 19  #status_clean                                                                                   221092 non-null  object        \n",
            " 20  #status_id                                                                                      221092 non-null  object        \n",
            " 21  #subjective_quality_clean                                                                       101308 non-null  object        \n",
            " 22  #water_source_category                                                                          205054 non-null  object        \n",
            " 23  #water_source_clean                                                                             205054 non-null  object        \n",
            " 24  #water_tech_category                                                                            135839 non-null  object        \n",
            " 25  #water_tech_clean                                                                               136450 non-null  object        \n",
            " 26  #wpdx_id                                                                                        221092 non-null  object        \n",
            " 27  crucialness_score                                                                               192643 non-null  float64       \n",
            " 28  days_since_report                                                                               221092 non-null  int64         \n",
            " 29  is_urban                                                                                        221092 non-null  bool          \n",
            " 30  local_population_1km                                                                            195780 non-null  float64       \n",
            " 31  pressure_score                                                                                  192193 non-null  float64       \n",
            " 32  staleness_score                                                                                 221092 non-null  float64       \n",
            " 33  updated_timestamp                                                                               221092 non-null  object        \n",
            " 34  usage_capacity                                                                                  205398 non-null  float64       \n",
            " 35  water_point_population                                                                          195780 non-null  float64       \n",
            " 36  status_fin                                                                                      221092 non-null  object        \n",
            " 37  report_month                                                                                    221092 non-null  int64         \n",
            " 38  report_day                                                                                      221092 non-null  int64         \n",
            " 39  report_year                                                                                     221092 non-null  int64         \n",
            " 40  report_date                                                                                     221092 non-null  datetime64[ns]\n",
            " 41  install_year                                                                                    152311 non-null  float64       \n",
            " 42  not_func_dry_season                                                                             221092 non-null  int64         \n",
            " 43  source_type                                                                                     221092 non-null  object        \n",
            " 44  country2_key                                                                                    221092 non-null  object        \n",
            " 45  Access to electricity (% of population)                                                         0 non-null       float64       \n",
            " 46  Agricultural land (% of land area)                                                              0 non-null       float64       \n",
            " 47  Agriculture, forestry, and fishing, value added (% of GDP)                                      221092 non-null  float64       \n",
            " 48  Annual freshwater withdrawals, total (% of internal resources)                                  0 non-null       float64       \n",
            " 49  Cooling Degree Days                                                                             0 non-null       float64       \n",
            " 50  GDP growth (annual %)                                                                           221092 non-null  float64       \n",
            " 51  Government Effectiveness: Estimate                                                              221092 non-null  float64       \n",
            " 52  Heat Index 35                                                                                   0 non-null       float64       \n",
            " 53  Heating Degree Days                                                                             0 non-null       float64       \n",
            " 54  Land Surface Temperature                                                                        221092 non-null  float64       \n",
            " 55  Level of water stress: freshwater withdrawal as a proportion of available freshwater resources  0 non-null       float64       \n",
            " 56  Political Stability and Absence of Violence/Terrorism: Estimate                                 221092 non-null  float64       \n",
            " 57  Regulatory Quality: Estimate                                                                    221092 non-null  float64       \n",
            " 58  Rule of Law: Estimate                                                                           221092 non-null  float64       \n",
            " 59  Voice and Accountability: Estimate                                                              221092 non-null  float64       \n",
            " 60  region2_key                                                                                     221092 non-null  object        \n",
            " 61  log_gni_cap_1000usd_2011ppp                                                                     218695 non-null  float64       \n",
            " 62  hdi                                                                                             218695 non-null  float64       \n",
            " 63  perc_emp_women_agric                                                                            120129 non-null  float64       \n",
            " 64  perc_emp_men_agric                                                                              218695 non-null  object        \n",
            " 65  avg_yrs_school_female                                                                           218695 non-null  float64       \n",
            "dtypes: bool(1), datetime64[ns](1), float64(33), int64(7), object(24)\n",
            "memory usage: 111.5+ MB\n"
          ]
        }
      ],
      "source": [
        "df_joined.info()"
      ]
    }
  ],
  "metadata": {
    "colab": {
      "collapsed_sections": [
        "pESOv-b8aF2z",
        "VCt926B0-Zc4"
      ],
      "provenance": [],
      "toc_visible": true
    },
    "kernelspec": {
      "display_name": "Python 3",
      "name": "python3"
    },
    "language_info": {
      "name": "python"
    }
  },
  "nbformat": 4,
  "nbformat_minor": 0
}
