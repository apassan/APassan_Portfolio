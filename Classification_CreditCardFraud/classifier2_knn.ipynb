{
 "cells": [
  {
   "cell_type": "markdown",
   "id": "26608363",
   "metadata": {},
   "source": [
    "# Model: K-Nearest Neighbors (KNN)"
   ]
  },
  {
   "cell_type": "markdown",
   "id": "20268521",
   "metadata": {},
   "source": [
    "### Import packages and modules"
   ]
  },
  {
   "cell_type": "code",
   "execution_count": 1,
   "id": "a86d887c",
   "metadata": {},
   "outputs": [],
   "source": [
    "import csv\n",
    "import numpy as np\n",
    "import pandas as pd\n",
    "import math\n",
    "\n",
    "import seaborn as sns\n",
    "from matplotlib import pyplot as plt\n",
    "\n",
    "from imblearn.under_sampling import RandomUnderSampler \n",
    "\n",
    "from sklearn.model_selection import train_test_split\n",
    "from sklearn.model_selection import cross_val_score\n",
    "from sklearn.neighbors import KNeighborsClassifier\n",
    "from sklearn.metrics import *"
   ]
  },
  {
   "cell_type": "markdown",
   "id": "a15bd023",
   "metadata": {},
   "source": [
    "### Import data"
   ]
  },
  {
   "cell_type": "code",
   "execution_count": 3,
   "id": "7595124c",
   "metadata": {},
   "outputs": [],
   "source": [
    "%run /Users/apassan/Documents/03_Professional/07_GitHubRepo/APassan_Portfolio/Classification_CreditCardFraud/scripts/model_prep.py"
   ]
  },
  {
   "cell_type": "markdown",
   "id": "e6f6f897",
   "metadata": {},
   "source": [
    "### Confirm X and Y Shapes"
   ]
  },
  {
   "cell_type": "code",
   "execution_count": 4,
   "id": "9cb71e97",
   "metadata": {},
   "outputs": [
    {
     "name": "stdout",
     "output_type": "stream",
     "text": [
      "X_train shape: (139844, 7)\n",
      "Y_train shape: (139844,)\n",
      "X_test shape: (34962, 7)\n",
      "Y_test shape: (34962,)\n"
     ]
    }
   ],
   "source": [
    "# Print the shapes to ensure the matrix dimensions line up\n",
    "print('X_train shape:', X_train.shape)\n",
    "print('Y_train shape:', Y_train.shape)\n",
    "print('X_test shape:', X_test.shape)\n",
    "print('Y_test shape:', Y_test.shape)\n"
   ]
  },
  {
   "cell_type": "markdown",
   "id": "786effd4",
   "metadata": {},
   "source": [
    "### low Model"
   ]
  },
  {
   "cell_type": "markdown",
   "id": "a34b27ff",
   "metadata": {},
   "source": [
    " In general, practice, choosing the value of *k is k = sqrt(N)* where *N* stands for the number of samples in your training dataset ([source](https://towardsdatascience.com/a-simple-introduction-to-k-nearest-neighbors-algorithm-b3519ed98e#:~:text='k'%20in%20KNN%20is%20a,majority%20of%20the%20voting%20process.)\n",
    ")"
   ]
  },
  {
   "cell_type": "code",
   "execution_count": 17,
   "id": "6e544aa7",
   "metadata": {},
   "outputs": [
    {
     "name": "stdout",
     "output_type": "stream",
     "text": [
      "k: 373\n",
      "knn_baseline accuracy: 95.92%\n",
      "knn_baseline precision 92.47%\n",
      "knn_baseline recall 100.00%\n",
      "knn_baseline f1 96.08%\n"
     ]
    }
   ],
   "source": [
    "# Calculate k - accoriding to reccomendation \n",
    "N = 139844\n",
    "k = math.floor(math.sqrt(N))\n",
    "print('k:', k)\n",
    "\n",
    "\n",
    "# Create KNN model \n",
    "knn_baseline = KNeighborsClassifier(n_neighbors=k, algorithm = 'auto')\n",
    "\n",
    "#train model with cv of 5 \n",
    "knn_baseline_acc = cross_val_score(knn_baseline, X_us, Y_us, cv=5, scoring='accuracy')\n",
    "knn_baseline_prec = cross_val_score(knn_baseline, X_us, Y_us, cv=5, scoring='precision')\n",
    "knn_baseline_rec = cross_val_score(knn_baseline, X_us, Y_us, cv=5, scoring='recall')\n",
    "knn_baseline_f1 = cross_val_score(knn_baseline, X_us, Y_us, cv=5, scoring='f1')\n",
    "\n",
    "# Get results\n",
    "print('knn_baseline accuracy:', '{0:.2%}'.format(np.mean(knn_baseline_acc)))   \n",
    "print('knn_baseline precision', '{0:.2%}'.format(np.mean(knn_baseline_prec)))\n",
    "print('knn_baseline recall', '{0:.2%}'.format(np.mean(knn_baseline_rec)))\n",
    "print('knn_baseline f1', '{0:.2%}'.format(np.mean(knn_baseline_f1)))"
   ]
  },
  {
   "cell_type": "markdown",
   "id": "53c9400e",
   "metadata": {},
   "source": [
    "Try a few other values just to experiment - both much higher and much lower."
   ]
  },
  {
   "cell_type": "code",
   "execution_count": 18,
   "id": "614124e9",
   "metadata": {},
   "outputs": [
    {
     "name": "stdout",
     "output_type": "stream",
     "text": [
      "knn_low accuracy: 95.92%\n",
      "knn_low precision 92.47%\n",
      "knn_low recall 100.00%\n",
      "knn_low f1 96.08%\n"
     ]
    }
   ],
   "source": [
    "# Lower k\n",
    "klow = 50\n",
    "\n",
    "# Create KNN model \n",
    "knn_low = KNeighborsClassifier(n_neighbors=klow, algorithm = 'auto')\n",
    "\n",
    "# Create KNN model \n",
    "knn_low = KNeighborsClassifier(n_neighbors=k, algorithm = 'auto')\n",
    "\n",
    "#train model with cv of 5 \n",
    "knn_low_acc = cross_val_score(knn_low, X_us, Y_us, cv=5, scoring='accuracy')\n",
    "knn_low_prec = cross_val_score(knn_low, X_us, Y_us, cv=5, scoring='precision')\n",
    "knn_low_rec = cross_val_score(knn_low, X_us, Y_us, cv=5, scoring='recall')\n",
    "knn_low_f1 = cross_val_score(knn_low, X_us, Y_us, cv=5, scoring='f1')\n",
    "\n",
    "# Get results\n",
    "print('knn_low accuracy:', '{0:.2%}'.format(np.mean(knn_low_acc)))   \n",
    "print('knn_low precision', '{0:.2%}'.format(np.mean(knn_low_prec)))\n",
    "print('knn_low recall', '{0:.2%}'.format(np.mean(knn_low_rec)))\n",
    "print('knn_low f1', '{0:.2%}'.format(np.mean(knn_low_f1)))"
   ]
  },
  {
   "cell_type": "code",
   "execution_count": 19,
   "id": "7368be6c",
   "metadata": {},
   "outputs": [
    {
     "name": "stdout",
     "output_type": "stream",
     "text": [
      "knn_high accuracy: 95.60%\n",
      "knn_high precision 91.94%\n",
      "knn_high recall 99.97%\n",
      "knn_high f1 95.79%\n"
     ]
    }
   ],
   "source": [
    "# Higher k\n",
    "khigh = 500\n",
    "\n",
    "# Create KNN model \n",
    "knn_high = KNeighborsClassifier(n_neighbors=khigh, algorithm = 'auto')\n",
    "\n",
    "#train model with cv of 5 \n",
    "knn_high_acc = cross_val_score(knn_high, X_us, Y_us, cv=5, scoring='accuracy')\n",
    "knn_high_prec = cross_val_score(knn_high, X_us, Y_us, cv=5, scoring='precision')\n",
    "knn_high_rec = cross_val_score(knn_high, X_us, Y_us, cv=5, scoring='recall')\n",
    "knn_high_f1 = cross_val_score(knn_high, X_us, Y_us, cv=5, scoring='f1')\n",
    "\n",
    "# Get results\n",
    "print('knn_high accuracy:', '{0:.2%}'.format(np.mean(knn_high_acc)))   \n",
    "print('knn_high precision', '{0:.2%}'.format(np.mean(knn_high_prec)))\n",
    "print('knn_high recall', '{0:.2%}'.format(np.mean(knn_high_rec)))\n",
    "print('knn_high f1', '{0:.2%}'.format(np.mean(knn_high_f1)))"
   ]
  },
  {
   "cell_type": "markdown",
   "id": "8b626a1d",
   "metadata": {},
   "source": [
    "### Final Model"
   ]
  },
  {
   "cell_type": "markdown",
   "id": "eb6b0242",
   "metadata": {},
   "source": [
    "In the end the baseline model *knn_baseline* seems to be the best in terms of prediction power and not overfitting too much."
   ]
  },
  {
   "cell_type": "markdown",
   "id": "eb14e6e1",
   "metadata": {},
   "source": []
  }
 ],
 "metadata": {
  "kernelspec": {
   "display_name": "Python 3.9.12 ('tf')",
   "language": "python",
   "name": "python3"
  },
  "language_info": {
   "codemirror_mode": {
    "name": "ipython",
    "version": 3
   },
   "file_extension": ".py",
   "mimetype": "text/x-python",
   "name": "python",
   "nbconvert_exporter": "python",
   "pygments_lexer": "ipython3",
   "version": "3.9.12"
  },
  "vscode": {
   "interpreter": {
    "hash": "86dc8f041796b6227cd422edc050d62b3be1a14e09f4938d7cbbfa32e712d0be"
   }
  }
 },
 "nbformat": 4,
 "nbformat_minor": 5
}
