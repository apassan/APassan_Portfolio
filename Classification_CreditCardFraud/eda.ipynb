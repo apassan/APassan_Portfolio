{
 "cells": [
  {
   "cell_type": "markdown",
   "id": "ee62332b",
   "metadata": {},
   "source": [
    "# Exploratory Data Analysis (EDA)"
   ]
  },
  {
   "cell_type": "markdown",
   "id": "d81bd345",
   "metadata": {},
   "source": [
    "## Import packages and modules"
   ]
  },
  {
   "cell_type": "code",
   "execution_count": 1,
   "id": "49ce8d20",
   "metadata": {},
   "outputs": [],
   "source": [
    "import csv\n",
    "import math\n",
    "import numpy as np\n",
    "import pandas as pd\n",
    "import seaborn as sns\n",
    "from matplotlib import pyplot as plt"
   ]
  },
  {
   "cell_type": "markdown",
   "id": "c37473f2",
   "metadata": {},
   "source": [
    "## Run necessary scripts"
   ]
  },
  {
   "cell_type": "code",
   "execution_count": 17,
   "id": "08d82a32",
   "metadata": {},
   "outputs": [],
   "source": [
    "%run /Users/apassan/Documents/03_Professional/07_GitHubRepo/07_CreditCardFraud/scripts/data_prep"
   ]
  },
  {
   "cell_type": "markdown",
   "id": "df525412",
   "metadata": {},
   "source": [
    "## EDA"
   ]
  },
  {
   "cell_type": "markdown",
   "id": "71723c87",
   "metadata": {},
   "source": [
    "Note that each row corresponds to a financial transaction."
   ]
  },
  {
   "cell_type": "code",
   "execution_count": 18,
   "id": "fb035dac",
   "metadata": {},
   "outputs": [
    {
     "data": {
      "text/html": [
       "<div>\n",
       "<style scoped>\n",
       "    .dataframe tbody tr th:only-of-type {\n",
       "        vertical-align: middle;\n",
       "    }\n",
       "\n",
       "    .dataframe tbody tr th {\n",
       "        vertical-align: top;\n",
       "    }\n",
       "\n",
       "    .dataframe thead th {\n",
       "        text-align: right;\n",
       "    }\n",
       "</style>\n",
       "<table border=\"1\" class=\"dataframe\">\n",
       "  <thead>\n",
       "    <tr style=\"text-align: right;\">\n",
       "      <th></th>\n",
       "      <th>repeat_retailer</th>\n",
       "      <th>used_chip</th>\n",
       "      <th>used_pin_number</th>\n",
       "      <th>online_order</th>\n",
       "      <th>fraud</th>\n",
       "      <th>norm_distance_from_home</th>\n",
       "      <th>norm_distance_from_last_transaction</th>\n",
       "      <th>norm_ratio_to_median_purchase_price</th>\n",
       "    </tr>\n",
       "  </thead>\n",
       "  <tbody>\n",
       "    <tr>\n",
       "      <th>0</th>\n",
       "      <td>1.0</td>\n",
       "      <td>1.0</td>\n",
       "      <td>0.0</td>\n",
       "      <td>0.0</td>\n",
       "      <td>0.0</td>\n",
       "      <td>0.477882</td>\n",
       "      <td>-0.182849</td>\n",
       "      <td>0.043491</td>\n",
       "    </tr>\n",
       "    <tr>\n",
       "      <th>1</th>\n",
       "      <td>1.0</td>\n",
       "      <td>0.0</td>\n",
       "      <td>0.0</td>\n",
       "      <td>0.0</td>\n",
       "      <td>0.0</td>\n",
       "      <td>-0.241607</td>\n",
       "      <td>-0.188094</td>\n",
       "      <td>-0.189300</td>\n",
       "    </tr>\n",
       "    <tr>\n",
       "      <th>2</th>\n",
       "      <td>1.0</td>\n",
       "      <td>0.0</td>\n",
       "      <td>0.0</td>\n",
       "      <td>1.0</td>\n",
       "      <td>0.0</td>\n",
       "      <td>-0.329369</td>\n",
       "      <td>-0.163733</td>\n",
       "      <td>-0.498812</td>\n",
       "    </tr>\n",
       "    <tr>\n",
       "      <th>3</th>\n",
       "      <td>1.0</td>\n",
       "      <td>1.0</td>\n",
       "      <td>0.0</td>\n",
       "      <td>1.0</td>\n",
       "      <td>0.0</td>\n",
       "      <td>-0.372854</td>\n",
       "      <td>0.021806</td>\n",
       "      <td>-0.522048</td>\n",
       "    </tr>\n",
       "    <tr>\n",
       "      <th>4</th>\n",
       "      <td>1.0</td>\n",
       "      <td>1.0</td>\n",
       "      <td>0.0</td>\n",
       "      <td>1.0</td>\n",
       "      <td>0.0</td>\n",
       "      <td>0.268572</td>\n",
       "      <td>-0.172968</td>\n",
       "      <td>0.142373</td>\n",
       "    </tr>\n",
       "  </tbody>\n",
       "</table>\n",
       "</div>"
      ],
      "text/plain": [
       "   repeat_retailer  used_chip  used_pin_number  online_order  fraud  \\\n",
       "0              1.0        1.0              0.0           0.0    0.0   \n",
       "1              1.0        0.0              0.0           0.0    0.0   \n",
       "2              1.0        0.0              0.0           1.0    0.0   \n",
       "3              1.0        1.0              0.0           1.0    0.0   \n",
       "4              1.0        1.0              0.0           1.0    0.0   \n",
       "\n",
       "   norm_distance_from_home  norm_distance_from_last_transaction  \\\n",
       "0                 0.477882                            -0.182849   \n",
       "1                -0.241607                            -0.188094   \n",
       "2                -0.329369                            -0.163733   \n",
       "3                -0.372854                             0.021806   \n",
       "4                 0.268572                            -0.172968   \n",
       "\n",
       "   norm_ratio_to_median_purchase_price  \n",
       "0                             0.043491  \n",
       "1                            -0.189300  \n",
       "2                            -0.498812  \n",
       "3                            -0.522048  \n",
       "4                             0.142373  "
      ]
     },
     "execution_count": 18,
     "metadata": {},
     "output_type": "execute_result"
    }
   ],
   "source": [
    "data_eda = data_raw\n",
    "data_eda.head()"
   ]
  },
  {
   "cell_type": "code",
   "execution_count": 19,
   "id": "9707f94f",
   "metadata": {},
   "outputs": [
    {
     "data": {
      "text/html": [
       "<div>\n",
       "<style scoped>\n",
       "    .dataframe tbody tr th:only-of-type {\n",
       "        vertical-align: middle;\n",
       "    }\n",
       "\n",
       "    .dataframe tbody tr th {\n",
       "        vertical-align: top;\n",
       "    }\n",
       "\n",
       "    .dataframe thead th {\n",
       "        text-align: right;\n",
       "    }\n",
       "</style>\n",
       "<table border=\"1\" class=\"dataframe\">\n",
       "  <thead>\n",
       "    <tr style=\"text-align: right;\">\n",
       "      <th></th>\n",
       "      <th>repeat_retailer</th>\n",
       "      <th>used_chip</th>\n",
       "      <th>used_pin_number</th>\n",
       "      <th>online_order</th>\n",
       "      <th>fraud</th>\n",
       "      <th>norm_distance_from_home</th>\n",
       "      <th>norm_distance_from_last_transaction</th>\n",
       "      <th>norm_ratio_to_median_purchase_price</th>\n",
       "    </tr>\n",
       "  </thead>\n",
       "  <tbody>\n",
       "    <tr>\n",
       "      <th>count</th>\n",
       "      <td>1000000.000000</td>\n",
       "      <td>1000000.000000</td>\n",
       "      <td>1000000.000000</td>\n",
       "      <td>1000000.000000</td>\n",
       "      <td>1000000.000000</td>\n",
       "      <td>1.000000e+06</td>\n",
       "      <td>1.000000e+06</td>\n",
       "      <td>1.000000e+06</td>\n",
       "    </tr>\n",
       "    <tr>\n",
       "      <th>mean</th>\n",
       "      <td>0.881536</td>\n",
       "      <td>0.350399</td>\n",
       "      <td>0.100608</td>\n",
       "      <td>0.650552</td>\n",
       "      <td>0.087403</td>\n",
       "      <td>2.283476e-16</td>\n",
       "      <td>7.886189e-17</td>\n",
       "      <td>-2.423837e-16</td>\n",
       "    </tr>\n",
       "    <tr>\n",
       "      <th>std</th>\n",
       "      <td>0.323157</td>\n",
       "      <td>0.477095</td>\n",
       "      <td>0.300809</td>\n",
       "      <td>0.476796</td>\n",
       "      <td>0.282425</td>\n",
       "      <td>1.000001e+00</td>\n",
       "      <td>1.000001e+00</td>\n",
       "      <td>1.000001e+00</td>\n",
       "    </tr>\n",
       "    <tr>\n",
       "      <th>min</th>\n",
       "      <td>0.000000</td>\n",
       "      <td>0.000000</td>\n",
       "      <td>0.000000</td>\n",
       "      <td>0.000000</td>\n",
       "      <td>0.000000</td>\n",
       "      <td>-4.071511e-01</td>\n",
       "      <td>-1.948839e-01</td>\n",
       "      <td>-6.500182e-01</td>\n",
       "    </tr>\n",
       "    <tr>\n",
       "      <th>25%</th>\n",
       "      <td>1.000000</td>\n",
       "      <td>0.000000</td>\n",
       "      <td>0.000000</td>\n",
       "      <td>0.000000</td>\n",
       "      <td>0.000000</td>\n",
       "      <td>-3.479205e-01</td>\n",
       "      <td>-1.834088e-01</td>\n",
       "      <td>-4.816812e-01</td>\n",
       "    </tr>\n",
       "    <tr>\n",
       "      <th>50%</th>\n",
       "      <td>1.000000</td>\n",
       "      <td>0.000000</td>\n",
       "      <td>0.000000</td>\n",
       "      <td>1.000000</td>\n",
       "      <td>0.000000</td>\n",
       "      <td>-2.547919e-01</td>\n",
       "      <td>-1.562457e-01</td>\n",
       "      <td>-2.952096e-01</td>\n",
       "    </tr>\n",
       "    <tr>\n",
       "      <th>75%</th>\n",
       "      <td>1.000000</td>\n",
       "      <td>1.000000</td>\n",
       "      <td>0.000000</td>\n",
       "      <td>1.000000</td>\n",
       "      <td>0.000000</td>\n",
       "      <td>-1.353107e-02</td>\n",
       "      <td>-6.503759e-02</td>\n",
       "      <td>9.722443e-02</td>\n",
       "    </tr>\n",
       "    <tr>\n",
       "      <th>max</th>\n",
       "      <td>1.000000</td>\n",
       "      <td>1.000000</td>\n",
       "      <td>1.000000</td>\n",
       "      <td>1.000000</td>\n",
       "      <td>1.000000</td>\n",
       "      <td>1.621956e+02</td>\n",
       "      <td>4.583845e+02</td>\n",
       "      <td>9.500641e+01</td>\n",
       "    </tr>\n",
       "  </tbody>\n",
       "</table>\n",
       "</div>"
      ],
      "text/plain": [
       "       repeat_retailer       used_chip  used_pin_number    online_order  \\\n",
       "count   1000000.000000  1000000.000000   1000000.000000  1000000.000000   \n",
       "mean          0.881536        0.350399         0.100608        0.650552   \n",
       "std           0.323157        0.477095         0.300809        0.476796   \n",
       "min           0.000000        0.000000         0.000000        0.000000   \n",
       "25%           1.000000        0.000000         0.000000        0.000000   \n",
       "50%           1.000000        0.000000         0.000000        1.000000   \n",
       "75%           1.000000        1.000000         0.000000        1.000000   \n",
       "max           1.000000        1.000000         1.000000        1.000000   \n",
       "\n",
       "                fraud  norm_distance_from_home  \\\n",
       "count  1000000.000000             1.000000e+06   \n",
       "mean         0.087403             2.283476e-16   \n",
       "std          0.282425             1.000001e+00   \n",
       "min          0.000000            -4.071511e-01   \n",
       "25%          0.000000            -3.479205e-01   \n",
       "50%          0.000000            -2.547919e-01   \n",
       "75%          0.000000            -1.353107e-02   \n",
       "max          1.000000             1.621956e+02   \n",
       "\n",
       "       norm_distance_from_last_transaction  \\\n",
       "count                         1.000000e+06   \n",
       "mean                          7.886189e-17   \n",
       "std                           1.000001e+00   \n",
       "min                          -1.948839e-01   \n",
       "25%                          -1.834088e-01   \n",
       "50%                          -1.562457e-01   \n",
       "75%                          -6.503759e-02   \n",
       "max                           4.583845e+02   \n",
       "\n",
       "       norm_ratio_to_median_purchase_price  \n",
       "count                         1.000000e+06  \n",
       "mean                         -2.423837e-16  \n",
       "std                           1.000001e+00  \n",
       "min                          -6.500182e-01  \n",
       "25%                          -4.816812e-01  \n",
       "50%                          -2.952096e-01  \n",
       "75%                           9.722443e-02  \n",
       "max                           9.500641e+01  "
      ]
     },
     "metadata": {},
     "output_type": "display_data"
    }
   ],
   "source": [
    "display(data_eda.describe())"
   ]
  },
  {
   "cell_type": "markdown",
   "id": "35140500",
   "metadata": {},
   "source": [
    "- The following columns are binary: repeat_retailer, used_chip, used_pin_number,\tonline_order, fraud.\n",
    "- The other three (first) columns are numeric."
   ]
  },
  {
   "cell_type": "code",
   "execution_count": 23,
   "id": "29947846",
   "metadata": {},
   "outputs": [
    {
     "data": {
      "text/plain": [
       "<AxesSubplot:>"
      ]
     },
     "execution_count": 23,
     "metadata": {},
     "output_type": "execute_result"
    },
    {
     "data": {
      "image/png": "[encoded data removed]",
      "text/plain": [
       "<Figure size 864x864 with 2 Axes>"
      ]
     },
     "metadata": {},
     "output_type": "display_data"
    }
   ],
   "source": [
    "cm = data_eda[cols].corr().values\n",
    "sns.set(rc = {'figure.figsize':(12,12)})\n",
    "sns.heatmap(cm,annot=True, xticklabels = cols, yticklabels = cols)"
   ]
  },
  {
   "cell_type": "markdown",
   "id": "16cf5b4e",
   "metadata": {},
   "source": [
    "- Looking at the above correlation matrix heat map, it seems that the variables with the highest correlation seem to be fraud and the ratio of the transaction to the median purchase price of the credit card owner (ratio_to_median_purchase_price). This may indicate that this ratio will have a higher predicting power for fraud compared to the other variables.  \n",
    "- There do not seem to be any other strong signs of correlation, which for now indicates that we don't need to worry about multi-collinearity. "
   ]
  }
 ],
 "metadata": {
  "kernelspec": {
   "display_name": "Python 3 (ipykernel)",
   "language": "python",
   "name": "python3"
  },
  "language_info": {
   "codemirror_mode": {
    "name": "ipython",
    "version": 3
   },
   "file_extension": ".py",
   "mimetype": "text/x-python",
   "name": "python",
   "nbconvert_exporter": "python",
   "pygments_lexer": "ipython3",
   "version": "3.9.12"
  }
 },
 "nbformat": 4,
 "nbformat_minor": 5
}
