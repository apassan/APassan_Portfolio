{
 "cells": [
  {
   "cell_type": "markdown",
   "id": "26608363",
   "metadata": {},
   "source": [
    "# Model Preparation"
   ]
  },
  {
   "cell_type": "markdown",
   "id": "20268521",
   "metadata": {},
   "source": [
    "### Package and Module Setup"
   ]
  },
  {
   "cell_type": "code",
   "execution_count": 2,
   "id": "a86d887c",
   "metadata": {},
   "outputs": [],
   "source": [
    "# Import needed packages and modules\n",
    "import csv\n",
    "import numpy as np\n",
    "import pandas as pd\n",
    "\n",
    "import seaborn as sns\n",
    "from matplotlib import pyplot as plt\n",
    "\n",
    "from imblearn.under_sampling import RandomUnderSampler \n",
    "from sklearn.model_selection import train_test_split\n",
    "\n",
    "import tensorflow as tf\n",
    "from tensorflow import keras\n",
    "from keras import metrics\n",
    "tf.get_logger().setLevel('INFO')"
   ]
  },
  {
   "cell_type": "markdown",
   "id": "a15bd023",
   "metadata": {},
   "source": [
    "## Import data"
   ]
  },
  {
   "cell_type": "code",
   "execution_count": 3,
   "id": "7595124c",
   "metadata": {},
   "outputs": [],
   "source": [
    "%run /Users/apassan/Documents/03_Professional/07_GitHubRepo/07_CreditCardFraud/scripts/data_prep"
   ]
  },
  {
   "cell_type": "code",
   "execution_count": 4,
   "id": "2d52bb5d",
   "metadata": {},
   "outputs": [
    {
     "data": {
      "text/html": [
       "<div>\n",
       "<style scoped>\n",
       "    .dataframe tbody tr th:only-of-type {\n",
       "        vertical-align: middle;\n",
       "    }\n",
       "\n",
       "    .dataframe tbody tr th {\n",
       "        vertical-align: top;\n",
       "    }\n",
       "\n",
       "    .dataframe thead th {\n",
       "        text-align: right;\n",
       "    }\n",
       "</style>\n",
       "<table border=\"1\" class=\"dataframe\">\n",
       "  <thead>\n",
       "    <tr style=\"text-align: right;\">\n",
       "      <th></th>\n",
       "      <th>repeat_retailer</th>\n",
       "      <th>used_chip</th>\n",
       "      <th>used_pin_number</th>\n",
       "      <th>online_order</th>\n",
       "      <th>fraud</th>\n",
       "      <th>norm_distance_from_home</th>\n",
       "      <th>norm_distance_from_last_transaction</th>\n",
       "      <th>norm_ratio_to_median_purchase_price</th>\n",
       "    </tr>\n",
       "  </thead>\n",
       "  <tbody>\n",
       "    <tr>\n",
       "      <th>0</th>\n",
       "      <td>1.0</td>\n",
       "      <td>1.0</td>\n",
       "      <td>0.0</td>\n",
       "      <td>0.0</td>\n",
       "      <td>0.0</td>\n",
       "      <td>0.477882</td>\n",
       "      <td>-0.182849</td>\n",
       "      <td>0.043491</td>\n",
       "    </tr>\n",
       "    <tr>\n",
       "      <th>1</th>\n",
       "      <td>1.0</td>\n",
       "      <td>0.0</td>\n",
       "      <td>0.0</td>\n",
       "      <td>0.0</td>\n",
       "      <td>0.0</td>\n",
       "      <td>-0.241607</td>\n",
       "      <td>-0.188094</td>\n",
       "      <td>-0.189300</td>\n",
       "    </tr>\n",
       "    <tr>\n",
       "      <th>2</th>\n",
       "      <td>1.0</td>\n",
       "      <td>0.0</td>\n",
       "      <td>0.0</td>\n",
       "      <td>1.0</td>\n",
       "      <td>0.0</td>\n",
       "      <td>-0.329369</td>\n",
       "      <td>-0.163733</td>\n",
       "      <td>-0.498812</td>\n",
       "    </tr>\n",
       "    <tr>\n",
       "      <th>3</th>\n",
       "      <td>1.0</td>\n",
       "      <td>1.0</td>\n",
       "      <td>0.0</td>\n",
       "      <td>1.0</td>\n",
       "      <td>0.0</td>\n",
       "      <td>-0.372854</td>\n",
       "      <td>0.021806</td>\n",
       "      <td>-0.522048</td>\n",
       "    </tr>\n",
       "    <tr>\n",
       "      <th>4</th>\n",
       "      <td>1.0</td>\n",
       "      <td>1.0</td>\n",
       "      <td>0.0</td>\n",
       "      <td>1.0</td>\n",
       "      <td>0.0</td>\n",
       "      <td>0.268572</td>\n",
       "      <td>-0.172968</td>\n",
       "      <td>0.142373</td>\n",
       "    </tr>\n",
       "  </tbody>\n",
       "</table>\n",
       "</div>"
      ],
      "text/plain": [
       "   repeat_retailer  used_chip  used_pin_number  online_order  fraud  \\\n",
       "0              1.0        1.0              0.0           0.0    0.0   \n",
       "1              1.0        0.0              0.0           0.0    0.0   \n",
       "2              1.0        0.0              0.0           1.0    0.0   \n",
       "3              1.0        1.0              0.0           1.0    0.0   \n",
       "4              1.0        1.0              0.0           1.0    0.0   \n",
       "\n",
       "   norm_distance_from_home  norm_distance_from_last_transaction  \\\n",
       "0                 0.477882                            -0.182849   \n",
       "1                -0.241607                            -0.188094   \n",
       "2                -0.329369                            -0.163733   \n",
       "3                -0.372854                             0.021806   \n",
       "4                 0.268572                            -0.172968   \n",
       "\n",
       "   norm_ratio_to_median_purchase_price  \n",
       "0                             0.043491  \n",
       "1                            -0.189300  \n",
       "2                            -0.498812  \n",
       "3                            -0.522048  \n",
       "4                             0.142373  "
      ]
     },
     "execution_count": 4,
     "metadata": {},
     "output_type": "execute_result"
    }
   ],
   "source": [
    "data_df = data_raw # Keeping a dataframe version will be useful for any quick checks\n",
    "data_df.head()"
   ]
  },
  {
   "cell_type": "markdown",
   "id": "e6f6f897",
   "metadata": {},
   "source": [
    "### Model Preparation"
   ]
  },
  {
   "cell_type": "markdown",
   "id": "25ee8991",
   "metadata": {},
   "source": [
    "Prepare the data to be split."
   ]
  },
  {
   "cell_type": "code",
   "execution_count": 5,
   "id": "a20c734d",
   "metadata": {},
   "outputs": [
    {
     "name": "stdout",
     "output_type": "stream",
     "text": [
      "X shape: (1000000, 7)\n",
      "Y shape: (1000000,)\n"
     ]
    }
   ],
   "source": [
    "# Create the features and the target variable.\n",
    "cols = data_df.columns.tolist()\n",
    "X_features = [c for c in cols if c not in ['fraud']]\n",
    "X_features\n",
    "\n",
    "X = data_df[X_features] # Features\n",
    "Y = data_df['fraud'] # Target variable\n",
    "\n",
    "print('X shape:', X.shape) \n",
    "print('Y shape:', Y.shape)"
   ]
  },
  {
   "cell_type": "markdown",
   "id": "c39012cf",
   "metadata": {},
   "source": [
    "Check for potential imbalances in the dataset."
   ]
  },
  {
   "cell_type": "code",
   "execution_count": 6,
   "id": "641dcb08",
   "metadata": {},
   "outputs": [
    {
     "data": {
      "text/plain": [
       "0.0    912597\n",
       "1.0     87403\n",
       "Name: fraud, dtype: int64"
      ]
     },
     "execution_count": 6,
     "metadata": {},
     "output_type": "execute_result"
    }
   ],
   "source": [
    "data_df['fraud'].value_counts()"
   ]
  },
  {
   "cell_type": "markdown",
   "id": "8e90ed24",
   "metadata": {},
   "source": [
    "Based on the above, there are 87,403 fraud transactions, and 912,507 non-fraud transactions in the dataset. This means that only \\~9.5% of the dataset has fraudulent transactions.\n",
    "\n",
    "As this is an imbalanced dataset, this needs to be dealt with before creating any models. In this case, we will choose to under sample. Undersampling will aim to balance the class (fraudulent transaction or not) distribution in the dataset, by removing observations at random that belong to the majority class. "
   ]
  },
  {
   "cell_type": "markdown",
   "id": "71f906f4",
   "metadata": {},
   "source": [
    "### Undersampling"
   ]
  },
  {
   "cell_type": "code",
   "execution_count": 7,
   "id": "38f941aa",
   "metadata": {},
   "outputs": [],
   "source": [
    "# Perform undersampling \n",
    "us = RandomUnderSampler(random_state=42)\n",
    "X_us, Y_us = us.fit_resample(X,Y)"
   ]
  },
  {
   "cell_type": "code",
   "execution_count": 8,
   "id": "e99ea820",
   "metadata": {},
   "outputs": [
    {
     "data": {
      "image/png": "[encoded data removed]",
      "text/plain": [
       "<Figure size 720x360 with 1 Axes>"
      ]
     },
     "metadata": {
      "needs_background": "light"
     },
     "output_type": "display_data"
    }
   ],
   "source": [
    "# Check if the undersampling worked\n",
    "plt.figure(figsize=(10,5))\n",
    "plt.hist(np.array(Y_us))\n",
    "plt.title('Classes')\n",
    "plt.xlabel('value')\n",
    "plt.ylabel('frequency')\n",
    "plt.show()"
   ]
  },
  {
   "cell_type": "markdown",
   "id": "eef156ee",
   "metadata": {},
   "source": [
    "The dataset is more balanced now."
   ]
  },
  {
   "cell_type": "markdown",
   "id": "d049b13e",
   "metadata": {},
   "source": [
    "### Final data split"
   ]
  },
  {
   "cell_type": "code",
   "execution_count": 9,
   "id": "9cb71e97",
   "metadata": {},
   "outputs": [
    {
     "name": "stdout",
     "output_type": "stream",
     "text": [
      "X_train shape: (139844, 7)\n",
      "Y_train shape: (139844,)\n",
      "X_test shape: (34962, 7)\n",
      "Y_test shape: (34962,)\n"
     ]
    }
   ],
   "source": [
    "# Split the data\n",
    "X_train, X_test,Y_train, Y_test = train_test_split(X_us, Y_us, test_size=0.2)\n",
    "\n",
    "# Print the shapes to ensure the matrix dimensions line up\n",
    "print('X_train shape:', X_train.shape)\n",
    "print('Y_train shape:', Y_train.shape)\n",
    "print('X_test shape:', X_test.shape)\n",
    "print('Y_test shape:', Y_test.shape)\n"
   ]
  },
  {
   "cell_type": "markdown",
   "id": "5889035e",
   "metadata": {},
   "source": [
    "The data has been accounted for its imbalance, and has been split into test and training sets.  \n",
    "\n",
    "We can now move onto modeling. \n",
    "\n",
    "**Note:** A separate model_prep.py file has been created based on this jupyter notebook to properly split the data before creating the different classifiers."
   ]
  },
  {
   "cell_type": "markdown",
   "id": "ecc94395",
   "metadata": {},
   "source": [
    "### Overall Baseline Model"
   ]
  },
  {
   "cell_type": "markdown",
   "id": "6e0def3a",
   "metadata": {},
   "source": [
    "In machine learning it is important to have a baseline model to compare against different machine learning models developed. In this case I will make the assumption that all of the transactions are non-fraudulent. As ~90% of the data has non-fraudulent transactions, one could \"say\" that this baseline \"model\" assumption has an accuracy rate of 90%. This is the accuracy level to beat in developing different classification models. "
   ]
  },
  {
   "cell_type": "markdown",
   "id": "bf09f180",
   "metadata": {},
   "source": []
  }
 ],
 "metadata": {
  "kernelspec": {
   "display_name": "Python 3.8.13",
   "language": "python",
   "name": "python3"
  },
  "language_info": {
   "codemirror_mode": {
    "name": "ipython",
    "version": 3
   },
   "file_extension": ".py",
   "mimetype": "text/x-python",
   "name": "python",
   "nbconvert_exporter": "python",
   "pygments_lexer": "ipython3",
   "version": "3.8.13"
  },
  "vscode": {
   "interpreter": {
    "hash": "dc1b947dce198ff7f2d2cb152b2cbb61132fce4429fa808fd5b89ac4d7df39fa"
   }
  }
 },
 "nbformat": 4,
 "nbformat_minor": 5
}
