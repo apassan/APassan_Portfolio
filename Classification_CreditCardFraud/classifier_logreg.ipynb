{
 "cells": [
  {
   "cell_type": "markdown",
   "id": "26608363",
   "metadata": {},
   "source": [
    "# Logistic Regression Modeling"
   ]
  },
  {
   "cell_type": "markdown",
   "id": "20268521",
   "metadata": {},
   "source": [
    "## Import packages and modules"
   ]
  },
  {
   "cell_type": "code",
   "execution_count": 15,
   "id": "a86d887c",
   "metadata": {},
   "outputs": [],
   "source": [
    "import csv\n",
    "import numpy as np\n",
    "import pandas as pd\n",
    "\n",
    "import seaborn as sns\n",
    "from matplotlib import pyplot as plt\n",
    "\n",
    "from imblearn.under_sampling import RandomUnderSampler \n",
    "\n",
    "from sklearn.model_selection import train_test_split\n",
    "from sklearn.linear_model import LogisticRegression\n",
    "from sklearn import metrics\n",
    "from sklearn.model_selection import GridSearchCV\n",
    "from sklearn.linear_model import SGDClassifier"
   ]
  },
  {
   "cell_type": "markdown",
   "id": "a15bd023",
   "metadata": {},
   "source": [
    "## Import data"
   ]
  },
  {
   "cell_type": "code",
   "execution_count": 8,
   "id": "7595124c",
   "metadata": {},
   "outputs": [],
   "source": [
    "%run /Users/apassan/Documents/03_Professional/07_GitHubRepo/APassan_Portfolio/Classification_CreditCardFraud/scripts/model_prep.py"
   ]
  },
  {
   "cell_type": "markdown",
   "id": "e6f6f897",
   "metadata": {},
   "source": [
    "### Confirm X and Y Shapes"
   ]
  },
  {
   "cell_type": "code",
   "execution_count": 9,
   "id": "9cb71e97",
   "metadata": {},
   "outputs": [
    {
     "name": "stdout",
     "output_type": "stream",
     "text": [
      "X_train shape: (139844, 7)\n",
      "Y_train shape: (139844,)\n",
      "X_test shape: (34962, 7)\n",
      "Y_test shape: (34962,)\n"
     ]
    }
   ],
   "source": [
    "# Print the shapes to ensure the matrix dimensions line up\n",
    "print('X_train shape:', X_train.shape)\n",
    "print('Y_train shape:', Y_train.shape)\n",
    "print('X_test shape:', X_test.shape)\n",
    "print('Y_test shape:', Y_test.shape)\n"
   ]
  },
  {
   "cell_type": "markdown",
   "id": "786effd4",
   "metadata": {},
   "source": [
    "## Modeling - Logistic Regression"
   ]
  },
  {
   "cell_type": "markdown",
   "id": "06c017f9",
   "metadata": {},
   "source": [
    "First we will create a base logistic regression model"
   ]
  },
  {
   "cell_type": "code",
   "execution_count": 13,
   "id": "f299cff5",
   "metadata": {},
   "outputs": [
    {
     "name": "stdout",
     "output_type": "stream",
     "text": [
      "Accuracy: 0.9415079228877067\n"
     ]
    }
   ],
   "source": [
    "# Base Logistic Regression Model \n",
    "logreg_base = LogisticRegression(random_state=1)\n",
    "\n",
    "#Fit\n",
    "logreg_base.fit(X_train, Y_train)\n",
    "\n",
    "Y_pred=logreg_base.predict(X_test) \n",
    "\n",
    "Y_pred \n",
    "\n",
    "print(\"Accuracy:\",metrics.accuracy_score(Y_test, Y_pred)) "
   ]
  },
  {
   "cell_type": "markdown",
   "id": "fcbf8212",
   "metadata": {},
   "source": [
    "Now we will implement Grid Search and K-10 cross validation to get the best logistic regression model."
   ]
  },
  {
   "cell_type": "code",
   "execution_count": 16,
   "id": "f8cd7df9",
   "metadata": {},
   "outputs": [
    {
     "name": "stderr",
     "output_type": "stream",
     "text": [
      "/Users/apassan/miniforge3/envs/tf/lib/python3.9/site-packages/sklearn/linear_model/_logistic.py:1113: UserWarning: Setting penalty='none' will ignore the C and l1_ratio parameters\n",
      "  warnings.warn(\n",
      "/Users/apassan/miniforge3/envs/tf/lib/python3.9/site-packages/sklearn/linear_model/_logistic.py:1113: UserWarning: Setting penalty='none' will ignore the C and l1_ratio parameters\n",
      "  warnings.warn(\n",
      "/Users/apassan/miniforge3/envs/tf/lib/python3.9/site-packages/sklearn/linear_model/_logistic.py:1113: UserWarning: Setting penalty='none' will ignore the C and l1_ratio parameters\n",
      "  warnings.warn(\n",
      "/Users/apassan/miniforge3/envs/tf/lib/python3.9/site-packages/sklearn/linear_model/_logistic.py:1113: UserWarning: Setting penalty='none' will ignore the C and l1_ratio parameters\n",
      "  warnings.warn(\n",
      "/Users/apassan/miniforge3/envs/tf/lib/python3.9/site-packages/sklearn/linear_model/_logistic.py:1113: UserWarning: Setting penalty='none' will ignore the C and l1_ratio parameters\n",
      "  warnings.warn(\n",
      "/Users/apassan/miniforge3/envs/tf/lib/python3.9/site-packages/sklearn/linear_model/_logistic.py:1113: UserWarning: Setting penalty='none' will ignore the C and l1_ratio parameters\n",
      "  warnings.warn(\n",
      "/Users/apassan/miniforge3/envs/tf/lib/python3.9/site-packages/sklearn/linear_model/_logistic.py:1113: UserWarning: Setting penalty='none' will ignore the C and l1_ratio parameters\n",
      "  warnings.warn(\n",
      "/Users/apassan/miniforge3/envs/tf/lib/python3.9/site-packages/sklearn/linear_model/_logistic.py:1113: UserWarning: Setting penalty='none' will ignore the C and l1_ratio parameters\n",
      "  warnings.warn(\n",
      "/Users/apassan/miniforge3/envs/tf/lib/python3.9/site-packages/sklearn/linear_model/_logistic.py:1113: UserWarning: Setting penalty='none' will ignore the C and l1_ratio parameters\n",
      "  warnings.warn(\n",
      "/Users/apassan/miniforge3/envs/tf/lib/python3.9/site-packages/sklearn/linear_model/_logistic.py:1113: UserWarning: Setting penalty='none' will ignore the C and l1_ratio parameters\n",
      "  warnings.warn(\n",
      "/Users/apassan/miniforge3/envs/tf/lib/python3.9/site-packages/sklearn/linear_model/_logistic.py:1113: UserWarning: Setting penalty='none' will ignore the C and l1_ratio parameters\n",
      "  warnings.warn(\n",
      "/Users/apassan/miniforge3/envs/tf/lib/python3.9/site-packages/sklearn/linear_model/_logistic.py:1113: UserWarning: Setting penalty='none' will ignore the C and l1_ratio parameters\n",
      "  warnings.warn(\n",
      "/Users/apassan/miniforge3/envs/tf/lib/python3.9/site-packages/sklearn/linear_model/_logistic.py:1113: UserWarning: Setting penalty='none' will ignore the C and l1_ratio parameters\n",
      "  warnings.warn(\n",
      "/Users/apassan/miniforge3/envs/tf/lib/python3.9/site-packages/sklearn/linear_model/_logistic.py:1113: UserWarning: Setting penalty='none' will ignore the C and l1_ratio parameters\n",
      "  warnings.warn(\n",
      "/Users/apassan/miniforge3/envs/tf/lib/python3.9/site-packages/sklearn/linear_model/_logistic.py:1113: UserWarning: Setting penalty='none' will ignore the C and l1_ratio parameters\n",
      "  warnings.warn(\n",
      "/Users/apassan/miniforge3/envs/tf/lib/python3.9/site-packages/sklearn/linear_model/_logistic.py:1113: UserWarning: Setting penalty='none' will ignore the C and l1_ratio parameters\n",
      "  warnings.warn(\n",
      "/Users/apassan/miniforge3/envs/tf/lib/python3.9/site-packages/sklearn/linear_model/_logistic.py:1113: UserWarning: Setting penalty='none' will ignore the C and l1_ratio parameters\n",
      "  warnings.warn(\n",
      "/Users/apassan/miniforge3/envs/tf/lib/python3.9/site-packages/sklearn/linear_model/_logistic.py:1113: UserWarning: Setting penalty='none' will ignore the C and l1_ratio parameters\n",
      "  warnings.warn(\n",
      "/Users/apassan/miniforge3/envs/tf/lib/python3.9/site-packages/sklearn/linear_model/_logistic.py:1113: UserWarning: Setting penalty='none' will ignore the C and l1_ratio parameters\n",
      "  warnings.warn(\n",
      "/Users/apassan/miniforge3/envs/tf/lib/python3.9/site-packages/sklearn/linear_model/_logistic.py:1113: UserWarning: Setting penalty='none' will ignore the C and l1_ratio parameters\n",
      "  warnings.warn(\n",
      "/Users/apassan/miniforge3/envs/tf/lib/python3.9/site-packages/sklearn/model_selection/_validation.py:378: FitFailedWarning: \n",
      "50 fits failed out of a total of 100.\n",
      "The score on these train-test partitions for these parameters will be set to nan.\n",
      "If these failures are not expected, you can try to debug them by setting error_score='raise'.\n",
      "\n",
      "Below are more details about the failures:\n",
      "--------------------------------------------------------------------------------\n",
      "25 fits failed with the following error:\n",
      "Traceback (most recent call last):\n",
      "  File \"/Users/apassan/miniforge3/envs/tf/lib/python3.9/site-packages/sklearn/model_selection/_validation.py\", line 686, in _fit_and_score\n",
      "    estimator.fit(X_train, y_train, **fit_params)\n",
      "  File \"/Users/apassan/miniforge3/envs/tf/lib/python3.9/site-packages/sklearn/linear_model/_logistic.py\", line 1091, in fit\n",
      "    solver = _check_solver(self.solver, self.penalty, self.dual)\n",
      "  File \"/Users/apassan/miniforge3/envs/tf/lib/python3.9/site-packages/sklearn/linear_model/_logistic.py\", line 61, in _check_solver\n",
      "    raise ValueError(\n",
      "ValueError: Solver lbfgs supports only 'l2' or 'none' penalties, got l1 penalty.\n",
      "\n",
      "--------------------------------------------------------------------------------\n",
      "25 fits failed with the following error:\n",
      "Traceback (most recent call last):\n",
      "  File \"/Users/apassan/miniforge3/envs/tf/lib/python3.9/site-packages/sklearn/model_selection/_validation.py\", line 686, in _fit_and_score\n",
      "    estimator.fit(X_train, y_train, **fit_params)\n",
      "  File \"/Users/apassan/miniforge3/envs/tf/lib/python3.9/site-packages/sklearn/linear_model/_logistic.py\", line 1091, in fit\n",
      "    solver = _check_solver(self.solver, self.penalty, self.dual)\n",
      "  File \"/Users/apassan/miniforge3/envs/tf/lib/python3.9/site-packages/sklearn/linear_model/_logistic.py\", line 55, in _check_solver\n",
      "    raise ValueError(\n",
      "ValueError: Logistic Regression supports only penalties in ['l1', 'l2', 'elasticnet', 'none'], got elastic_net.\n",
      "\n",
      "  warnings.warn(some_fits_failed_message, FitFailedWarning)\n",
      "/Users/apassan/miniforge3/envs/tf/lib/python3.9/site-packages/sklearn/model_selection/_search.py:953: UserWarning: One or more of the test scores are non-finite: [0.9402334         nan 0.94000457        nan 0.9402334         nan\n",
      " 0.94011899        nan 0.9402334         nan 0.94019049        nan\n",
      " 0.9402334         nan 0.94018334        nan 0.9402334         nan\n",
      " 0.94021195        nan]\n",
      "  warnings.warn(\n",
      "/Users/apassan/miniforge3/envs/tf/lib/python3.9/site-packages/sklearn/linear_model/_logistic.py:1113: UserWarning: Setting penalty='none' will ignore the C and l1_ratio parameters\n",
      "  warnings.warn(\n"
     ]
    },
    {
     "name": "stdout",
     "output_type": "stream",
     "text": [
      "best score 0.9402334000077562\n",
      "best params {'C': 0.05, 'penalty': 'none'}\n"
     ]
    }
   ],
   "source": [
    "\n",
    "# Find the best best penalty and C value \n",
    "logreg_gscv = LogisticRegression( random_state=1)\n",
    "\n",
    "param_grid = { 'penalty': ['none', 'l1', 'l2', 'elastic_net'], 'C': [0.05, 0.1, 0.5, 1, 5] }\n",
    "\n",
    "grid_search = GridSearchCV(logreg_gscv, param_grid=param_grid)\n",
    "\n",
    "grid_search.fit(X_train, Y_train)\n",
    "\n",
    "result = grid_search.cv_results_\n",
    "estimator = grid_search.best_estimator_\n",
    "score = grid_search.best_score_\n",
    "params = grid_search.best_params_\n",
    "\n",
    "\n",
    "print('best score', score)\n",
    "print('best params', params)"
   ]
  },
  {
   "cell_type": "code",
   "execution_count": 23,
   "id": "ea5c1c6f",
   "metadata": {},
   "outputs": [
    {
     "name": "stderr",
     "output_type": "stream",
     "text": [
      "/Users/apassan/miniforge3/envs/tf/lib/python3.9/site-packages/sklearn/linear_model/_logistic.py:1113: UserWarning: Setting penalty='none' will ignore the C and l1_ratio parameters\n",
      "  warnings.warn(\n"
     ]
    },
    {
     "name": "stdout",
     "output_type": "stream",
     "text": [
      "Accuracy: 0.9415365253704021\n",
      "Precision: 0.9331632653061225\n"
     ]
    }
   ],
   "source": [
    "# Final Logistirc Regression Model\n",
    "logreg_fin=LogisticRegression(C=0.05,penalty=\"none\")\n",
    "logreg_fin.fit(X_train,Y_train)\n",
    "\n",
    "Y_pred_fin=logreg_fin.predict(X_test) \n",
    "\n",
    "Y_pred_fin\n",
    "\n",
    "print(\"Accuracy:\",metrics.accuracy_score(Y_test, Y_pred_fin)) \n",
    "print(\"Precision:\", metrics.precision_score(Y_test, Y_pred_fin))"
   ]
  },
  {
   "cell_type": "code",
   "execution_count": 20,
   "id": "40a14893",
   "metadata": {},
   "outputs": [
    {
     "data": {
      "text/plain": [
       "Text(33.0, 0.5, 'Truth')"
      ]
     },
     "execution_count": 20,
     "metadata": {},
     "output_type": "execute_result"
    },
    {
     "data": {
      "image/png": "[encoded data removed]",
      "text/plain": [
       "<Figure size 432x288 with 2 Axes>"
      ]
     },
     "metadata": {
      "needs_background": "light"
     },
     "output_type": "display_data"
    }
   ],
   "source": [
    "cm = confusion_matrix(Y_test, Y_pred_fin)\n",
    "sns.heatmap(cm, annot = True)\n",
    "plt.xlabel(\"Predicted\")\n",
    "plt.ylabel(\"Truth\")\n"
   ]
  },
  {
   "cell_type": "code",
   "execution_count": null,
   "id": "a1ed1777",
   "metadata": {},
   "outputs": [],
   "source": []
  },
  {
   "cell_type": "code",
   "execution_count": null,
   "id": "7b634436",
   "metadata": {},
   "outputs": [],
   "source": []
  }
 ],
 "metadata": {
  "kernelspec": {
   "display_name": "Python 3 (ipykernel)",
   "language": "python",
   "name": "python3"
  },
  "language_info": {
   "codemirror_mode": {
    "name": "ipython",
    "version": 3
   },
   "file_extension": ".py",
   "mimetype": "text/x-python",
   "name": "python",
   "nbconvert_exporter": "python",
   "pygments_lexer": "ipython3",
   "version": "3.9.12"
  },
  "vscode": {
   "interpreter": {
    "hash": "86dc8f041796b6227cd422edc050d62b3be1a14e09f4938d7cbbfa32e712d0be"
   }
  }
 },
 "nbformat": 4,
 "nbformat_minor": 5
}
