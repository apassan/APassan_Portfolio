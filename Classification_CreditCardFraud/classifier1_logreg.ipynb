{
 "cells": [
  {
   "cell_type": "markdown",
   "id": "26608363",
   "metadata": {},
   "source": [
    "# Model: Logistic Regression"
   ]
  },
  {
   "cell_type": "markdown",
   "id": "20268521",
   "metadata": {},
   "source": [
    "### Import packages and modules"
   ]
  },
  {
   "cell_type": "code",
   "execution_count": 6,
   "id": "a86d887c",
   "metadata": {},
   "outputs": [],
   "source": [
    "import csv\n",
    "import numpy as np\n",
    "import pandas as pd\n",
    "\n",
    "import seaborn as sns\n",
    "from matplotlib import pyplot as plt\n",
    "\n",
    "from imblearn.under_sampling import RandomUnderSampler \n",
    "\n",
    "from sklearn.model_selection import train_test_split\n",
    "from sklearn.model_selection import GridSearchCV\n",
    "\n",
    "from sklearn.metrics import *\n",
    "\n",
    "from sklearn.linear_model import LogisticRegression"
   ]
  },
  {
   "cell_type": "markdown",
   "id": "a15bd023",
   "metadata": {},
   "source": [
    "### Import data"
   ]
  },
  {
   "cell_type": "code",
   "execution_count": 7,
   "id": "7595124c",
   "metadata": {},
   "outputs": [],
   "source": [
    "%run /Users/apassan/Documents/03_Professional/07_GitHubRepo/APassan_Portfolio/Classification_CreditCardFraud/scripts/model_prep.py"
   ]
  },
  {
   "cell_type": "markdown",
   "id": "e6f6f897",
   "metadata": {},
   "source": [
    "### Confirm X and Y Shapes"
   ]
  },
  {
   "cell_type": "code",
   "execution_count": 8,
   "id": "9cb71e97",
   "metadata": {},
   "outputs": [
    {
     "name": "stdout",
     "output_type": "stream",
     "text": [
      "X_train shape: (139844, 7)\n",
      "Y_train shape: (139844,)\n",
      "X_test shape: (34962, 7)\n",
      "Y_test shape: (34962,)\n"
     ]
    }
   ],
   "source": [
    "# Print the shapes to ensure the matrix dimensions line up\n",
    "print('X_train shape:', X_train.shape)\n",
    "print('Y_train shape:', Y_train.shape)\n",
    "print('X_test shape:', X_test.shape)\n",
    "print('Y_test shape:', Y_test.shape)\n"
   ]
  },
  {
   "cell_type": "markdown",
   "id": "786effd4",
   "metadata": {},
   "source": [
    "### Baseline Model"
   ]
  },
  {
   "cell_type": "markdown",
   "id": "06c017f9",
   "metadata": {},
   "source": [
    "First we will create a base logistic regression model"
   ]
  },
  {
   "cell_type": "code",
   "execution_count": 9,
   "id": "f299cff5",
   "metadata": {},
   "outputs": [],
   "source": [
    "# Base Logistic Regression Model \n",
    "logreg_baseline = LogisticRegression(random_state=1)\n",
    "\n",
    "#Fit\n",
    "logreg_baseline.fit(X_train, Y_train)\n",
    "\n",
    "Y_pred_logreg_baseline=logreg_baseline.predict(X_test) "
   ]
  },
  {
   "cell_type": "code",
   "execution_count": 10,
   "id": "643a12bf",
   "metadata": {},
   "outputs": [
    {
     "data": {
      "text/plain": [
       "Text(33.0, 0.5, 'Truth')"
      ]
     },
     "execution_count": 10,
     "metadata": {},
     "output_type": "execute_result"
    },
    {
     "data": {
      "image/png": "[encoded data removed]",
      "text/plain": [
       "<Figure size 432x288 with 2 Axes>"
      ]
     },
     "metadata": {
      "needs_background": "light"
     },
     "output_type": "display_data"
    }
   ],
   "source": [
    "cm_baseline = confusion_matrix(Y_test, Y_pred_logreg_baseline)\n",
    "\n",
    "sns.heatmap(cm_baseline, annot = True)\n",
    "plt.xlabel('Predicted')\n",
    "plt.ylabel('Truth')"
   ]
  },
  {
   "cell_type": "code",
   "execution_count": 12,
   "id": "c8f57df8",
   "metadata": {},
   "outputs": [
    {
     "name": "stdout",
     "output_type": "stream",
     "text": [
      "              precision    recall  f1-score   support\n",
      "\n",
      "         0.0       0.95      0.94      0.94     17489\n",
      "         1.0       0.94      0.95      0.94     17473\n",
      "\n",
      "    accuracy                           0.94     34962\n",
      "   macro avg       0.94      0.94      0.94     34962\n",
      "weighted avg       0.94      0.94      0.94     34962\n",
      "\n"
     ]
    }
   ],
   "source": [
    "print(classification_report(Y_test, Y_pred_logreg_baseline))"
   ]
  },
  {
   "cell_type": "markdown",
   "id": "1cd5f33b",
   "metadata": {},
   "source": [
    "### Improve the Model"
   ]
  },
  {
   "cell_type": "markdown",
   "id": "fcbf8212",
   "metadata": {},
   "source": [
    "Now we will implement Grid Search and K-5 cross validation to get the best logistic regression model."
   ]
  },
  {
   "cell_type": "code",
   "execution_count": 15,
   "id": "f8cd7df9",
   "metadata": {},
   "outputs": [
    {
     "name": "stdout",
     "output_type": "stream",
     "text": [
      "Fitting 5 folds for each of 20 candidates, totalling 100 fits\n"
     ]
    },
    {
     "name": "stderr",
     "output_type": "stream",
     "text": [
      "/Users/apassan/miniforge3/envs/tf/lib/python3.9/site-packages/sklearn/linear_model/_logistic.py:1113: UserWarning: Setting penalty='none' will ignore the C and l1_ratio parameters\n",
      "  warnings.warn(\n"
     ]
    },
    {
     "name": "stdout",
     "output_type": "stream",
     "text": [
      "[CV] END ...............................C=0.05, penalty=none; total time=   0.2s\n"
     ]
    },
    {
     "name": "stderr",
     "output_type": "stream",
     "text": [
      "/Users/apassan/miniforge3/envs/tf/lib/python3.9/site-packages/sklearn/linear_model/_logistic.py:1113: UserWarning: Setting penalty='none' will ignore the C and l1_ratio parameters\n",
      "  warnings.warn(\n"
     ]
    },
    {
     "name": "stdout",
     "output_type": "stream",
     "text": [
      "[CV] END ...............................C=0.05, penalty=none; total time=   0.2s\n"
     ]
    },
    {
     "name": "stderr",
     "output_type": "stream",
     "text": [
      "/Users/apassan/miniforge3/envs/tf/lib/python3.9/site-packages/sklearn/linear_model/_logistic.py:1113: UserWarning: Setting penalty='none' will ignore the C and l1_ratio parameters\n",
      "  warnings.warn(\n"
     ]
    },
    {
     "name": "stdout",
     "output_type": "stream",
     "text": [
      "[CV] END ...............................C=0.05, penalty=none; total time=   0.2s\n"
     ]
    },
    {
     "name": "stderr",
     "output_type": "stream",
     "text": [
      "/Users/apassan/miniforge3/envs/tf/lib/python3.9/site-packages/sklearn/linear_model/_logistic.py:1113: UserWarning: Setting penalty='none' will ignore the C and l1_ratio parameters\n",
      "  warnings.warn(\n"
     ]
    },
    {
     "name": "stdout",
     "output_type": "stream",
     "text": [
      "[CV] END ...............................C=0.05, penalty=none; total time=   0.3s\n"
     ]
    },
    {
     "name": "stderr",
     "output_type": "stream",
     "text": [
      "/Users/apassan/miniforge3/envs/tf/lib/python3.9/site-packages/sklearn/linear_model/_logistic.py:1113: UserWarning: Setting penalty='none' will ignore the C and l1_ratio parameters\n",
      "  warnings.warn(\n"
     ]
    },
    {
     "name": "stdout",
     "output_type": "stream",
     "text": [
      "[CV] END ...............................C=0.05, penalty=none; total time=   0.3s\n",
      "[CV] END .................................C=0.05, penalty=l1; total time=   0.0s\n",
      "[CV] END .................................C=0.05, penalty=l1; total time=   0.0s\n",
      "[CV] END .................................C=0.05, penalty=l1; total time=   0.0s\n",
      "[CV] END .................................C=0.05, penalty=l1; total time=   0.0s\n",
      "[CV] END .................................C=0.05, penalty=l1; total time=   0.0s\n",
      "[CV] END .................................C=0.05, penalty=l2; total time=   0.2s\n",
      "[CV] END .................................C=0.05, penalty=l2; total time=   0.2s\n",
      "[CV] END .................................C=0.05, penalty=l2; total time=   0.2s\n",
      "[CV] END .................................C=0.05, penalty=l2; total time=   0.3s\n",
      "[CV] END .................................C=0.05, penalty=l2; total time=   0.2s\n",
      "[CV] END ........................C=0.05, penalty=elastic_net; total time=   0.0s\n",
      "[CV] END ........................C=0.05, penalty=elastic_net; total time=   0.0s\n",
      "[CV] END ........................C=0.05, penalty=elastic_net; total time=   0.0s\n",
      "[CV] END ........................C=0.05, penalty=elastic_net; total time=   0.0s\n",
      "[CV] END ........................C=0.05, penalty=elastic_net; total time=   0.0s\n"
     ]
    },
    {
     "name": "stderr",
     "output_type": "stream",
     "text": [
      "/Users/apassan/miniforge3/envs/tf/lib/python3.9/site-packages/sklearn/linear_model/_logistic.py:1113: UserWarning: Setting penalty='none' will ignore the C and l1_ratio parameters\n",
      "  warnings.warn(\n"
     ]
    },
    {
     "name": "stdout",
     "output_type": "stream",
     "text": [
      "[CV] END ................................C=0.1, penalty=none; total time=   0.2s\n"
     ]
    },
    {
     "name": "stderr",
     "output_type": "stream",
     "text": [
      "/Users/apassan/miniforge3/envs/tf/lib/python3.9/site-packages/sklearn/linear_model/_logistic.py:1113: UserWarning: Setting penalty='none' will ignore the C and l1_ratio parameters\n",
      "  warnings.warn(\n"
     ]
    },
    {
     "name": "stdout",
     "output_type": "stream",
     "text": [
      "[CV] END ................................C=0.1, penalty=none; total time=   0.2s\n"
     ]
    },
    {
     "name": "stderr",
     "output_type": "stream",
     "text": [
      "/Users/apassan/miniforge3/envs/tf/lib/python3.9/site-packages/sklearn/linear_model/_logistic.py:1113: UserWarning: Setting penalty='none' will ignore the C and l1_ratio parameters\n",
      "  warnings.warn(\n"
     ]
    },
    {
     "name": "stdout",
     "output_type": "stream",
     "text": [
      "[CV] END ................................C=0.1, penalty=none; total time=   0.2s\n"
     ]
    },
    {
     "name": "stderr",
     "output_type": "stream",
     "text": [
      "/Users/apassan/miniforge3/envs/tf/lib/python3.9/site-packages/sklearn/linear_model/_logistic.py:1113: UserWarning: Setting penalty='none' will ignore the C and l1_ratio parameters\n",
      "  warnings.warn(\n"
     ]
    },
    {
     "name": "stdout",
     "output_type": "stream",
     "text": [
      "[CV] END ................................C=0.1, penalty=none; total time=   0.3s\n"
     ]
    },
    {
     "name": "stderr",
     "output_type": "stream",
     "text": [
      "/Users/apassan/miniforge3/envs/tf/lib/python3.9/site-packages/sklearn/linear_model/_logistic.py:1113: UserWarning: Setting penalty='none' will ignore the C and l1_ratio parameters\n",
      "  warnings.warn(\n"
     ]
    },
    {
     "name": "stdout",
     "output_type": "stream",
     "text": [
      "[CV] END ................................C=0.1, penalty=none; total time=   0.3s\n",
      "[CV] END ..................................C=0.1, penalty=l1; total time=   0.0s\n",
      "[CV] END ..................................C=0.1, penalty=l1; total time=   0.0s\n",
      "[CV] END ..................................C=0.1, penalty=l1; total time=   0.0s\n",
      "[CV] END ..................................C=0.1, penalty=l1; total time=   0.0s\n",
      "[CV] END ..................................C=0.1, penalty=l1; total time=   0.0s\n",
      "[CV] END ..................................C=0.1, penalty=l2; total time=   0.2s\n",
      "[CV] END ..................................C=0.1, penalty=l2; total time=   0.3s\n",
      "[CV] END ..................................C=0.1, penalty=l2; total time=   0.2s\n",
      "[CV] END ..................................C=0.1, penalty=l2; total time=   0.3s\n",
      "[CV] END ..................................C=0.1, penalty=l2; total time=   0.2s\n",
      "[CV] END .........................C=0.1, penalty=elastic_net; total time=   0.0s\n",
      "[CV] END .........................C=0.1, penalty=elastic_net; total time=   0.0s\n",
      "[CV] END .........................C=0.1, penalty=elastic_net; total time=   0.0s\n",
      "[CV] END .........................C=0.1, penalty=elastic_net; total time=   0.0s\n",
      "[CV] END .........................C=0.1, penalty=elastic_net; total time=   0.0s\n"
     ]
    },
    {
     "name": "stderr",
     "output_type": "stream",
     "text": [
      "/Users/apassan/miniforge3/envs/tf/lib/python3.9/site-packages/sklearn/linear_model/_logistic.py:1113: UserWarning: Setting penalty='none' will ignore the C and l1_ratio parameters\n",
      "  warnings.warn(\n"
     ]
    },
    {
     "name": "stdout",
     "output_type": "stream",
     "text": [
      "[CV] END ................................C=0.5, penalty=none; total time=   0.2s\n"
     ]
    },
    {
     "name": "stderr",
     "output_type": "stream",
     "text": [
      "/Users/apassan/miniforge3/envs/tf/lib/python3.9/site-packages/sklearn/linear_model/_logistic.py:1113: UserWarning: Setting penalty='none' will ignore the C and l1_ratio parameters\n",
      "  warnings.warn(\n"
     ]
    },
    {
     "name": "stdout",
     "output_type": "stream",
     "text": [
      "[CV] END ................................C=0.5, penalty=none; total time=   0.2s\n"
     ]
    },
    {
     "name": "stderr",
     "output_type": "stream",
     "text": [
      "/Users/apassan/miniforge3/envs/tf/lib/python3.9/site-packages/sklearn/linear_model/_logistic.py:1113: UserWarning: Setting penalty='none' will ignore the C and l1_ratio parameters\n",
      "  warnings.warn(\n"
     ]
    },
    {
     "name": "stdout",
     "output_type": "stream",
     "text": [
      "[CV] END ................................C=0.5, penalty=none; total time=   0.2s\n"
     ]
    },
    {
     "name": "stderr",
     "output_type": "stream",
     "text": [
      "/Users/apassan/miniforge3/envs/tf/lib/python3.9/site-packages/sklearn/linear_model/_logistic.py:1113: UserWarning: Setting penalty='none' will ignore the C and l1_ratio parameters\n",
      "  warnings.warn(\n"
     ]
    },
    {
     "name": "stdout",
     "output_type": "stream",
     "text": [
      "[CV] END ................................C=0.5, penalty=none; total time=   0.3s\n"
     ]
    },
    {
     "name": "stderr",
     "output_type": "stream",
     "text": [
      "/Users/apassan/miniforge3/envs/tf/lib/python3.9/site-packages/sklearn/linear_model/_logistic.py:1113: UserWarning: Setting penalty='none' will ignore the C and l1_ratio parameters\n",
      "  warnings.warn(\n"
     ]
    },
    {
     "name": "stdout",
     "output_type": "stream",
     "text": [
      "[CV] END ................................C=0.5, penalty=none; total time=   0.3s\n",
      "[CV] END ..................................C=0.5, penalty=l1; total time=   0.0s\n",
      "[CV] END ..................................C=0.5, penalty=l1; total time=   0.0s\n",
      "[CV] END ..................................C=0.5, penalty=l1; total time=   0.0s\n",
      "[CV] END ..................................C=0.5, penalty=l1; total time=   0.0s\n",
      "[CV] END ..................................C=0.5, penalty=l1; total time=   0.0s\n",
      "[CV] END ..................................C=0.5, penalty=l2; total time=   0.2s\n",
      "[CV] END ..................................C=0.5, penalty=l2; total time=   0.2s\n",
      "[CV] END ..................................C=0.5, penalty=l2; total time=   0.3s\n",
      "[CV] END ..................................C=0.5, penalty=l2; total time=   0.3s\n",
      "[CV] END ..................................C=0.5, penalty=l2; total time=   0.3s\n",
      "[CV] END .........................C=0.5, penalty=elastic_net; total time=   0.0s\n",
      "[CV] END .........................C=0.5, penalty=elastic_net; total time=   0.0s\n",
      "[CV] END .........................C=0.5, penalty=elastic_net; total time=   0.0s\n",
      "[CV] END .........................C=0.5, penalty=elastic_net; total time=   0.0s\n",
      "[CV] END .........................C=0.5, penalty=elastic_net; total time=   0.0s\n",
      "[CV] END ..................................C=1, penalty=none; total time=   0.2s\n",
      "[CV] END ..................................C=1, penalty=none; total time=   0.2s\n",
      "[CV] END ..................................C=1, penalty=none; total time=   0.2s\n",
      "[CV] END ..................................C=1, penalty=none; total time=   0.3s\n",
      "[CV] END ..................................C=1, penalty=none; total time=   0.3s\n",
      "[CV] END ....................................C=1, penalty=l1; total time=   0.0s\n",
      "[CV] END ....................................C=1, penalty=l1; total time=   0.0s\n",
      "[CV] END ....................................C=1, penalty=l1; total time=   0.0s\n",
      "[CV] END ....................................C=1, penalty=l1; total time=   0.0s\n",
      "[CV] END ....................................C=1, penalty=l1; total time=   0.0s\n",
      "[CV] END ....................................C=1, penalty=l2; total time=   0.2s\n",
      "[CV] END ....................................C=1, penalty=l2; total time=   0.3s\n",
      "[CV] END ....................................C=1, penalty=l2; total time=   0.3s\n",
      "[CV] END ....................................C=1, penalty=l2; total time=   0.2s\n",
      "[CV] END ....................................C=1, penalty=l2; total time=   0.3s\n",
      "[CV] END ...........................C=1, penalty=elastic_net; total time=   0.0s\n",
      "[CV] END ...........................C=1, penalty=elastic_net; total time=   0.0s\n",
      "[CV] END ...........................C=1, penalty=elastic_net; total time=   0.0s\n",
      "[CV] END ...........................C=1, penalty=elastic_net; total time=   0.0s\n",
      "[CV] END ...........................C=1, penalty=elastic_net; total time=   0.0s\n"
     ]
    },
    {
     "name": "stderr",
     "output_type": "stream",
     "text": [
      "/Users/apassan/miniforge3/envs/tf/lib/python3.9/site-packages/sklearn/linear_model/_logistic.py:1113: UserWarning: Setting penalty='none' will ignore the C and l1_ratio parameters\n",
      "  warnings.warn(\n"
     ]
    },
    {
     "name": "stdout",
     "output_type": "stream",
     "text": [
      "[CV] END ..................................C=5, penalty=none; total time=   0.2s\n"
     ]
    },
    {
     "name": "stderr",
     "output_type": "stream",
     "text": [
      "/Users/apassan/miniforge3/envs/tf/lib/python3.9/site-packages/sklearn/linear_model/_logistic.py:1113: UserWarning: Setting penalty='none' will ignore the C and l1_ratio parameters\n",
      "  warnings.warn(\n"
     ]
    },
    {
     "name": "stdout",
     "output_type": "stream",
     "text": [
      "[CV] END ..................................C=5, penalty=none; total time=   0.2s\n"
     ]
    },
    {
     "name": "stderr",
     "output_type": "stream",
     "text": [
      "/Users/apassan/miniforge3/envs/tf/lib/python3.9/site-packages/sklearn/linear_model/_logistic.py:1113: UserWarning: Setting penalty='none' will ignore the C and l1_ratio parameters\n",
      "  warnings.warn(\n"
     ]
    },
    {
     "name": "stdout",
     "output_type": "stream",
     "text": [
      "[CV] END ..................................C=5, penalty=none; total time=   0.2s\n"
     ]
    },
    {
     "name": "stderr",
     "output_type": "stream",
     "text": [
      "/Users/apassan/miniforge3/envs/tf/lib/python3.9/site-packages/sklearn/linear_model/_logistic.py:1113: UserWarning: Setting penalty='none' will ignore the C and l1_ratio parameters\n",
      "  warnings.warn(\n"
     ]
    },
    {
     "name": "stdout",
     "output_type": "stream",
     "text": [
      "[CV] END ..................................C=5, penalty=none; total time=   0.3s\n"
     ]
    },
    {
     "name": "stderr",
     "output_type": "stream",
     "text": [
      "/Users/apassan/miniforge3/envs/tf/lib/python3.9/site-packages/sklearn/linear_model/_logistic.py:1113: UserWarning: Setting penalty='none' will ignore the C and l1_ratio parameters\n",
      "  warnings.warn(\n"
     ]
    },
    {
     "name": "stdout",
     "output_type": "stream",
     "text": [
      "[CV] END ..................................C=5, penalty=none; total time=   0.3s\n",
      "[CV] END ....................................C=5, penalty=l1; total time=   0.0s\n",
      "[CV] END ....................................C=5, penalty=l1; total time=   0.0s\n",
      "[CV] END ....................................C=5, penalty=l1; total time=   0.0s\n",
      "[CV] END ....................................C=5, penalty=l1; total time=   0.0s\n",
      "[CV] END ....................................C=5, penalty=l1; total time=   0.0s\n",
      "[CV] END ....................................C=5, penalty=l2; total time=   0.2s\n",
      "[CV] END ....................................C=5, penalty=l2; total time=   0.2s\n",
      "[CV] END ....................................C=5, penalty=l2; total time=   0.2s\n",
      "[CV] END ....................................C=5, penalty=l2; total time=   0.2s\n",
      "[CV] END ....................................C=5, penalty=l2; total time=   0.3s\n",
      "[CV] END ...........................C=5, penalty=elastic_net; total time=   0.0s\n",
      "[CV] END ...........................C=5, penalty=elastic_net; total time=   0.0s\n",
      "[CV] END ...........................C=5, penalty=elastic_net; total time=   0.0s\n",
      "[CV] END ...........................C=5, penalty=elastic_net; total time=   0.0s\n",
      "[CV] END ...........................C=5, penalty=elastic_net; total time=   0.0s\n"
     ]
    },
    {
     "name": "stderr",
     "output_type": "stream",
     "text": [
      "/Users/apassan/miniforge3/envs/tf/lib/python3.9/site-packages/sklearn/model_selection/_validation.py:378: FitFailedWarning: \n",
      "50 fits failed out of a total of 100.\n",
      "The score on these train-test partitions for these parameters will be set to nan.\n",
      "If these failures are not expected, you can try to debug them by setting error_score='raise'.\n",
      "\n",
      "Below are more details about the failures:\n",
      "--------------------------------------------------------------------------------\n",
      "25 fits failed with the following error:\n",
      "Traceback (most recent call last):\n",
      "  File \"/Users/apassan/miniforge3/envs/tf/lib/python3.9/site-packages/sklearn/model_selection/_validation.py\", line 686, in _fit_and_score\n",
      "    estimator.fit(X_train, y_train, **fit_params)\n",
      "  File \"/Users/apassan/miniforge3/envs/tf/lib/python3.9/site-packages/sklearn/linear_model/_logistic.py\", line 1091, in fit\n",
      "    solver = _check_solver(self.solver, self.penalty, self.dual)\n",
      "  File \"/Users/apassan/miniforge3/envs/tf/lib/python3.9/site-packages/sklearn/linear_model/_logistic.py\", line 61, in _check_solver\n",
      "    raise ValueError(\n",
      "ValueError: Solver lbfgs supports only 'l2' or 'none' penalties, got l1 penalty.\n",
      "\n",
      "--------------------------------------------------------------------------------\n",
      "25 fits failed with the following error:\n",
      "Traceback (most recent call last):\n",
      "  File \"/Users/apassan/miniforge3/envs/tf/lib/python3.9/site-packages/sklearn/model_selection/_validation.py\", line 686, in _fit_and_score\n",
      "    estimator.fit(X_train, y_train, **fit_params)\n",
      "  File \"/Users/apassan/miniforge3/envs/tf/lib/python3.9/site-packages/sklearn/linear_model/_logistic.py\", line 1091, in fit\n",
      "    solver = _check_solver(self.solver, self.penalty, self.dual)\n",
      "  File \"/Users/apassan/miniforge3/envs/tf/lib/python3.9/site-packages/sklearn/linear_model/_logistic.py\", line 55, in _check_solver\n",
      "    raise ValueError(\n",
      "ValueError: Logistic Regression supports only penalties in ['l1', 'l2', 'elasticnet', 'none'], got elastic_net.\n",
      "\n",
      "  warnings.warn(some_fits_failed_message, FitFailedWarning)\n",
      "/Users/apassan/miniforge3/envs/tf/lib/python3.9/site-packages/sklearn/model_selection/_search.py:953: UserWarning: One or more of the test scores are non-finite: [0.93933239        nan 0.93914647        nan 0.93933239        nan\n",
      " 0.93921083        nan 0.93933239        nan 0.93926088        nan\n",
      " 0.93933239        nan 0.93928233        nan 0.93933239        nan\n",
      " 0.93933239        nan]\n",
      "  warnings.warn(\n",
      "/Users/apassan/miniforge3/envs/tf/lib/python3.9/site-packages/sklearn/linear_model/_logistic.py:1113: UserWarning: Setting penalty='none' will ignore the C and l1_ratio parameters\n",
      "  warnings.warn(\n"
     ]
    },
    {
     "name": "stdout",
     "output_type": "stream",
     "text": [
      "{'C': 0.05, 'penalty': 'none'}\n"
     ]
    }
   ],
   "source": [
    "\n",
    "# Find the best best penalty and C value \n",
    "param_grid = { 'penalty': ['none', 'l1', 'l2', 'elastic_net'], 'C': [0.05, 0.1, 0.5, 1, 5] }\n",
    "\n",
    "logreg_gscv = GridSearchCV(LogisticRegression(random_state = 1), param_grid=param_grid, verbose = 2, refit = True)\n",
    "\n",
    "logreg_gscv.fit(X_train, Y_train)\n",
    "\n",
    "print(logreg_gscv.best_params_)"
   ]
  },
  {
   "cell_type": "markdown",
   "id": "32c85afb",
   "metadata": {},
   "source": [
    "### Final Model"
   ]
  },
  {
   "cell_type": "code",
   "execution_count": 16,
   "id": "ea5c1c6f",
   "metadata": {},
   "outputs": [
    {
     "name": "stderr",
     "output_type": "stream",
     "text": [
      "/Users/apassan/miniforge3/envs/tf/lib/python3.9/site-packages/sklearn/linear_model/_logistic.py:1113: UserWarning: Setting penalty='none' will ignore the C and l1_ratio parameters\n",
      "  warnings.warn(\n"
     ]
    }
   ],
   "source": [
    "# Final Logistirc Regression Model\n",
    "logreg_fin=LogisticRegression(C = 0.05, penalty = 'none')\n",
    "\n",
    "logreg_fin.fit(X_train,Y_train)\n",
    "\n",
    "Y_pred_logreg_fin=logreg_fin.predict(X_test) "
   ]
  },
  {
   "cell_type": "code",
   "execution_count": 17,
   "id": "40a14893",
   "metadata": {},
   "outputs": [
    {
     "data": {
      "text/plain": [
       "Text(33.0, 0.5, 'Truth')"
      ]
     },
     "execution_count": 17,
     "metadata": {},
     "output_type": "execute_result"
    },
    {
     "data": {
      "image/png": "[encoded data removed]",
      "text/plain": [
       "<Figure size 432x288 with 2 Axes>"
      ]
     },
     "metadata": {
      "needs_background": "light"
     },
     "output_type": "display_data"
    }
   ],
   "source": [
    "cm = confusion_matrix(Y_test, Y_pred_logreg_fin)\n",
    "sns.heatmap(cm, annot = True)\n",
    "plt.xlabel(\"Predicted\")\n",
    "plt.ylabel(\"Truth\")\n"
   ]
  },
  {
   "cell_type": "code",
   "execution_count": 18,
   "id": "7b634436",
   "metadata": {},
   "outputs": [
    {
     "name": "stdout",
     "output_type": "stream",
     "text": [
      "              precision    recall  f1-score   support\n",
      "\n",
      "         0.0       0.95      0.94      0.94     17489\n",
      "         1.0       0.94      0.95      0.94     17473\n",
      "\n",
      "    accuracy                           0.94     34962\n",
      "   macro avg       0.94      0.94      0.94     34962\n",
      "weighted avg       0.94      0.94      0.94     34962\n",
      "\n"
     ]
    }
   ],
   "source": [
    "print(classification_report(Y_test, Y_pred_logreg_fin))"
   ]
  }
 ],
 "metadata": {
  "kernelspec": {
   "display_name": "Python 3 (ipykernel)",
   "language": "python",
   "name": "python3"
  },
  "language_info": {
   "codemirror_mode": {
    "name": "ipython",
    "version": 3
   },
   "file_extension": ".py",
   "mimetype": "text/x-python",
   "name": "python",
   "nbconvert_exporter": "python",
   "pygments_lexer": "ipython3",
   "version": "3.9.12"
  },
  "vscode": {
   "interpreter": {
    "hash": "86dc8f041796b6227cd422edc050d62b3be1a14e09f4938d7cbbfa32e712d0be"
   }
  }
 },
 "nbformat": 4,
 "nbformat_minor": 5
}
