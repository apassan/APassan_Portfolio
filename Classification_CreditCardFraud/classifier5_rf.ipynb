{
 "cells": [
  {
   "cell_type": "markdown",
   "id": "26608363",
   "metadata": {},
   "source": [
    "# Model: Random Forest"
   ]
  },
  {
   "cell_type": "markdown",
   "id": "20268521",
   "metadata": {},
   "source": [
    "### Import packages and modules"
   ]
  },
  {
   "cell_type": "code",
   "execution_count": 1,
   "id": "a86d887c",
   "metadata": {},
   "outputs": [],
   "source": [
    "import csv\n",
    "import numpy as np\n",
    "import pandas as pd\n",
    "import math\n",
    "\n",
    "import seaborn as sns\n",
    "from matplotlib import pyplot as plt\n",
    "\n",
    "from imblearn.under_sampling import RandomUnderSampler \n",
    "\n",
    "from sklearn.model_selection import train_test_split\n",
    "from sklearn.model_selection import cross_val_score\n",
    "from sklearn.model_selection import GridSearchCV\n",
    "\n",
    "from sklearn.metrics import *\n",
    "\n",
    "from sklearn.ensemble import RandomForestClassifier"
   ]
  },
  {
   "cell_type": "markdown",
   "id": "a15bd023",
   "metadata": {},
   "source": [
    "### Import data"
   ]
  },
  {
   "cell_type": "code",
   "execution_count": 2,
   "id": "7595124c",
   "metadata": {},
   "outputs": [],
   "source": [
    "%run /Users/apassan/Documents/03_Professional/07_GitHubRepo/APassan_Portfolio/Classification_CreditCardFraud/scripts/model_prep.py"
   ]
  },
  {
   "cell_type": "markdown",
   "id": "e6f6f897",
   "metadata": {},
   "source": [
    "### Confirm X and Y Shapes"
   ]
  },
  {
   "cell_type": "code",
   "execution_count": 3,
   "id": "9cb71e97",
   "metadata": {},
   "outputs": [
    {
     "name": "stdout",
     "output_type": "stream",
     "text": [
      "X_train shape: (139844, 7)\n",
      "Y_train shape: (139844,)\n",
      "X_test shape: (34962, 7)\n",
      "Y_test shape: (34962,)\n"
     ]
    }
   ],
   "source": [
    "# Print the shapes to ensure the matrix dimensions line up\n",
    "print('X_train shape:', X_train.shape)\n",
    "print('Y_train shape:', Y_train.shape)\n",
    "print('X_test shape:', X_test.shape)\n",
    "print('Y_test shape:', Y_test.shape)\n"
   ]
  },
  {
   "cell_type": "markdown",
   "id": "786effd4",
   "metadata": {},
   "source": [
    "### Baseline Model"
   ]
  },
  {
   "cell_type": "code",
   "execution_count": 6,
   "id": "8a74b03a",
   "metadata": {},
   "outputs": [],
   "source": [
    "# Baseline Model \n",
    "rf_baseline = RandomForestClassifier(random_state=1)\n",
    "\n",
    "rf_baseline.fit(X_train, Y_train)\n",
    "\n",
    "Y_pred_rf_baseline = rf_baseline.predict(X_test)"
   ]
  },
  {
   "cell_type": "code",
   "execution_count": 7,
   "id": "247c0ddb",
   "metadata": {},
   "outputs": [
    {
     "data": {
      "text/plain": [
       "Text(33.0, 0.5, 'Truth')"
      ]
     },
     "execution_count": 7,
     "metadata": {},
     "output_type": "execute_result"
    },
    {
     "data": {
      "image/png": "[encoded data removed]",
      "text/plain": [
       "<Figure size 432x288 with 2 Axes>"
      ]
     },
     "metadata": {
      "needs_background": "light"
     },
     "output_type": "display_data"
    }
   ],
   "source": [
    "cm_baseline = confusion_matrix(Y_test, Y_pred_rf_baseline)\n",
    "\n",
    "sns.heatmap(cm_baseline, annot = True)\n",
    "plt.xlabel('Predicted')\n",
    "plt.ylabel('Truth')"
   ]
  },
  {
   "cell_type": "code",
   "execution_count": 8,
   "id": "19d7f0de",
   "metadata": {},
   "outputs": [
    {
     "name": "stdout",
     "output_type": "stream",
     "text": [
      "              precision    recall  f1-score   support\n",
      "\n",
      "         0.0       1.00      1.00      1.00     17623\n",
      "         1.0       1.00      1.00      1.00     17339\n",
      "\n",
      "    accuracy                           1.00     34962\n",
      "   macro avg       1.00      1.00      1.00     34962\n",
      "weighted avg       1.00      1.00      1.00     34962\n",
      "\n"
     ]
    }
   ],
   "source": [
    "print(classification_report(Y_test, Y_pred_rf_baseline))"
   ]
  },
  {
   "cell_type": "markdown",
   "id": "fae81568",
   "metadata": {},
   "source": [
    "### Improve the Model"
   ]
  },
  {
   "cell_type": "markdown",
   "id": "bdba3186",
   "metadata": {},
   "source": [
    "Now let us run the grid search and cross validation to improve our INSERT model.\n",
    "\n",
    "Specifically we will try to tune our regularization parameter *max_depth* and *ntrees*.\n",
    "\n",
    "NEED TO GENERALIZE MORE"
   ]
  },
  {
   "cell_type": "code",
   "execution_count": 9,
   "id": "c2838045",
   "metadata": {},
   "outputs": [
    {
     "name": "stdout",
     "output_type": "stream",
     "text": [
      "Fitting 5 folds for each of 3 candidates, totalling 15 fits\n",
      "[CV] END ........................................max_depth=4; total time=   3.8s\n",
      "[CV] END ........................................max_depth=4; total time=   3.9s\n",
      "[CV] END ........................................max_depth=4; total time=   3.9s\n",
      "[CV] END ........................................max_depth=4; total time=   3.8s\n",
      "[CV] END ........................................max_depth=4; total time=   3.8s\n",
      "[CV] END ........................................max_depth=8; total time=   5.0s\n",
      "[CV] END ........................................max_depth=8; total time=   5.0s\n",
      "[CV] END ........................................max_depth=8; total time=   5.1s\n",
      "[CV] END ........................................max_depth=8; total time=   5.1s\n",
      "[CV] END ........................................max_depth=8; total time=   5.1s\n",
      "[CV] END .......................................max_depth=12; total time=   5.6s\n",
      "[CV] END .......................................max_depth=12; total time=   5.6s\n",
      "[CV] END .......................................max_depth=12; total time=   5.6s\n",
      "[CV] END .......................................max_depth=12; total time=   5.6s\n",
      "[CV] END .......................................max_depth=12; total time=   5.4s\n",
      "{'max_depth': 8}\n"
     ]
    }
   ],
   "source": [
    "# Find the best parameters\n",
    "param_grid = {'max_depth': [4, 8, 12]}\n",
    "\n",
    "rf_gscv = GridSearchCV(RandomForestClassifier(random_state = 1, criterion = 'entropy'),\n",
    "                       param_grid=param_grid, \n",
    "                       cv = 5,\n",
    "                       refit = True,\n",
    "                       verbose = 2)\n",
    "\n",
    "rf_gscv.fit(X_train, Y_train)\n",
    "\n",
    "print(rf_gscv.best_params_)\n"
   ]
  },
  {
   "cell_type": "markdown",
   "id": "6f447384",
   "metadata": {},
   "source": [
    "### Final Model"
   ]
  },
  {
   "cell_type": "code",
   "execution_count": 10,
   "id": "96d089c6",
   "metadata": {},
   "outputs": [],
   "source": [
    "# Improved model\n",
    "rf_fin = RandomForestClassifier(random_state = 1, criterion = 'entropy', max_depth = 8)\n",
    "\n",
    "rf_fin.fit(X_train, Y_train)\n",
    "\n",
    "Y_pred_rf_fin = rf_fin.predict(X_test)"
   ]
  },
  {
   "cell_type": "code",
   "execution_count": 11,
   "id": "d6bcd277",
   "metadata": {},
   "outputs": [
    {
     "data": {
      "text/plain": [
       "Text(33.0, 0.5, 'Truth')"
      ]
     },
     "execution_count": 11,
     "metadata": {},
     "output_type": "execute_result"
    },
    {
     "data": {
      "image/png": "[encoded data removed]",
      "text/plain": [
       "<Figure size 432x288 with 2 Axes>"
      ]
     },
     "metadata": {
      "needs_background": "light"
     },
     "output_type": "display_data"
    }
   ],
   "source": [
    "cm_fin = confusion_matrix(Y_test, Y_pred_rf_fin)\n",
    "\n",
    "sns.heatmap(cm_fin, annot = True)\n",
    "plt.xlabel('Predicted')\n",
    "plt.ylabel('Truth')"
   ]
  },
  {
   "cell_type": "code",
   "execution_count": 12,
   "id": "8fc6f8e2",
   "metadata": {},
   "outputs": [
    {
     "name": "stdout",
     "output_type": "stream",
     "text": [
      "              precision    recall  f1-score   support\n",
      "\n",
      "         0.0       1.00      1.00      1.00     17623\n",
      "         1.0       1.00      1.00      1.00     17339\n",
      "\n",
      "    accuracy                           1.00     34962\n",
      "   macro avg       1.00      1.00      1.00     34962\n",
      "weighted avg       1.00      1.00      1.00     34962\n",
      "\n"
     ]
    }
   ],
   "source": [
    "print(classification_report(Y_test, Y_pred_rf_fin))"
   ]
  }
 ],
 "metadata": {
  "kernelspec": {
   "display_name": "Python 3.9.12 ('tf')",
   "language": "python",
   "name": "python3"
  },
  "language_info": {
   "codemirror_mode": {
    "name": "ipython",
    "version": 3
   },
   "file_extension": ".py",
   "mimetype": "text/x-python",
   "name": "python",
   "nbconvert_exporter": "python",
   "pygments_lexer": "ipython3",
   "version": "3.9.12"
  },
  "vscode": {
   "interpreter": {
    "hash": "86dc8f041796b6227cd422edc050d62b3be1a14e09f4938d7cbbfa32e712d0be"
   }
  }
 },
 "nbformat": 4,
 "nbformat_minor": 5
}
