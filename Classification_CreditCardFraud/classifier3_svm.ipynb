{
 "cells": [
  {
   "cell_type": "markdown",
   "id": "26608363",
   "metadata": {},
   "source": [
    "# Support Vector Machine (SVM) Modeling"
   ]
  },
  {
   "cell_type": "markdown",
   "id": "20268521",
   "metadata": {},
   "source": [
    "## Import packages and modules"
   ]
  },
  {
   "cell_type": "code",
   "execution_count": 1,
   "id": "a86d887c",
   "metadata": {},
   "outputs": [],
   "source": [
    "import csv\n",
    "import numpy as np\n",
    "import pandas as pd\n",
    "import math\n",
    "\n",
    "import seaborn as sns\n",
    "from matplotlib import pyplot as plt\n",
    "\n",
    "from imblearn.under_sampling import RandomUnderSampler \n",
    "\n",
    "from sklearn.model_selection import train_test_split\n",
    "from sklearn.model_selection import cross_val_score\n",
    "from sklearn.model_selection import GridSearchCV\n",
    "from sklearn.metrics import *\n",
    "from sklearn.svm import SVC"
   ]
  },
  {
   "cell_type": "markdown",
   "id": "a15bd023",
   "metadata": {},
   "source": [
    "## Import data"
   ]
  },
  {
   "cell_type": "code",
   "execution_count": 2,
   "id": "7595124c",
   "metadata": {},
   "outputs": [],
   "source": [
    "%run /Users/apassan/Documents/03_Professional/07_GitHubRepo/APassan_Portfolio/Classification_CreditCardFraud/scripts/model_prep.py"
   ]
  },
  {
   "cell_type": "markdown",
   "id": "e6f6f897",
   "metadata": {},
   "source": [
    "### Confirm X and Y Shapes"
   ]
  },
  {
   "cell_type": "code",
   "execution_count": 3,
   "id": "9cb71e97",
   "metadata": {},
   "outputs": [
    {
     "name": "stdout",
     "output_type": "stream",
     "text": [
      "X_train shape: (139844, 7)\n",
      "Y_train shape: (139844,)\n",
      "X_test shape: (34962, 7)\n",
      "Y_test shape: (34962,)\n"
     ]
    }
   ],
   "source": [
    "# Print the shapes to ensure the matrix dimensions line up\n",
    "print('X_train shape:', X_train.shape)\n",
    "print('Y_train shape:', Y_train.shape)\n",
    "print('X_test shape:', X_test.shape)\n",
    "print('Y_test shape:', Y_test.shape)\n"
   ]
  },
  {
   "cell_type": "markdown",
   "id": "786effd4",
   "metadata": {},
   "source": [
    "## Model Building - SVM"
   ]
  },
  {
   "cell_type": "markdown",
   "id": "9d6a7329",
   "metadata": {},
   "source": [
    "Let's first create a baseline SVM model."
   ]
  },
  {
   "cell_type": "code",
   "execution_count": 4,
   "id": "8a74b03a",
   "metadata": {},
   "outputs": [],
   "source": [
    "# Baseline Model \n",
    "svm_baseline = SVC(random_state = 1)\n",
    "svm_baseline.fit(X_train, Y_train)\n",
    "Y_pred_svm_baseline = svm_baseline.predict(X_test)\n",
    "\n"
   ]
  },
  {
   "cell_type": "code",
   "execution_count": 5,
   "id": "788abf49",
   "metadata": {},
   "outputs": [
    {
     "data": {
      "text/plain": [
       "Text(33.0, 0.5, 'Truth')"
      ]
     },
     "execution_count": 5,
     "metadata": {},
     "output_type": "execute_result"
    },
    {
     "data": {
      "image/png": "[encoded data removed]",
      "text/plain": [
       "<Figure size 432x288 with 2 Axes>"
      ]
     },
     "metadata": {
      "needs_background": "light"
     },
     "output_type": "display_data"
    }
   ],
   "source": [
    "cm_baseline = confusion_matrix(Y_test, Y_pred_svm_baseline)\n",
    "\n",
    "sns.heatmap(cm_baseline, annot = True)\n",
    "plt.xlabel('Predicted')\n",
    "plt.ylabel('Truth')"
   ]
  },
  {
   "cell_type": "code",
   "execution_count": 6,
   "id": "e9caf333",
   "metadata": {},
   "outputs": [
    {
     "name": "stdout",
     "output_type": "stream",
     "text": [
      "              precision    recall  f1-score   support\n",
      "\n",
      "         0.0       0.99      0.94      0.96     17327\n",
      "         1.0       0.94      0.99      0.96     17635\n",
      "\n",
      "    accuracy                           0.96     34962\n",
      "   macro avg       0.96      0.96      0.96     34962\n",
      "weighted avg       0.96      0.96      0.96     34962\n",
      "\n"
     ]
    }
   ],
   "source": [
    "print(classification_report(Y_test, Y_pred_svm_baseline))"
   ]
  },
  {
   "cell_type": "markdown",
   "id": "9faeb310",
   "metadata": {},
   "source": [
    "### Improve the Model"
   ]
  },
  {
   "cell_type": "markdown",
   "id": "bdba3186",
   "metadata": {},
   "source": [
    "Now let us run the grid search and cross validation to improve our SVM model.\n",
    "\n",
    "Specifically we will try to tune our regularization parameter *C* and our *gamma* parameter."
   ]
  },
  {
   "cell_type": "code",
   "execution_count": 7,
   "id": "b9a40cbb",
   "metadata": {},
   "outputs": [
    {
     "name": "stdout",
     "output_type": "stream",
     "text": [
      "Fitting 5 folds for each of 9 candidates, totalling 45 fits\n"
     ]
    }
   ],
   "source": [
    "# Find the best parameters\n",
    "param_grid = {'C': [0.001, 0.1, 1],\n",
    "              'gamma':[0.1, 1, 10]}\n",
    "\n",
    "svm_gscv = GridSearchCV(SVC(random_state = 1),\n",
    "                       param_grid=param_grid, \n",
    "                       cv = 5,\n",
    "                       refit = True,\n",
    "                       verbose = 2)\n",
    "\n",
    "svm_gscv.fit(X_train, Y_train)\n",
    "\n",
    "print(svm_gscv.best_params_)"
   ]
  },
  {
   "cell_type": "markdown",
   "id": "7895d97a",
   "metadata": {},
   "source": [
    "### Final Model"
   ]
  },
  {
   "cell_type": "code",
   "execution_count": null,
   "id": "55c0224b",
   "metadata": {},
   "outputs": [],
   "source": [
    "# Improved Model \n",
    "svm_fin = SVC(random_state = 1, C = , gamma = )\n",
    "\n",
    "svm_fin.fit(X_train, Y_train)\n",
    "\n",
    "Y_pred_svm_fin = svm_fin.predict(X_test)"
   ]
  },
  {
   "cell_type": "code",
   "execution_count": null,
   "id": "9e270b60",
   "metadata": {},
   "outputs": [],
   "source": [
    "cm_fin = confusion_matrix(Y_test, Y_pred_svm_fin)\n",
    "\n",
    "sns.heatmap(cm_fin, annot = True)\n",
    "plt.xlabel('Predicted')\n",
    "plt.ylabel('Truth')"
   ]
  },
  {
   "cell_type": "code",
   "execution_count": null,
   "id": "435499cc",
   "metadata": {},
   "outputs": [],
   "source": [
    "print(classification_report(Y_test, Y_pred_svm_fin))"
   ]
  }
 ],
 "metadata": {
  "kernelspec": {
   "display_name": "Python 3.9.12 ('tf')",
   "language": "python",
   "name": "python3"
  },
  "language_info": {
   "codemirror_mode": {
    "name": "ipython",
    "version": 3
   },
   "file_extension": ".py",
   "mimetype": "text/x-python",
   "name": "python",
   "nbconvert_exporter": "python",
   "pygments_lexer": "ipython3",
   "version": "3.9.12"
  },
  "vscode": {
   "interpreter": {
    "hash": "86dc8f041796b6227cd422edc050d62b3be1a14e09f4938d7cbbfa32e712d0be"
   }
  }
 },
 "nbformat": 4,
 "nbformat_minor": 5
}
