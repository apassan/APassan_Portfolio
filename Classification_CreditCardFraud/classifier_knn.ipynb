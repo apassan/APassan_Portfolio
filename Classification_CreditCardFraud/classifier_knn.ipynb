{
 "cells": [
  {
   "cell_type": "markdown",
   "id": "26608363",
   "metadata": {},
   "source": [
    "# KNN Modeling"
   ]
  },
  {
   "cell_type": "markdown",
   "id": "20268521",
   "metadata": {},
   "source": [
    "## Import packages and modules"
   ]
  },
  {
   "cell_type": "code",
   "execution_count": 2,
   "id": "a86d887c",
   "metadata": {},
   "outputs": [],
   "source": [
    "import csv\n",
    "import numpy as np\n",
    "import pandas as pd\n",
    "\n",
    "import seaborn as sns\n",
    "from matplotlib import pyplot as plt\n",
    "\n",
    "from imblearn.under_sampling import RandomUnderSampler \n",
    "\n",
    "from sklearn.model_selection import train_test_split\n",
    "from sklearn.model_selection import cross_val_score\n",
    "from sklearn.neighbors import KNeighborsClassifier\n",
    "from sklearn.metrics import *"
   ]
  },
  {
   "cell_type": "markdown",
   "id": "a15bd023",
   "metadata": {},
   "source": [
    "## Import data"
   ]
  },
  {
   "cell_type": "code",
   "execution_count": 3,
   "id": "7595124c",
   "metadata": {},
   "outputs": [],
   "source": [
    "%run /Users/apassan/Documents/03_Professional/07_GitHubRepo/APassan_Portfolio/Classification_CreditCardFraud/scripts/model_prep.py"
   ]
  },
  {
   "cell_type": "markdown",
   "id": "e6f6f897",
   "metadata": {},
   "source": [
    "### Confirm X and Y Shapes"
   ]
  },
  {
   "cell_type": "code",
   "execution_count": 4,
   "id": "9cb71e97",
   "metadata": {},
   "outputs": [
    {
     "name": "stdout",
     "output_type": "stream",
     "text": [
      "X_train shape: (139844, 7)\n",
      "Y_train shape: (139844,)\n",
      "X_test shape: (34962, 7)\n",
      "Y_test shape: (34962,)\n"
     ]
    }
   ],
   "source": [
    "# Print the shapes to ensure the matrix dimensions line up\n",
    "print('X_train shape:', X_train.shape)\n",
    "print('Y_train shape:', Y_train.shape)\n",
    "print('X_test shape:', X_test.shape)\n",
    "print('Y_test shape:', Y_test.shape)\n"
   ]
  },
  {
   "cell_type": "markdown",
   "id": "786effd4",
   "metadata": {},
   "source": [
    "## Model Building - KNN"
   ]
  },
  {
   "cell_type": "markdown",
   "id": "06c017f9",
   "metadata": {},
   "source": [
    "We will first write a function setting up our knn model."
   ]
  },
  {
   "cell_type": "code",
   "execution_count": 5,
   "id": "1d676bbe",
   "metadata": {},
   "outputs": [],
   "source": [
    "error_rate = []\n",
    "# Will take some time\n",
    "for i in range(1,40):\n",
    "    knn_model = KNeighborsClassifier(n_neighbors=i)\n",
    "    knn_model.fit(X_train,Y_train)\n",
    "    Y_pred = knn_model.predict(X_test)\n",
    "    error_rate.append(np.mean(Y_pred != Y_test))"
   ]
  },
  {
   "cell_type": "code",
   "execution_count": 6,
   "id": "feb3a520",
   "metadata": {},
   "outputs": [
    {
     "data": {
      "text/plain": [
       "Text(0, 0.5, 'Error Rate')"
      ]
     },
     "execution_count": 6,
     "metadata": {},
     "output_type": "execute_result"
    },
    {
     "data": {
      "image/png": "[encoded data removed]",
      "text/plain": [
       "<Figure size 432x288 with 1 Axes>"
      ]
     },
     "metadata": {
      "needs_background": "light"
     },
     "output_type": "display_data"
    }
   ],
   "source": [
    "plt.plot(range(1,40), error_rate)\n",
    "plt.xlabel('Value of K for KNN')\n",
    "plt.ylabel('Error Rate')  "
   ]
  },
  {
   "cell_type": "markdown",
   "id": "a34b27ff",
   "metadata": {},
   "source": [
    "Based on the above graph, it looks like the optimal value for k will likely be either 3."
   ]
  },
  {
   "cell_type": "code",
   "execution_count": 6,
   "id": "6e544aa7",
   "metadata": {},
   "outputs": [
    {
     "name": "stdout",
     "output_type": "stream",
     "text": [
      "[0.99210571 0.99207689 0.9930494  0.99333543 0.99210549]\n",
      "knn_model3 accuracy: 0.9925345836462643\n"
     ]
    }
   ],
   "source": [
    "## Test k = 3 - with K-5 Cross validation \n",
    "\n",
    "# Create KNN model \n",
    "knn_model3 = KNeighborsClassifier(n_neighbors=3, algorithm = 'auto')\n",
    "\n",
    "#train model with cv of 5 \n",
    "cv_scores3 = cross_val_score(knn_model3, X_us, Y_us, cv=5)\n",
    "\n",
    "print(cv_scores3)\n",
    "accuracy_fin3 = np.mean(cv_scores3)\n",
    "print('knn_model3 accuracy:', accuracy_fin3)\n"
   ]
  },
  {
   "cell_type": "code",
   "execution_count": 9,
   "id": "e8c950c2",
   "metadata": {},
   "outputs": [
    {
     "name": "stdout",
     "output_type": "stream",
     "text": [
      "Accuracy: 0.9928\n",
      "AP: 0.9937\n"
     ]
    }
   ],
   "source": [
    "knn3 = KNeighborsClassifier(n_neighbors=3, algorithm='auto')\n",
    "knn3.fit(X_train, Y_train)\n",
    "preds3 = knn3.predict_proba(X_test)[:,1]\n",
    "print('Accuracy: %1.4f' %accuracy_score(Y_test, preds3>.5))\n",
    "print('AP: %1.4f' %average_precision_score(Y_test, preds3))"
   ]
  },
  {
   "cell_type": "markdown",
   "id": "5217b4db",
   "metadata": {},
   "source": [
    "### Extra Code"
   ]
  },
  {
   "cell_type": "code",
   "execution_count": null,
   "id": "b6442983",
   "metadata": {},
   "outputs": [],
   "source": [
    "# All features\n",
    "k_range = range(1,10)\n",
    "\n",
    "scores = {}\n",
    "\n",
    "scores_list = []\n",
    "\n",
    "for k in k_range:\n",
    "    model = KNeighborsClassifier(n_neighbors=k)\n",
    "    model.fit(X_train, Y_train)\n",
    "    Y_pred = model.predict(X_test)\n",
    "    scores[k] = metrics.accuracy_score(Y_test, Y_pred)\n",
    "    scores_list.append(metrics.accuracy_score(Y_test, Y_pred))\n",
    "\n",
    "    \n",
    "plt.plot(k_range, scores_list)\n",
    "plt.xlabel('Value of K for KNN')\n",
    "plt.ylabel('Testing Accuracy')  "
   ]
  },
  {
   "cell_type": "code",
   "execution_count": null,
   "id": "8657603e",
   "metadata": {},
   "outputs": [],
   "source": [
    "# Get Accuracy \n",
    "Y_pred_prob = model.predict_proba(X_test)\n",
    "print('Accuracy: %1.4f' %accuracy_score(Y_test, Y_pred_prob>.5))\n",
    "print('AP: %1.4f' %average_precision_score(Y_test, Y_pred_prob))"
   ]
  },
  {
   "cell_type": "code",
   "execution_count": null,
   "id": "1b28508b",
   "metadata": {},
   "outputs": [],
   "source": [
    "train_1 = X_train.iloc[:, 6:]\n",
    "train_2 = X_train.iloc[:, 5:]\n",
    "train_3 = X_train.iloc[:, 4:]\n",
    "train_4 = X_train.iloc[:, 3:]\n",
    "train_5 = X_train.iloc[:, 2:]\n",
    "train_6 = X_train.iloc[:, 1:]\n",
    "train_7 = X_train.iloc[:, 0:]\n",
    "\n",
    "test_1 = X_test.iloc[:, 6:]\n",
    "test_2 = X_test.iloc[:, 5:]\n",
    "test_3 = X_test.iloc[:, 4:]\n",
    "test_4 = X_test.iloc[:, 3:]\n",
    "test_5 = X_test.iloc[:, 2:]\n",
    "test_6 = X_test.iloc[:, 1:]\n",
    "test_7 = X_test.iloc[:, 0:]"
   ]
  }
 ],
 "metadata": {
  "kernelspec": {
   "display_name": "Python 3 (ipykernel)",
   "language": "python",
   "name": "python3"
  },
  "language_info": {
   "codemirror_mode": {
    "name": "ipython",
    "version": 3
   },
   "file_extension": ".py",
   "mimetype": "text/x-python",
   "name": "python",
   "nbconvert_exporter": "python",
   "pygments_lexer": "ipython3",
   "version": "3.9.12"
  },
  "vscode": {
   "interpreter": {
    "hash": "86dc8f041796b6227cd422edc050d62b3be1a14e09f4938d7cbbfa32e712d0be"
   }
  }
 },
 "nbformat": 4,
 "nbformat_minor": 5
}
