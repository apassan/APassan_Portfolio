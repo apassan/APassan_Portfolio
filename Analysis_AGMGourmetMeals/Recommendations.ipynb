{
 "cells": [
  {
   "cell_type": "markdown",
   "id": "cd11da2a",
   "metadata": {},
   "source": [
    "# Reccomendations to AGM:\n",
    "\n",
    "1. Put a greater focus on growing the Nashville customer base, and consequently sales.\n",
    "\n",
    "2. Conduct further analysis on AGM's top customers in the different stores.\n",
    "\n",
    "3. Look into removing the chicken salad and spinach orzo from the product selection."
   ]
  },
  {
   "cell_type": "code",
   "execution_count": 10,
   "id": "a400eec0",
   "metadata": {},
   "outputs": [],
   "source": [
    "# Import necessary packages\n",
    "import math\n",
    "import numpy as np\n",
    "import pandas as pd\n",
    "import psycopg2\n",
    "import matplotlib.pyplot as plt\n",
    "import seaborn as sns"
   ]
  },
  {
   "cell_type": "code",
   "execution_count": 11,
   "id": "8fa124e7",
   "metadata": {},
   "outputs": [],
   "source": [
    "def my_select_query_pandas(query, rollback_before_flag, rollback_after_flag):\n",
    "    '''This function will run a selected query in Postgres and \n",
    "    return the rows in a pandas dataframe'''\n",
    "    \n",
    "    if rollback_before_flag:\n",
    "        connection.rollback()\n",
    "    \n",
    "    df = pd.read_sql_query(query, connection)\n",
    "    \n",
    "    if rollback_after_flag:\n",
    "        connection.rollback()\n",
    "    \n",
    "    # Below converts float columns that integer columns, for those that should be integer columns.\n",
    "    for column in df:\n",
    "    \n",
    "        if df[column].dtype == \"float64\":\n",
    "\n",
    "            fraction_flag = False\n",
    "\n",
    "            for value in df[column].values:\n",
    "                \n",
    "                if not np.isnan(value):\n",
    "                    if value - math.floor(value) != 0:\n",
    "                        fraction_flag = True\n",
    "\n",
    "            if not fraction_flag:\n",
    "                df[column] = df[column].astype('Int64')\n",
    "    \n",
    "    return(df)\n",
    "\n",
    "connection = psycopg2.connect(\n",
    "    user = \"postgres\",\n",
    "    password = \"ucb\",\n",
    "    host = \"postgres\",\n",
    "    port = \"5432\",\n",
    "    database = \"postgres\"\n",
    ")\n",
    "\n",
    "cursor = connection.cursor()"
   ]
  },
  {
   "cell_type": "markdown",
   "id": "d95e2fab",
   "metadata": {},
   "source": [
    "##### We will begin by understanding AGM's sales in the past year."
   ]
  },
  {
   "cell_type": "code",
   "execution_count": 3,
   "id": "86d9c493",
   "metadata": {},
   "outputs": [
    {
     "name": "stdout",
     "output_type": "stream",
     "text": [
      "Table 1: Breakdown of Sales by Store\n"
     ]
    },
    {
     "data": {
      "text/html": [
       "<div>\n",
       "<style scoped>\n",
       "    .dataframe tbody tr th:only-of-type {\n",
       "        vertical-align: middle;\n",
       "    }\n",
       "\n",
       "    .dataframe tbody tr th {\n",
       "        vertical-align: top;\n",
       "    }\n",
       "\n",
       "    .dataframe thead th {\n",
       "        text-align: right;\n",
       "    }\n",
       "</style>\n",
       "<table border=\"1\" class=\"dataframe\">\n",
       "  <thead>\n",
       "    <tr style=\"text-align: right;\">\n",
       "      <th></th>\n",
       "      <th>city</th>\n",
       "      <th>number_sales</th>\n",
       "      <th>total_sales</th>\n",
       "    </tr>\n",
       "  </thead>\n",
       "  <tbody>\n",
       "    <tr>\n",
       "      <th>0</th>\n",
       "      <td>Berkeley</td>\n",
       "      <td>390375</td>\n",
       "      <td>25041060</td>\n",
       "    </tr>\n",
       "    <tr>\n",
       "      <th>1</th>\n",
       "      <td>Seattle</td>\n",
       "      <td>342327</td>\n",
       "      <td>22024512</td>\n",
       "    </tr>\n",
       "    <tr>\n",
       "      <th>2</th>\n",
       "      <td>Dallas</td>\n",
       "      <td>302120</td>\n",
       "      <td>19408260</td>\n",
       "    </tr>\n",
       "    <tr>\n",
       "      <th>3</th>\n",
       "      <td>Miami</td>\n",
       "      <td>275074</td>\n",
       "      <td>17692404</td>\n",
       "    </tr>\n",
       "    <tr>\n",
       "      <th>4</th>\n",
       "      <td>Nashville</td>\n",
       "      <td>227721</td>\n",
       "      <td>14573172</td>\n",
       "    </tr>\n",
       "  </tbody>\n",
       "</table>\n",
       "</div>"
      ],
      "text/plain": [
       "        city  number_sales  total_sales\n",
       "0   Berkeley        390375     25041060\n",
       "1    Seattle        342327     22024512\n",
       "2     Dallas        302120     19408260\n",
       "3      Miami        275074     17692404\n",
       "4  Nashville        227721     14573172"
      ]
     },
     "execution_count": 3,
     "metadata": {},
     "output_type": "execute_result"
    }
   ],
   "source": [
    "# Calculate total sales (number and amount), by store\n",
    "\n",
    "rollback_before_flag = True\n",
    "rollback_after_flag = True\n",
    "\n",
    "query = \"\"\"\n",
    "\n",
    "select stores.city, count(sale_id) as number_sales, sum(sales.total_amount) as total_sales\n",
    "from stores\n",
    "    join sales\n",
    "        on stores.store_id = sales.store_id\n",
    "group by stores.city\n",
    "order by number_sales desc\n",
    "\"\"\"\n",
    "\n",
    "print('Table 1: Breakdown of Sales by Store')\n",
    "df_store = my_select_query_pandas(query, rollback_before_flag, rollback_after_flag)\n",
    "df_store"
   ]
  },
  {
   "cell_type": "code",
   "execution_count": 4,
   "id": "4c22d448",
   "metadata": {},
   "outputs": [
    {
     "name": "stdout",
     "output_type": "stream",
     "text": [
      "\n",
      "Table 2: Breakdown of Sales by Store (Proportions)\n"
     ]
    },
    {
     "data": {
      "text/html": [
       "<div>\n",
       "<style scoped>\n",
       "    .dataframe tbody tr th:only-of-type {\n",
       "        vertical-align: middle;\n",
       "    }\n",
       "\n",
       "    .dataframe tbody tr th {\n",
       "        vertical-align: top;\n",
       "    }\n",
       "\n",
       "    .dataframe thead th {\n",
       "        text-align: right;\n",
       "    }\n",
       "</style>\n",
       "<table border=\"1\" class=\"dataframe\">\n",
       "  <thead>\n",
       "    <tr style=\"text-align: right;\">\n",
       "      <th></th>\n",
       "      <th>city</th>\n",
       "      <th>number_sales_prop</th>\n",
       "      <th>total_sales_prop</th>\n",
       "    </tr>\n",
       "  </thead>\n",
       "  <tbody>\n",
       "    <tr>\n",
       "      <th>0</th>\n",
       "      <td>Berkeley</td>\n",
       "      <td>25.388312</td>\n",
       "      <td>25.360756</td>\n",
       "    </tr>\n",
       "    <tr>\n",
       "      <th>1</th>\n",
       "      <td>Seattle</td>\n",
       "      <td>22.263477</td>\n",
       "      <td>22.305696</td>\n",
       "    </tr>\n",
       "    <tr>\n",
       "      <th>2</th>\n",
       "      <td>Dallas</td>\n",
       "      <td>19.648586</td>\n",
       "      <td>19.656042</td>\n",
       "    </tr>\n",
       "    <tr>\n",
       "      <th>3</th>\n",
       "      <td>Miami</td>\n",
       "      <td>17.889631</td>\n",
       "      <td>17.91828</td>\n",
       "    </tr>\n",
       "    <tr>\n",
       "      <th>4</th>\n",
       "      <td>Nashville</td>\n",
       "      <td>14.809995</td>\n",
       "      <td>14.759226</td>\n",
       "    </tr>\n",
       "  </tbody>\n",
       "</table>\n",
       "</div>"
      ],
      "text/plain": [
       "        city  number_sales_prop  total_sales_prop\n",
       "0   Berkeley          25.388312         25.360756\n",
       "1    Seattle          22.263477         22.305696\n",
       "2     Dallas          19.648586         19.656042\n",
       "3      Miami          17.889631          17.91828\n",
       "4  Nashville          14.809995         14.759226"
      ]
     },
     "execution_count": 4,
     "metadata": {},
     "output_type": "execute_result"
    }
   ],
   "source": [
    "# Get proportional breakdown \n",
    "\n",
    "no_sales = sum(df_store['number_sales'])\n",
    "\n",
    "usd_sales = sum(df_store['total_sales'])\n",
    "\n",
    "print()\n",
    "\n",
    "df_store['number_sales_prop'] = (df_store['number_sales']/no_sales)*100\n",
    "df_store['total_sales_prop'] = (df_store['total_sales']/usd_sales)*100\n",
    "\n",
    "print('Table 2: Breakdown of Sales by Store (Proportions)')\n",
    "df_store[['city', 'number_sales_prop','total_sales_prop']]"
   ]
  },
  {
   "cell_type": "markdown",
   "id": "2201a731",
   "metadata": {},
   "source": [
    "In terms of overall sales, the Berkeley store performed the best in terms of number of sales and total sale amounts (table 1). It was followeed by Seattle, Dallas, Miami, and finally by Nashville. According to table 2 it seems that the Berkeley store accounted for about a quarter of AGM's sales. \n",
    "\n",
    "Based on these two tables, one can infer that there is still some work to be done to help especially the Nashville store grow."
   ]
  },
  {
   "cell_type": "markdown",
   "id": "9e3f39fb",
   "metadata": {},
   "source": [
    "##### Next we will look at the meals that have been purchased."
   ]
  },
  {
   "cell_type": "code",
   "execution_count": 5,
   "id": "d88ee39e",
   "metadata": {},
   "outputs": [
    {
     "name": "stdout",
     "output_type": "stream",
     "text": [
      "Table 3: Breakdown of Different Meal Products Sold\n"
     ]
    },
    {
     "data": {
      "text/html": [
       "<div>\n",
       "<style scoped>\n",
       "    .dataframe tbody tr th:only-of-type {\n",
       "        vertical-align: middle;\n",
       "    }\n",
       "\n",
       "    .dataframe tbody tr th {\n",
       "        vertical-align: top;\n",
       "    }\n",
       "\n",
       "    .dataframe thead th {\n",
       "        text-align: right;\n",
       "    }\n",
       "</style>\n",
       "<table border=\"1\" class=\"dataframe\">\n",
       "  <thead>\n",
       "    <tr style=\"text-align: right;\">\n",
       "      <th></th>\n",
       "      <th>description</th>\n",
       "      <th>total_meals_purchased</th>\n",
       "      <th>meal_proportion</th>\n",
       "    </tr>\n",
       "  </thead>\n",
       "  <tbody>\n",
       "    <tr>\n",
       "      <th>0</th>\n",
       "      <td>Pistachio Salmon</td>\n",
       "      <td>1828778</td>\n",
       "      <td>18.807492</td>\n",
       "    </tr>\n",
       "    <tr>\n",
       "      <th>1</th>\n",
       "      <td>Eggplant Lasagna</td>\n",
       "      <td>1599058</td>\n",
       "      <td>17.530077</td>\n",
       "    </tr>\n",
       "    <tr>\n",
       "      <th>2</th>\n",
       "      <td>Curry Chicken</td>\n",
       "      <td>1368884</td>\n",
       "      <td>16.029202</td>\n",
       "    </tr>\n",
       "    <tr>\n",
       "      <th>3</th>\n",
       "      <td>Teriyaki Chicken</td>\n",
       "      <td>1145013</td>\n",
       "      <td>14.332535</td>\n",
       "    </tr>\n",
       "    <tr>\n",
       "      <th>4</th>\n",
       "      <td>Brocolli Stir Fry</td>\n",
       "      <td>913984</td>\n",
       "      <td>12.302901</td>\n",
       "    </tr>\n",
       "    <tr>\n",
       "      <th>5</th>\n",
       "      <td>Tilapia Piccata</td>\n",
       "      <td>687237</td>\n",
       "      <td>9.963724</td>\n",
       "    </tr>\n",
       "    <tr>\n",
       "      <th>6</th>\n",
       "      <td>Spinach Orzo</td>\n",
       "      <td>456769</td>\n",
       "      <td>7.152194</td>\n",
       "    </tr>\n",
       "    <tr>\n",
       "      <th>7</th>\n",
       "      <td>Chicken Salad</td>\n",
       "      <td>228561</td>\n",
       "      <td>3.881875</td>\n",
       "    </tr>\n",
       "  </tbody>\n",
       "</table>\n",
       "</div>"
      ],
      "text/plain": [
       "         description  total_meals_purchased  meal_proportion\n",
       "0   Pistachio Salmon                1828778        18.807492\n",
       "1   Eggplant Lasagna                1599058        17.530077\n",
       "2      Curry Chicken                1368884        16.029202\n",
       "3   Teriyaki Chicken                1145013        14.332535\n",
       "4  Brocolli Stir Fry                 913984        12.302901\n",
       "5    Tilapia Piccata                 687237         9.963724\n",
       "6       Spinach Orzo                 456769         7.152194\n",
       "7      Chicken Salad                 228561         3.881875"
      ]
     },
     "execution_count": 5,
     "metadata": {},
     "output_type": "execute_result"
    }
   ],
   "source": [
    "# Calculate proportions of the different meal choices\n",
    "\n",
    "rollback_before_flag = True\n",
    "rollback_after_flag = True\n",
    "\n",
    "query = \"\"\"\n",
    "\n",
    "select products.description, sum(line_items.quantity) as total_meals_purchased, count(*) * 100/ sum(count(*)) over () as meal_proportion\n",
    "from line_items\n",
    "     join products\n",
    "          on line_items.product_id = products.product_id\n",
    "group by products.description\n",
    "order by meal_proportion desc\n",
    "\"\"\"\n",
    "\n",
    "print('Table 3: Breakdown of Different Meal Products Sold')\n",
    "my_select_query_pandas(query, rollback_before_flag, rollback_after_flag)\n"
   ]
  },
  {
   "cell_type": "code",
   "execution_count": 6,
   "id": "07d88216",
   "metadata": {},
   "outputs": [
    {
     "name": "stdout",
     "output_type": "stream",
     "text": [
      "Graphs 1, 2, 3, 4, 5\n"
     ]
    },
    {
     "name": "stderr",
     "output_type": "stream",
     "text": [
      "<ipython-input-6-290d3beed718>:37: UserWarning: FixedFormatter should only be used together with FixedLocator\n",
      "  axes[0,0].set_xticklabels(df_mealsB['meals'],rotation=15, ha='right')\n",
      "<ipython-input-6-290d3beed718>:44: UserWarning: FixedFormatter should only be used together with FixedLocator\n",
      "  axes[0,1].set_xticklabels(df_mealsD['meals'],rotation=15, ha='right')\n",
      "<ipython-input-6-290d3beed718>:52: UserWarning: FixedFormatter should only be used together with FixedLocator\n",
      "  axes[1,0].set_xticklabels(df_mealsM['meals'],rotation=15, ha='right')\n",
      "<ipython-input-6-290d3beed718>:60: UserWarning: FixedFormatter should only be used together with FixedLocator\n",
      "  axes[1,1].set_xticklabels(df_mealsN['meals'],rotation=15, ha='right')\n",
      "<ipython-input-6-290d3beed718>:68: UserWarning: FixedFormatter should only be used together with FixedLocator\n",
      "  axes[2,0].set_xticklabels(df_mealsS['meals'],rotation=15, ha='right')\n"
     ]
    },
    {
     "data": {
      "text/plain": [
       "Text(0.5, 1.0, 'NA')"
      ]
     },
     "execution_count": 6,
     "metadata": {},
     "output_type": "execute_result"
    },
    {
     "data": {
      "image/png": "[encoded data removed]",
      "text/plain": [
       "<Figure size 1224x1224 with 6 Axes>"
      ]
     },
     "metadata": {
      "needs_background": "light"
     },
     "output_type": "display_data"
    }
   ],
   "source": [
    "# Look at Meals by Store \n",
    "\n",
    "# Get SQL Query\n",
    "rollback_before_flag = True\n",
    "rollback_after_flag = True\n",
    "\n",
    "query = \"\"\"\n",
    "\n",
    "select stores.city, products.description as meals, sum(line_items.quantity) as total_meals_purchased\n",
    "from line_items\n",
    "     join products\n",
    "          on line_items.product_id = products.product_id\n",
    "     join stores\n",
    "          on line_items.store_id = stores.store_id       \n",
    "group by stores.city, products.description\n",
    "order by products.description asc\n",
    "\"\"\"\n",
    "\n",
    "df_meals = my_select_query_pandas(query, rollback_before_flag, rollback_after_flag)\n",
    "\n",
    "# Create Graphs for each city on breakdowns of meals sold by month\n",
    "df_mealsB = df_meals[df_meals['city']=='Berkeley']\n",
    "df_mealsD = df_meals[df_meals['city']=='Dallas']\n",
    "df_mealsM = df_meals[df_meals['city']=='Miami']\n",
    "df_mealsN = df_meals[df_meals['city']=='Nashville']\n",
    "df_mealsS = df_meals[df_meals['city']=='Seattle']\n",
    "\n",
    "print('Graphs 1, 2, 3, 4, 5')\n",
    "\n",
    "fig, axes = plt.subplots(3,2, figsize = (17,17), sharey='row')\n",
    "fig.suptitle('Total Number of Meals Purchased, by City')\n",
    "axes[0,0].set_title('Graph 1: Total Number of Meals Purchased in Berkeley')\n",
    "axes[0,0].bar(df_mealsB['meals'], df_mealsB['total_meals_purchased'], color='sienna')\n",
    "#axes[0,0].set_xlabel('Meals')\n",
    "axes[0,0].set_ylabel('Number of Meals Purchased')\n",
    "axes[0,0].set_ylim(0, 500000)\n",
    "axes[0,0].set_xticklabels(df_mealsB['meals'],rotation=15, ha='right')\n",
    "\n",
    "axes[0,1].set_title('Graph 2: Total Number of Meals Purchased in Dallas')\n",
    "axes[0,1].bar(df_mealsD['meals'], df_mealsD['total_meals_purchased'], color='sienna')\n",
    "# axes[0,1].set_xlabel('Meals')\n",
    "axes[0,1].set_ylabel('Number of Meals Purchased')\n",
    "axes[0,1].set_ylim(0, 500000)\n",
    "axes[0,1].set_xticklabels(df_mealsD['meals'],rotation=15, ha='right')\n",
    "\n",
    "\n",
    "axes[1,0].set_title('Graph 3: Total Number of Meals Purchased in Miami')\n",
    "axes[1,0].bar(df_mealsM['meals'], df_mealsM['total_meals_purchased'], color='sienna')\n",
    "# axes[1,0].set_xlabel('Meals')\n",
    "axes[1,0].set_ylabel('Number of Meals Purchased')\n",
    "axes[1,0].set_ylim(0, 500000)\n",
    "axes[1,0].set_xticklabels(df_mealsM['meals'],rotation=15, ha='right')\n",
    "\n",
    "\n",
    "axes[1,1].set_title('Graph 4: Total Number of Meals Purchased in Nashville')\n",
    "axes[1,1].bar(df_mealsN['meals'], df_mealsN['total_meals_purchased'], color='sienna')\n",
    "# axes[1,1].set_xlabel('Meals')\n",
    "axes[1,1].set_ylabel('Number of Meals Purchased')\n",
    "axes[1,1].set_ylim(0, 500000)\n",
    "axes[1,1].set_xticklabels(df_mealsN['meals'],rotation=15, ha='right')\n",
    "\n",
    "\n",
    "axes[2,0].set_title('Graph 5: Total Number of Meals Purchased in Seattle')\n",
    "axes[2,0].bar(df_mealsS['meals'], df_mealsS['total_meals_purchased'], color='sienna')\n",
    "# axes[2,0].set_xlabel('Meals')\n",
    "axes[2,0].set_ylabel('Number of Meals Purchased')\n",
    "axes[2,0].set_ylim(0, 500000)\n",
    "axes[2,0].set_xticklabels(df_mealsS['meals'],rotation=15, ha='right')\n",
    "\n",
    "axes[2,1].set_title('NA')\n"
   ]
  },
  {
   "cell_type": "markdown",
   "id": "9827e477",
   "metadata": {},
   "source": [
    "Table 3 above shows the breakdown of how the different meals had been sold in 2020. The top three performing meals were the pistachio salmon, eggplant lasagna, and curry chicken - together making up about half of AGM's sales. The bottom two performing meals were the chicken salad (about 4%) and then the spinach orzo ( about 7%). This ranking also seems to hold true across the different stores according to grahs 1-5 - implying that there are no strong market-specific meal preferences.\n",
    "\n",
    "Given that these two meals make up a relatively small proportion of meals being sold, if AGM were looking to simplify their food production processes, they could remove these two meals. Or if they wanted to try bringing in new meals, they could replace these two, given their lower rates of success."
   ]
  },
  {
   "cell_type": "markdown",
   "id": "ac79a50a",
   "metadata": {},
   "source": [
    "##### And finally, we will investigate AGM's current customer based. "
   ]
  },
  {
   "cell_type": "code",
   "execution_count": 12,
   "id": "567d97b9",
   "metadata": {},
   "outputs": [
    {
     "name": "stdout",
     "output_type": "stream",
     "text": [
      "Table 4: Breakdown of Total Number of Customers by Store\n"
     ]
    },
    {
     "data": {
      "text/html": [
       "<div>\n",
       "<style scoped>\n",
       "    .dataframe tbody tr th:only-of-type {\n",
       "        vertical-align: middle;\n",
       "    }\n",
       "\n",
       "    .dataframe tbody tr th {\n",
       "        vertical-align: top;\n",
       "    }\n",
       "\n",
       "    .dataframe thead th {\n",
       "        text-align: right;\n",
       "    }\n",
       "</style>\n",
       "<table border=\"1\" class=\"dataframe\">\n",
       "  <thead>\n",
       "    <tr style=\"text-align: right;\">\n",
       "      <th></th>\n",
       "      <th>city</th>\n",
       "      <th>total_customers</th>\n",
       "      <th>city_customers_proportion</th>\n",
       "    </tr>\n",
       "  </thead>\n",
       "  <tbody>\n",
       "    <tr>\n",
       "      <th>0</th>\n",
       "      <td>Berkeley</td>\n",
       "      <td>8126</td>\n",
       "      <td>25.388312</td>\n",
       "    </tr>\n",
       "    <tr>\n",
       "      <th>1</th>\n",
       "      <td>Seattle</td>\n",
       "      <td>7206</td>\n",
       "      <td>22.263477</td>\n",
       "    </tr>\n",
       "    <tr>\n",
       "      <th>2</th>\n",
       "      <td>Dallas</td>\n",
       "      <td>6355</td>\n",
       "      <td>19.648586</td>\n",
       "    </tr>\n",
       "    <tr>\n",
       "      <th>3</th>\n",
       "      <td>Miami</td>\n",
       "      <td>5720</td>\n",
       "      <td>17.889631</td>\n",
       "    </tr>\n",
       "    <tr>\n",
       "      <th>4</th>\n",
       "      <td>Nashville</td>\n",
       "      <td>3640</td>\n",
       "      <td>14.809995</td>\n",
       "    </tr>\n",
       "  </tbody>\n",
       "</table>\n",
       "</div>"
      ],
      "text/plain": [
       "        city  total_customers  city_customers_proportion\n",
       "0   Berkeley             8126                  25.388312\n",
       "1    Seattle             7206                  22.263477\n",
       "2     Dallas             6355                  19.648586\n",
       "3      Miami             5720                  17.889631\n",
       "4  Nashville             3640                  14.809995"
      ]
     },
     "execution_count": 12,
     "metadata": {},
     "output_type": "execute_result"
    }
   ],
   "source": [
    "# Calculate total Number of Customers by Store\n",
    "\n",
    "rollback_before_flag = True\n",
    "rollback_after_flag = True\n",
    "\n",
    "query = \"\"\"\n",
    "\n",
    "select stores.city, count(distinct sales.customer_id) as total_customers, count(*) * 100/ sum(count(*)) over () as city_customers_proportion\n",
    "from customers\n",
    "join sales\n",
    "     on sales.customer_id = customers.customer_id\n",
    "join stores\n",
    "     on stores.store_id = sales.store_id\n",
    "group by stores.city \n",
    "order by city_customers_proportion desc\n",
    "\n",
    "\"\"\"\n",
    "\n",
    "print('Table 4: Breakdown of Total Number of Customers by Store')\n",
    "my_select_query_pandas(query, rollback_before_flag, rollback_after_flag)"
   ]
  },
  {
   "cell_type": "code",
   "execution_count": 13,
   "id": "9d3faa1d",
   "metadata": {},
   "outputs": [
    {
     "data": {
      "image/png": "[encoded data removed]",
      "text/plain": [
       "<Figure size 720x360 with 1 Axes>"
      ]
     },
     "metadata": {
      "needs_background": "light"
     },
     "output_type": "display_data"
    },
    {
     "data": {
      "image/png": "[encoded data removed]",
      "text/plain": [
       "<Figure size 720x360 with 1 Axes>"
      ]
     },
     "metadata": {
      "needs_background": "light"
     },
     "output_type": "display_data"
    }
   ],
   "source": [
    "# Query the top customers\n",
    "rollback_before_flag = True\n",
    "rollback_after_flag = True\n",
    "\n",
    "query = \"\"\"\n",
    "select sales.customer_id, stores.city, count(distinct sales.sale_id) as distinct_sales, sum(sales.total_amount) as total_amount_sales\n",
    "from sales\n",
    "join stores\n",
    "     on stores.store_id = sales.store_id \n",
    "group by customer_id, stores.city\n",
    "having sum(sales.total_amount) >= 6123\n",
    "order by total_amount_sales desc\n",
    "\"\"\"\n",
    "\n",
    "df_cs_top = my_select_query_pandas(query, rollback_before_flag, rollback_after_flag)\n",
    "df_cs_top\n",
    "\n",
    "plt.figure(figsize=(10,5))\n",
    "plt.bar(df_cs_top['city'], df_cs_top['distinct_sales'], color='lightsteelblue')\n",
    "plt.title('Graph 6: Cumulative Number of Sales by Store by Top Customers')\n",
    "plt.xlabel('City of Store')\n",
    "plt.ylabel('Number of Sales')\n",
    "plt.show()\n",
    "\n",
    "plt.figure(figsize=(10,5))\n",
    "plt.bar(df_cs_top['city'], df_cs_top['total_amount_sales'], color='cornflowerblue')\n",
    "plt.title('Graph 7: Cumulative Sales Amount by Store by Top Customers')\n",
    "plt.xlabel('City of Store')\n",
    "plt.ylabel('USD')\n",
    "plt.show()"
   ]
  },
  {
   "cell_type": "code",
   "execution_count": 9,
   "id": "9f2bf461",
   "metadata": {},
   "outputs": [
    {
     "name": "stdout",
     "output_type": "stream",
     "text": [
      "Table 5: Breakdown of Top Customers by Store\n"
     ]
    },
    {
     "data": {
      "text/html": [
       "<div>\n",
       "<style scoped>\n",
       "    .dataframe tbody tr th:only-of-type {\n",
       "        vertical-align: middle;\n",
       "    }\n",
       "\n",
       "    .dataframe tbody tr th {\n",
       "        vertical-align: top;\n",
       "    }\n",
       "\n",
       "    .dataframe thead th {\n",
       "        text-align: right;\n",
       "    }\n",
       "</style>\n",
       "<table border=\"1\" class=\"dataframe\">\n",
       "  <thead>\n",
       "    <tr style=\"text-align: right;\">\n",
       "      <th></th>\n",
       "      <th>customer_id</th>\n",
       "    </tr>\n",
       "    <tr>\n",
       "      <th>city</th>\n",
       "      <th></th>\n",
       "    </tr>\n",
       "  </thead>\n",
       "  <tbody>\n",
       "    <tr>\n",
       "      <th>Berkeley</th>\n",
       "      <td>18</td>\n",
       "    </tr>\n",
       "    <tr>\n",
       "      <th>Dallas</th>\n",
       "      <td>80</td>\n",
       "    </tr>\n",
       "    <tr>\n",
       "      <th>Miami</th>\n",
       "      <td>86</td>\n",
       "    </tr>\n",
       "    <tr>\n",
       "      <th>Nashville</th>\n",
       "      <td>526</td>\n",
       "    </tr>\n",
       "    <tr>\n",
       "      <th>Seattle</th>\n",
       "      <td>95</td>\n",
       "    </tr>\n",
       "  </tbody>\n",
       "</table>\n",
       "</div>"
      ],
      "text/plain": [
       "           customer_id\n",
       "city                  \n",
       "Berkeley            18\n",
       "Dallas              80\n",
       "Miami               86\n",
       "Nashville          526\n",
       "Seattle             95"
      ]
     },
     "execution_count": 9,
     "metadata": {},
     "output_type": "execute_result"
    }
   ],
   "source": [
    "df_topc = df_cs_top[['city', 'customer_id']]\n",
    "\n",
    "print('Table 5: Breakdown of Top Customers by Store')\n",
    "df_topc.groupby('city').count()"
   ]
  },
  {
   "cell_type": "markdown",
   "id": "df0af27f",
   "metadata": {},
   "source": [
    "Just as table 2 showed the Berkeley store being accountable for abour 25% of AGM's sales, Berkeley also seems to account for about 25% of its customer base as well according to table 4. \n",
    "\n",
    "But when a selection of the top customers (those who spent $6,123 or more; based on analysis from the customer analytics section) is looked at by store, Nashville seems to be contributing more in number of sales and total amount of sales (graphs 6 and 7). Given that they have the most number of top customers (table 5) this makes intuitive sense. The customer analytics section of this project goes in to greater depth on this. \n",
    "\n",
    "Based on these observations (and from the customer analytics section), it could be helpful for AGM to gather more information about the demographics of the neighborhoods these stores are based in (not in the current database). I say neighborhoods instead of cities, because one of the points from the analysis done in the customer analytics section, revealed that top customers are more likely to be those who live relatively close to the grocery store where AGM products are sold. Thus focusing on the neighborhoods of the different performing stores could give greater insight on how AGM can increase the number of top customers in its different stores. "
   ]
  },
  {
   "cell_type": "markdown",
   "id": "54273628",
   "metadata": {},
   "source": [
    "### Reccomendations to AGM:\n",
    "Based on the analysis above, I would reccommend the following to AGM. \n",
    "\n",
    "1. **Put a greater focus on growing the Nashville customer base, and consequently sales.**\n",
    "As Nashville has the smallest overall customer base and contributes the least to AGM's overall sales, there should be more resources pooled in, to first determine why it has not been performing as well as other stores, and then use that information to inform the Nashville store strategy.  \n",
    "\n",
    "2. **Conduct further analysis on AGM's top customers in the different stores.**\n",
    "Deeper analysis on the demographics of the neighborhoods of the different stores could improve the current understanding of the top customers - which would in turn help AGM management improve its strategy on cultivating a more loyal customer base. \n",
    "\n",
    "3. **Look into removing the chicken salad and spinach orzo from the product selection.**\n",
    "Given that these two dishes make up a relatively small portion of AGM's sales, AGM should consider removing them. Not only would this reduce costs that are not giving enough of an end reward, it would also free up resources to focus on other aspects of the business (e.g. increasing production on better performing meals, improving the customer bases, marketing, etc.). \n",
    "\n",
    "The above three reccommendations together would allow AGM to better understand the different markets its stores are present in, leverage that information to increase its overall customer base and total sales, and get rid of potentially unneeded costs."
   ]
  },
  {
   "cell_type": "code",
   "execution_count": null,
   "id": "042d4c47",
   "metadata": {},
   "outputs": [],
   "source": []
  }
 ],
 "metadata": {
  "kernelspec": {
   "display_name": "Python 3",
   "language": "python",
   "name": "python3"
  },
  "language_info": {
   "codemirror_mode": {
    "name": "ipython",
    "version": 3
   },
   "file_extension": ".py",
   "mimetype": "text/x-python",
   "name": "python",
   "nbconvert_exporter": "python",
   "pygments_lexer": "ipython3",
   "version": "3.8.8"
  }
 },
 "nbformat": 4,
 "nbformat_minor": 5
}
