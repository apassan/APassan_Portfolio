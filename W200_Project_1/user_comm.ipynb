{
 "cells": [
  {
   "cell_type": "code",
   "execution_count": 28,
   "id": "8ffa52a9",
   "metadata": {},
   "outputs": [],
   "source": [
    "# Need to import: player class "
   ]
  },
  {
   "cell_type": "code",
   "execution_count": 15,
   "id": "fa8b109b",
   "metadata": {},
   "outputs": [],
   "source": [
    "# class: user_comm\n",
    "class User_comm():\n",
    "    # Welcome messages \n",
    "    def welcome():\n",
    "        print(\"Welcome to Hogwarts young Witches and Wizards! Time for a little adventure game!  \")\n",
    "        print(\"To win, you need to move past 20 spaces before your opponent. \\n You will draw a card on each space to help you move across the board. \\n But first we need some information from you before we can begin\")\n",
    "    \n",
    "    def player_profile(pname,phouse):\n",
    "        return ((str(pname) + ', you have been sorted into ' + str(phouse) + '!'))\n",
    "    \n",
    "    def player_won(pname, phouse):\n",
    "        return ((str(pname) + ' , CONGRATULATIONS! You have won the this game! You have made ' + str(phouse) + ' proud :)'))\n",
    "\n",
    "    def player_lost(pname, phouse):\n",
    "        return (('I\\'m sorry ' + str(pname) + ' , you are out of cards and out of luck. You have lost this game. ' + str(phouse) + ' house is sad :('))      "
   ]
  },
  {
   "cell_type": "code",
   "execution_count": null,
   "id": "0fd0b17d",
   "metadata": {},
   "outputs": [],
   "source": []
  },
  {
   "cell_type": "code",
   "execution_count": null,
   "id": "2647a6c6",
   "metadata": {},
   "outputs": [],
   "source": []
  },
  {
   "cell_type": "code",
   "execution_count": null,
   "id": "247b7c9e",
   "metadata": {},
   "outputs": [],
   "source": []
  }
 ],
 "metadata": {
  "kernelspec": {
   "display_name": "Python 3 (ipykernel)",
   "language": "python",
   "name": "python3"
  },
  "language_info": {
   "codemirror_mode": {
    "name": "ipython",
    "version": 3
   },
   "file_extension": ".py",
   "mimetype": "text/x-python",
   "name": "python",
   "nbconvert_exporter": "python",
   "pygments_lexer": "ipython3",
   "version": "3.7.11"
  }
 },
 "nbformat": 4,
 "nbformat_minor": 5
}
