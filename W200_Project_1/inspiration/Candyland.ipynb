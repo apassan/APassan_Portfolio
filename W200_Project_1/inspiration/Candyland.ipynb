{
 "cells": [
  {
   "cell_type": "code",
   "execution_count": 9,
   "metadata": {},
   "outputs": [],
   "source": [
    "import random\n",
    "import numpy as np"
   ]
  },
  {
   "cell_type": "code",
   "execution_count": 17,
   "metadata": {},
   "outputs": [],
   "source": [
    "class Deck():\n",
    "    \n",
    "    def __init__(self):\n",
    "        self.colors = ['Red', 'Purple', 'Yellow', 'Blue', 'Orange', 'Green']\n",
    "        self.candyPeople = ['Plumpy', 'Mr. Mint', 'Jolly', 'Gramma Nutt', 'Princess Lolly', 'Queen Frostine']\n",
    "        \n",
    "        self.deck = []\n",
    "        self.discard = []\n",
    "        \n",
    "        self.buildDeck()\n",
    "        self.shuffleDeck()\n",
    "        \n",
    "    def buildDeck(self):\n",
    "        for color in self.colors:\n",
    "            for i in range(6):\n",
    "                self.deck.append((color, 1))\n",
    "            for i in range(4):\n",
    "                self.deck.append((color, 2))\n",
    "        for char in self.candyPeople:\n",
    "            self.deck.append(('Pink', char))\n",
    "        \n",
    "    def shuffleDeck(self):\n",
    "        random.shuffle(self.deck)\n",
    "        random.shuffle(self.deck)\n",
    "        random.shuffle(self.deck)\n",
    "        \n",
    "    def reshuffleDeck(self):\n",
    "        self.deck = self.discard\n",
    "        self.discard = []\n",
    "        self.shuffleDeck()\n",
    "        \n",
    "    def isEmpty(self):\n",
    "        return len(self.deck) == 0\n",
    "    \n",
    "    def drawCard(self):\n",
    "        if self.isEmpty():\n",
    "            self.reshuffleDeck()\n",
    "        card = self.deck.pop()\n",
    "        self.discard.append(card)\n",
    "        return card "
   ]
  },
  {
   "cell_type": "code",
   "execution_count": 11,
   "metadata": {},
   "outputs": [],
   "source": [
    "class Player():\n",
    "    def __init__(self, name):\n",
    "        self.name = name\n",
    "        self.pos = -1\n",
    "        \n",
    "    def printCard(self, card):\n",
    "        if card[1] == 1:\n",
    "            print(f'{self.name}: You drew a single {card[0]}! Advance to the next {card[0]}!')\n",
    "        elif card[1] == 2:\n",
    "            print(f'{self.name}: You drew a double {card[0]}! Advance two {card[0]}s!')\n",
    "        else:\n",
    "            print(f'{self.name}: You drew the {card[1]} card! Go to {card[1]}!')\n",
    "            \n",
    "        \n",
    "    def move(self, card):\n",
    "        if card[0] == 'Pink':\n",
    "            self.pos = np.where(board == card[1])[0][0]\n",
    "            print(f'Your new position is {self.pos}!')\n",
    "            return\n",
    "        spaces = np.where(board == card[0])[0]\n",
    "        for i in range(card[1]):\n",
    "            if np.any(spaces > self.pos):\n",
    "                self.pos = spaces[np.argmax(spaces > self.pos)]\n",
    "            else:\n",
    "                self.pos = len(board)\n",
    "        print(f'Your new position is {self.pos}!')\n",
    "        return "
   ]
  },
  {
   "cell_type": "code",
   "execution_count": 12,
   "metadata": {},
   "outputs": [],
   "source": [
    "def findCharacters():\n",
    "    characters = []\n",
    "    numChars = int(input('How many players (2-4)? '))\n",
    "    for i in range(numChars):\n",
    "        name = input(f\"Player {i + 1} name? \")\n",
    "        characters.append(Player(name))\n",
    "    return characters"
   ]
  },
  {
   "cell_type": "code",
   "execution_count": 13,
   "metadata": {},
   "outputs": [],
   "source": [
    "def createBoard():\n",
    "    colors = ['Red', 'Purple', 'Yellow', 'Blue', 'Orange', 'Green']\n",
    "    candyPeople = {'Plumpy': 21, 'Mr. Mint': 33, 'Jolly': 57, 'Gramma Nutt': 84, 'Princess Lolly': 93, \n",
    "               'Queen Frostine': 120}\n",
    "    board = colors * 25\n",
    "    board = np.array(board, dtype=\"<U14\")\n",
    "    for key, value in candyPeople.items():\n",
    "        board[value] = key\n",
    "    return board"
   ]
  },
  {
   "cell_type": "code",
   "execution_count": 14,
   "metadata": {},
   "outputs": [],
   "source": [
    "def instructions():\n",
    "    print(\"Welcome to Candyland. Reach the last space of the board before anybody else does.\")\n",
    "    print(\"Draw a card to advance.\")\n",
    "    print(\"Press ENTER to start each player's turn\")\n",
    "    print()\n",
    "    print('----------------------------------------------------------------')\n",
    "    print()"
   ]
  },
  {
   "cell_type": "code",
   "execution_count": 15,
   "metadata": {},
   "outputs": [],
   "source": [
    "def main():\n",
    "    instructions()\n",
    "    deck = Deck()\n",
    "    board = createBoard()\n",
    "    characters = findCharacters()\n",
    "    while characters:\n",
    "        for character in characters:\n",
    "            print()\n",
    "            print(f'{character.name}: It is your turn')\n",
    "            input()\n",
    "            card = deck.drawCard()\n",
    "            character.printCard(card)\n",
    "            character.move(card)\n",
    "            if character.pos == len(board):\n",
    "                print(f'Congratulations {character.name}, you won!')\n",
    "                return "
   ]
  },
  {
   "cell_type": "code",
   "execution_count": 16,
   "metadata": {},
   "outputs": [
    {
     "name": "stdout",
     "output_type": "stream",
     "text": [
      "Welcome to Candyland. Reach the last space of the board before anybody else does.\n",
      "Draw a card to advance.\n",
      "Press ENTER to start each player's turn\n",
      "\n",
      "----------------------------------------------------------------\n",
      "\n",
      "How many players (2-4)? 2\n",
      "Player 1 name? j\n",
      "Player 2 name? l\n",
      "\n",
      "j: It is your turn\n",
      "\n",
      "j: You drew a single Orange! Advance to the next Orange!\n"
     ]
    },
    {
     "ename": "NameError",
     "evalue": "name 'board' is not defined",
     "output_type": "error",
     "traceback": [
      "\u001b[0;31m---------------------------------------------------------------------------\u001b[0m",
      "\u001b[0;31mNameError\u001b[0m                                 Traceback (most recent call last)",
      "\u001b[0;32m/var/folders/cq/wsq65c9x4k74pzp290k27_8h0000gn/T/ipykernel_12536/451043146.py\u001b[0m in \u001b[0;36m<module>\u001b[0;34m\u001b[0m\n\u001b[0;32m----> 1\u001b[0;31m \u001b[0mmain\u001b[0m\u001b[0;34m(\u001b[0m\u001b[0;34m)\u001b[0m\u001b[0;34m\u001b[0m\u001b[0;34m\u001b[0m\u001b[0m\n\u001b[0m",
      "\u001b[0;32m/var/folders/cq/wsq65c9x4k74pzp290k27_8h0000gn/T/ipykernel_12536/112332168.py\u001b[0m in \u001b[0;36mmain\u001b[0;34m()\u001b[0m\n\u001b[1;32m     11\u001b[0m             \u001b[0mcard\u001b[0m \u001b[0;34m=\u001b[0m \u001b[0mdeck\u001b[0m\u001b[0;34m.\u001b[0m\u001b[0mdrawCard\u001b[0m\u001b[0;34m(\u001b[0m\u001b[0;34m)\u001b[0m\u001b[0;34m\u001b[0m\u001b[0;34m\u001b[0m\u001b[0m\n\u001b[1;32m     12\u001b[0m             \u001b[0mcharacter\u001b[0m\u001b[0;34m.\u001b[0m\u001b[0mprintCard\u001b[0m\u001b[0;34m(\u001b[0m\u001b[0mcard\u001b[0m\u001b[0;34m)\u001b[0m\u001b[0;34m\u001b[0m\u001b[0;34m\u001b[0m\u001b[0m\n\u001b[0;32m---> 13\u001b[0;31m             \u001b[0mcharacter\u001b[0m\u001b[0;34m.\u001b[0m\u001b[0mmove\u001b[0m\u001b[0;34m(\u001b[0m\u001b[0mcard\u001b[0m\u001b[0;34m)\u001b[0m\u001b[0;34m\u001b[0m\u001b[0;34m\u001b[0m\u001b[0m\n\u001b[0m\u001b[1;32m     14\u001b[0m             \u001b[0;32mif\u001b[0m \u001b[0mcharacter\u001b[0m\u001b[0;34m.\u001b[0m\u001b[0mpos\u001b[0m \u001b[0;34m==\u001b[0m \u001b[0mlen\u001b[0m\u001b[0;34m(\u001b[0m\u001b[0mboard\u001b[0m\u001b[0;34m)\u001b[0m\u001b[0;34m:\u001b[0m\u001b[0;34m\u001b[0m\u001b[0;34m\u001b[0m\u001b[0m\n\u001b[1;32m     15\u001b[0m                 \u001b[0mprint\u001b[0m\u001b[0;34m(\u001b[0m\u001b[0;34mf'Congratulations {character.name}, you won!'\u001b[0m\u001b[0;34m)\u001b[0m\u001b[0;34m\u001b[0m\u001b[0;34m\u001b[0m\u001b[0m\n",
      "\u001b[0;32m/var/folders/cq/wsq65c9x4k74pzp290k27_8h0000gn/T/ipykernel_12536/3007524831.py\u001b[0m in \u001b[0;36mmove\u001b[0;34m(self, card)\u001b[0m\n\u001b[1;32m     18\u001b[0m             \u001b[0mprint\u001b[0m\u001b[0;34m(\u001b[0m\u001b[0;34mf'Your new position is {self.pos}!'\u001b[0m\u001b[0;34m)\u001b[0m\u001b[0;34m\u001b[0m\u001b[0;34m\u001b[0m\u001b[0m\n\u001b[1;32m     19\u001b[0m             \u001b[0;32mreturn\u001b[0m\u001b[0;34m\u001b[0m\u001b[0;34m\u001b[0m\u001b[0m\n\u001b[0;32m---> 20\u001b[0;31m         \u001b[0mspaces\u001b[0m \u001b[0;34m=\u001b[0m \u001b[0mnp\u001b[0m\u001b[0;34m.\u001b[0m\u001b[0mwhere\u001b[0m\u001b[0;34m(\u001b[0m\u001b[0mboard\u001b[0m \u001b[0;34m==\u001b[0m \u001b[0mcard\u001b[0m\u001b[0;34m[\u001b[0m\u001b[0;36m0\u001b[0m\u001b[0;34m]\u001b[0m\u001b[0;34m)\u001b[0m\u001b[0;34m[\u001b[0m\u001b[0;36m0\u001b[0m\u001b[0;34m]\u001b[0m\u001b[0;34m\u001b[0m\u001b[0;34m\u001b[0m\u001b[0m\n\u001b[0m\u001b[1;32m     21\u001b[0m         \u001b[0;32mfor\u001b[0m \u001b[0mi\u001b[0m \u001b[0;32min\u001b[0m \u001b[0mrange\u001b[0m\u001b[0;34m(\u001b[0m\u001b[0mcard\u001b[0m\u001b[0;34m[\u001b[0m\u001b[0;36m1\u001b[0m\u001b[0;34m]\u001b[0m\u001b[0;34m)\u001b[0m\u001b[0;34m:\u001b[0m\u001b[0;34m\u001b[0m\u001b[0;34m\u001b[0m\u001b[0m\n\u001b[1;32m     22\u001b[0m             \u001b[0;32mif\u001b[0m \u001b[0mnp\u001b[0m\u001b[0;34m.\u001b[0m\u001b[0many\u001b[0m\u001b[0;34m(\u001b[0m\u001b[0mspaces\u001b[0m \u001b[0;34m>\u001b[0m \u001b[0mself\u001b[0m\u001b[0;34m.\u001b[0m\u001b[0mpos\u001b[0m\u001b[0;34m)\u001b[0m\u001b[0;34m:\u001b[0m\u001b[0;34m\u001b[0m\u001b[0;34m\u001b[0m\u001b[0m\n",
      "\u001b[0;31mNameError\u001b[0m: name 'board' is not defined"
     ]
    }
   ],
   "source": [
    "main()"
   ]
  },
  {
   "cell_type": "code",
   "execution_count": null,
   "metadata": {},
   "outputs": [],
   "source": []
  }
 ],
 "metadata": {
  "kernelspec": {
   "display_name": "Python 3 (ipykernel)",
   "language": "python",
   "name": "python3"
  },
  "language_info": {
   "codemirror_mode": {
    "name": "ipython",
    "version": 3
   },
   "file_extension": ".py",
   "mimetype": "text/x-python",
   "name": "python",
   "nbconvert_exporter": "python",
   "pygments_lexer": "ipython3",
   "version": "3.7.11"
  }
 },
 "nbformat": 4,
 "nbformat_minor": 4
}
