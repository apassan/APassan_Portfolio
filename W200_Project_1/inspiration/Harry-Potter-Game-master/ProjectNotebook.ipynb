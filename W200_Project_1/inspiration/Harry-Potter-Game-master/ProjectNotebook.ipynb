{
 "cells": [
  {
   "cell_type": "markdown",
   "metadata": {},
   "source": [
    "# Project Description"
   ]
  },
  {
   "cell_type": "markdown",
   "metadata": {},
   "source": [
    "My project is to create a function that will run a text-based game. \n",
    "By utilizing while loops in my code(each it's own self-contained scenario in the game), the user can make choices in the game that change and affect the current scenario.\n",
    "\n",
    "By inputting a string, the user triggers the value of the while loop to change, switching the user to a different while loop (and hense, different scenario). This way, the user can move between loops in a pattern cohesive to the story.\n",
    "\n",
    "To play the game, input your answer to the prompt into the input cell."
   ]
  },
  {
   "cell_type": "markdown",
   "metadata": {},
   "source": [
    "## Project Code\n",
    "\n",
    "If it makes sense for your project, you can have code and outputs here in the notebook as well."
   ]
  },
  {
   "cell_type": "code",
   "execution_count": 2,
   "metadata": {},
   "outputs": [],
   "source": [
    "from functions import HP_game , HP_start"
   ]
  },
  {
   "cell_type": "code",
   "execution_count": 3,
   "metadata": {},
   "outputs": [
    {
     "name": "stdout",
     "output_type": "stream",
     "text": [
      "Welcome to the Magical World of Witchcraft and Wizardry\n",
      "Input your answer into the box below to start the game!\n",
      "If you get stuck, see if the response is giving you a hint. If you still can't figure it out, look into the function code file to find an acceptable answer to input\n"
     ]
    }
   ],
   "source": [
    "#Introduction\n",
    "HP_start()"
   ]
  },
  {
   "cell_type": "code",
   "execution_count": null,
   "metadata": {},
   "outputs": [
    {
     "name": "stdout",
     "output_type": "stream",
     "text": [
      "___________________________________________________________________\n",
      "Welcome to the Magical World of Witchcraft and Wizardry.\n",
      "___________________________________________________________________\n",
      "Chapter 1: The Magic Begins\n",
      "Happy birthday! Eleven years old? Wow! You're practically an adult now!\n",
      "But wait? You've opened all your presents, what's this mysterious letter?\n",
      "It's sealed with some fancy wax and a stamp. The writing is clearly addressed to you, written in green ink. But you dont recognize who sent it\n",
      "What do you want to do?open\n",
      "___________________________________________________________________\n",
      "___________________________________________________________________\n",
      "Chapter 1: The Magic Begins\n",
      "Happy birthday! Eleven years old? Wow! You're practically an adult now!\n",
      "But wait? You've opened all your presents, what's this mysterious letter?\n",
      "It's sealed with some fancy wax and a stamp. The writing is clearly addressed to you, written in green ink. But you dont recognize who sent it\n",
      "What do you want to do?\n",
      "___________________________________________________________________\n",
      "___________________________________________________________________\n",
      "Chapter 1: The Magic Begins\n",
      "Happy birthday! Eleven years old? Wow! You're practically an adult now!\n",
      "But wait? You've opened all your presents, what's this mysterious letter?\n",
      "It's sealed with some fancy wax and a stamp. The writing is clearly addressed to you, written in green ink. But you dont recognize who sent it\n",
      "What do you want to do?read envelope\n",
      "___________________________________________________________________\n",
      "It's made out of some old parchment and bears your name in green ink. It's sealed shut with a wax stamp decorated with some weird crest\n",
      "___________________________________________________________________\n",
      "Chapter 1: The Magic Begins\n",
      "Happy birthday! Eleven years old? Wow! You're practically an adult now!\n",
      "But wait? You've opened all your presents, what's this mysterious letter?\n",
      "It's sealed with some fancy wax and a stamp. The writing is clearly addressed to you, written in green ink. But you dont recognize who sent it\n",
      "What do you want to do?open letter\n",
      "___________________________________________________________________\n",
      "The letter reads:\n",
      "HOGWARTS SCHOOL of WITCHCRAFT and WIZARDRY\n",
      "Headmaster: ALBUS DUMBLEDORE\n",
      "(Order of Merlin, First Class, Grand Sorc., Chf. Warlock, Supreme Mugwump, International Confed. of Wizards)\n",
      "Dear Mr/Ms. YOURNAME\n",
      "We are pleased to inform you that you have been accepted at Hogwarts School of Witchcraft and Wizardry.\n",
      "Please find enclosed a list of all necessary books and equipment.\n",
      "Term begins on 1 September. We await your owl by no later than 31 July.\n",
      "     Yours sincerely,\n",
      "     Minerva McGonagall\n",
      "     Deputy Headmistress\n",
      "\n",
      "HOGWARTS SCHOOL of WITCHCRAFT and WIZARDRY\n",
      "\n",
      "UNIFORM\n",
      "First-year students will require:\n",
      "     1. Three sets of plain work robes (black)\n",
      "     2. One plain pointed hat (black) for day wear\n",
      "     3. One pair of protective gloves (dragon hide or similar)\n",
      "     4. One winter cloak (black, with silver fastenings)\n",
      "  Please note that all pupils’ clothes should carry name tags.\n",
      "\n",
      "COURSE BOOKS\n",
      "  All students should have a copy of each of the following:\n",
      "     1. The Standard Book of Spells (Grade 1) by Miranda Goshawk\n",
      "     2. A History of Magic by Bathilda Bagshot\n",
      "     3. Magical Theory by Adalbert Waffling\n",
      "     4. A Beginner’s Guide to Transfiguration by Emeric Switch\n",
      "     5. One Thousand Magical Herbs and Fungi by Phyllida Spore\n",
      "     6. Magical Drafts and Potions by Arsenius Jigger\n",
      "     7. Fantastic Beasts and Where to Find Them by Newt Scamander\n",
      "     8. The Dark Forces: A Guide to Self-Protection by Quentin Trimble\n",
      "\n",
      "OTHER EQUIPMENT\n",
      "     1. 1 wand\n",
      "     2. 1 cauldron (pewter, standard size 2)\n",
      "     3. 1 set glass or crystal phials\n",
      "     4. 1 telescope\n",
      "     5. 1 set brass scales\n",
      "     6. Students may also bring an owl OR a cat OR a toad.\n",
      "\n",
      "PARENTS ARE REMINDED THAT FIRST YEARS ARE NOT ALLOWED THEIR OWN BROOMSTICKS.\n",
      "___________________________________________________________________\n",
      "Do you accept the invitation? \n",
      "Yes or no?yes\n",
      "___________________________________________________________________\n",
      "The adventure begins!\n",
      "___________________________________________________________________\n",
      "Chapter 2: Diagon Alley\n",
      "Now it's time to shop for supplies! The place to go for all your wizarding/witching needs is the imfamous Diagon Alley!.\n",
      "Try to get everything on your list. When you're done, type 'end shopping trip'\n",
      "What do you want to buy? wand\n",
      "___________________________________________________________________\n",
      "no action\n",
      "hint: phrase it buy ___\n",
      "___________________________________________________________________\n",
      "Chapter 2: Diagon Alley\n",
      "Now it's time to shop for supplies! The place to go for all your wizarding/witching needs is the imfamous Diagon Alley!.\n",
      "Try to get everything on your list. When you're done, type 'end shopping trip'\n",
      "What do you want to buy? buy wand\n",
      "___________________________________________________________________\n",
      "It's time to go to Ollivander's! The absolute best place for wands.\n",
      "The sign at the front of the store reads 'Ollivanders Makers of Fine Wands since 283 B.C.'\n",
      "When you enter, a small bell chime rings in accordance to the movement of the door. Against the walls sit stacks up on stacks of wands as the entirety of the shop is filled with wands on bookshelves, aside for the desk that sits at the front of the store.\n",
      "You walk up to the front and ring the bell\n",
      "Soon after a man enters. After a brief discourse you find he is the owner of this shop, and has agreed to fit you for a wand\n",
      "After a dozen odd measurements, he lays out three wands and asks you to pick one.\n",
      "Theres's an long ebony one, a willowly elm one, and a short hazlewood wand\n",
      "Which wand do you pick to try? buy robes\n",
      "\"please do not do that in the shop\"\n",
      "The sign at the front of the store reads 'Ollivanders Makers of Fine Wands since 283 B.C.'\n",
      "When you enter, a small bell chime rings in accordance to the movement of the door. Against the walls sit stacks up on stacks of wands as the entirety of the shop is filled with wands on bookshelves, aside for the desk that sits at the front of the store.\n",
      "You walk up to the front and ring the bell\n",
      "Soon after a man enters. After a brief discourse you find he is the owner of this shop, and has agreed to fit you for a wand\n",
      "After a dozen odd measurements, he lays out three wands and asks you to pick one.\n",
      "Theres's an long ebony one, a willowly elm one, and a short hazlewood wand\n",
      "Which wand do you pick to try? end shopping trip\n",
      "\"please do not do that in the shop\"\n",
      "The sign at the front of the store reads 'Ollivanders Makers of Fine Wands since 283 B.C.'\n",
      "When you enter, a small bell chime rings in accordance to the movement of the door. Against the walls sit stacks up on stacks of wands as the entirety of the shop is filled with wands on bookshelves, aside for the desk that sits at the front of the store.\n",
      "You walk up to the front and ring the bell\n",
      "Soon after a man enters. After a brief discourse you find he is the owner of this shop, and has agreed to fit you for a wand\n",
      "After a dozen odd measurements, he lays out three wands and asks you to pick one.\n",
      "Theres's an long ebony one, a willowly elm one, and a short hazlewood wand\n",
      "Which wand do you pick to try? ebony\n",
      "___________________________________________________________________\n",
      "You hear a small ringing coming from the black ebony wand.\n",
      "You reach for it, and as you make contact, the ringing fills the room.\n",
      "Perfect! yells the owner as he gives you the wand. 'Remember, the wand chooses the Wizard! \n",
      "It's time now to do the rest of our shopping!\n",
      "___________________________________________________________________\n",
      "We're back in Diagon Alley!\n",
      "Try to get everything else on your list. When you're done, type 'end shopping trip'\n",
      "What do you want to buy? end shopping trip\n",
      "You all ready to go? Alright! Lets go catch the train to Hogwarts!\n",
      "___________________________________________________________________\n",
      "School supplies bought, luggage all packed, wand in hand--you're ready to go to Hogwarts!\n",
      "But first, where do you go to get on your train? You see platform 9 and platform 10. But your train ticket clearly says Platform 9 3/4\n"
     ]
    }
   ],
   "source": [
    "#Text-Based Harry Potter Game\n",
    "HP_game()"
   ]
  },
  {
   "cell_type": "code",
   "execution_count": null,
   "metadata": {
    "collapsed": true
   },
   "outputs": [],
   "source": []
  }
 ],
 "metadata": {
  "kernelspec": {
   "display_name": "Python 3 (ipykernel)",
   "language": "python",
   "name": "python3"
  },
  "language_info": {
   "codemirror_mode": {
    "name": "ipython",
    "version": 3
   },
   "file_extension": ".py",
   "mimetype": "text/x-python",
   "name": "python",
   "nbconvert_exporter": "python",
   "pygments_lexer": "ipython3",
   "version": "3.7.11"
  }
 },
 "nbformat": 4,
 "nbformat_minor": 2
}
