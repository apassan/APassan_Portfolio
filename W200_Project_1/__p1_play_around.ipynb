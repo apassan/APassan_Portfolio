{
 "cells": [
  {
   "cell_type": "code",
   "execution_count": 94,
   "id": "956e0de9",
   "metadata": {},
   "outputs": [],
   "source": [
    "# import packages\n",
    "import random"
   ]
  },
  {
   "cell_type": "code",
   "execution_count": 195,
   "id": "a7653749",
   "metadata": {},
   "outputs": [],
   "source": [
    "# class: user_comm\n",
    "class user_comm():\n",
    "    # Welcome messages \n",
    "    def welcome():\n",
    "        print(\"Welcome to Hogwarts young Witches and Wizards! Time for a little adventure game!  \")\n",
    "        print(\"To win, you need to move past 20 spaces before your opponent. \\n You will draw a card on each space to help you move across the board. \\n But first we need some information from you before we can begin\")\n",
    "    \n",
    "    # Print player profile\n",
    "#     def player_profile(player):\n",
    "#         return((str(player.name) + ', you have been sorted into ' + str(player.house) + '!'))\n",
    "    \n",
    "        \n"
   ]
  },
  {
   "cell_type": "code",
   "execution_count": null,
   "id": "2cd9683e",
   "metadata": {},
   "outputs": [],
   "source": []
  },
  {
   "cell_type": "code",
   "execution_count": 196,
   "id": "5752a50c",
   "metadata": {},
   "outputs": [],
   "source": [
    "# class: players\n",
    "class player():\n",
    "    def __init__(self):\n",
    "        \n",
    "        # name\n",
    "        self.name = input(\"What is your name?\").title()\n",
    "\n",
    "        # house\n",
    "        hog_houses = ['Gryffindor', 'Ravenclaw', 'Hufflepuff', 'Slytherin']\n",
    "        self.house = random.choice(hog_houses) \n",
    "    def __repr__(self):\n",
    "            return((str(self.name) + ', you have been sorted into ' + str(self.house) + '!'))\n"
   ]
  },
  {
   "cell_type": "code",
   "execution_count": 197,
   "id": "264940ac",
   "metadata": {},
   "outputs": [
    {
     "name": "stdout",
     "output_type": "stream",
     "text": [
      "What is your name?sds\n"
     ]
    },
    {
     "data": {
      "text/plain": [
       "Sds, you have been sorted into Ravenclaw!"
      ]
     },
     "execution_count": 197,
     "metadata": {},
     "output_type": "execute_result"
    }
   ],
   "source": [
    "player()"
   ]
  },
  {
   "cell_type": "code",
   "execution_count": 1,
   "id": "4b310a16",
   "metadata": {},
   "outputs": [],
   "source": [
    "# class: move\n",
    "class move():\n",
    "    def __init__(self, p_name, )\n",
    "    pass"
   ]
  },
  {
   "cell_type": "code",
   "execution_count": null,
   "id": "4be41552",
   "metadata": {},
   "outputs": [],
   "source": []
  },
  {
   "cell_type": "code",
   "execution_count": 2,
   "id": "e4726b10",
   "metadata": {},
   "outputs": [],
   "source": [
    "# class: game_board\n",
    "class hp_board():\n",
    "    pass"
   ]
  },
  {
   "cell_type": "code",
   "execution_count": null,
   "id": "0bb8abd4",
   "metadata": {},
   "outputs": [],
   "source": []
  },
  {
   "cell_type": "code",
   "execution_count": 3,
   "id": "ecbdae83",
   "metadata": {},
   "outputs": [],
   "source": [
    "# class: card_deck\n",
    "class cards():\n",
    "    def __init__(self, anecdote, move_spaces)\n",
    "    self.anecdote = ['x', 'y', 'z'] \n",
    "    self.move_spaces = [-1, 2, 1]\n",
    "    \n",
    "    self.cards = []\n",
    "\n",
    "    for a in self.anecdote:\n",
    "        for m in move_spaces:\n",
    "            self.cards.append()\n",
    "        \n"
   ]
  },
  {
   "cell_type": "code",
   "execution_count": null,
   "id": "58c6e914",
   "metadata": {},
   "outputs": [],
   "source": []
  },
  {
   "cell_type": "code",
   "execution_count": 198,
   "id": "a78246b0",
   "metadata": {},
   "outputs": [],
   "source": [
    "def main():\n",
    "    user_comm.welcome()\n",
    "    player()\n",
    "    #user_comm.player_profile(player) # print the profile of the player so they know their house "
   ]
  },
  {
   "cell_type": "code",
   "execution_count": 199,
   "id": "c8566485",
   "metadata": {},
   "outputs": [
    {
     "name": "stdout",
     "output_type": "stream",
     "text": [
      "Welcome to Hogwarts young Witches and Wizards! Time for a little adventure game!  \n",
      "To win, you need to move past 20 spaces before your opponent. \n",
      " You will draw a card on each space to help you move across the board. \n",
      " But first we need some information from you before we can begin\n",
      "What is your name?kj\n"
     ]
    }
   ],
   "source": [
    "main()"
   ]
  },
  {
   "cell_type": "code",
   "execution_count": null,
   "id": "dbf0a5fe",
   "metadata": {},
   "outputs": [],
   "source": []
  }
 ],
 "metadata": {
  "kernelspec": {
   "display_name": "Python 3 (ipykernel)",
   "language": "python",
   "name": "python3"
  },
  "language_info": {
   "codemirror_mode": {
    "name": "ipython",
    "version": 3
   },
   "file_extension": ".py",
   "mimetype": "text/x-python",
   "name": "python",
   "nbconvert_exporter": "python",
   "pygments_lexer": "ipython3",
   "version": "3.7.11"
  }
 },
 "nbformat": 4,
 "nbformat_minor": 5
}
