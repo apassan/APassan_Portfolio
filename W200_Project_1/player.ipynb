{
 "cells": [
  {
   "cell_type": "code",
   "execution_count": 1,
   "id": "211b0980",
   "metadata": {},
   "outputs": [],
   "source": [
    "# import python packages \n",
    "import random\n",
    "\n",
    "# class: Player\n",
    "class Player():\n",
    "    def __init__(self):\n",
    "        \n",
    "        # name\n",
    "        self.name = input(\"What is your name?\").title()\n",
    "\n",
    "        # house\n",
    "        hog_houses = ['Gryffindor', 'Ravenclaw', 'Hufflepuff', 'Slytherin']\n",
    "        self.house = random.choice(hog_houses) \n",
    "    def __repr__(self):\n",
    "            return((str(self.name) + ', you have been sorted into ' + str(self.house) + '!'))\n"
   ]
  },
  {
   "cell_type": "code",
   "execution_count": 14,
   "id": "e7d1b8ae",
   "metadata": {},
   "outputs": [
    {
     "name": "stdout",
     "output_type": "stream",
     "text": [
      "What is your name?hkhj\n"
     ]
    },
    {
     "data": {
      "text/plain": [
       "Hkhj, you have been sorted into Gryffindor!"
      ]
     },
     "execution_count": 14,
     "metadata": {},
     "output_type": "execute_result"
    }
   ],
   "source": [
    "Player()"
   ]
  },
  {
   "cell_type": "code",
   "execution_count": null,
   "id": "132f33cc",
   "metadata": {},
   "outputs": [],
   "source": []
  }
 ],
 "metadata": {
  "kernelspec": {
   "display_name": "Python 3 (ipykernel)",
   "language": "python",
   "name": "python3"
  },
  "language_info": {
   "codemirror_mode": {
    "name": "ipython",
    "version": 3
   },
   "file_extension": ".py",
   "mimetype": "text/x-python",
   "name": "python",
   "nbconvert_exporter": "python",
   "pygments_lexer": "ipython3",
   "version": "3.7.11"
  }
 },
 "nbformat": 4,
 "nbformat_minor": 5
}
