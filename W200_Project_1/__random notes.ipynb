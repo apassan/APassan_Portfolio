{
 "cells": [
  {
   "cell_type": "code",
   "execution_count": null,
   "id": "f6f680f3",
   "metadata": {},
   "outputs": [],
   "source": [
    "        # number of players\n",
    "        self.num = int(input(\"How many players? Please enter either 2 or 3.\"))\n",
    "\n",
    " #   if define_players.num_players not in [2, 3]:\n",
    "  #      print(\"Invalid number of players! Please type either the number 2 or 3.\")\n"
   ]
  },
  {
   "cell_type": "code",
   "execution_count": null,
   "id": "521876b0",
   "metadata": {},
   "outputs": [],
   "source": [
    "def display_board(board):\n",
    "    blankBoard=\"\"\"\n",
    "_____________________________________________________________\n",
    "|     |     |     |     |     |     |     |     |     |     |\n",
    "|  0  |  1  |  2  |  3  |  4  |  5  |  6  |  7  |  8  |  9  |\n",
    "|     |     |     |     |     |     |     |     |     |     |\n",
    "|-----------------|-----------------|-----------------|-----|\n",
    "\n",
    "\"\"\"\n",
    "    print(blankBoard)\n",
    "    print(blankBoard[128])\n",
    "    print(blankBoard[134])\n",
    "    print(blankBoard[140])\n",
    "    print(blankBoard[146])\n",
    "    print(blankBoard[152])\n",
    "    print(blankBoard[158])\n",
    "    print(blankBoard[164])\n",
    "    print(blankBoard[170])\n",
    "    print(blankBoard[176])\n",
    "    print(blankBoard[182])\n",
    "    "
   ]
  },
  {
   "cell_type": "code",
   "execution_count": null,
   "id": "00af2c82",
   "metadata": {},
   "outputs": [],
   "source": [
    "# class: card_deck\n",
    "class cards():\n",
    "    def __init__(self):\n",
    "        self.deck()\n",
    "    \n",
    "    def self_deck():\n",
    "        anecdote = ['x', 'y', 'z'] \n",
    "        move_spaces = [-1, 2, 1]\n",
    "        cards = []\n",
    "        for a in anecdote:\n",
    "            for m in move_spaces:\n",
    "                cards.append()\n",
    "        return (cards)\n",
    "\n",
    "(PlayingCard(rank = r, suit = s))\n",
    "\n",
    "#maybe deck another class "
   ]
  },
  {
   "cell_type": "code",
   "execution_count": 1,
   "id": "8f4f24db",
   "metadata": {},
   "outputs": [],
   "source": [
    "    # method: build with lists --> but changed to dictionaries \n",
    "    def build(self):\n",
    "        '''Build the deck for one Hogwarts House.'''\n",
    "        for c in self.anecdote_list:\n",
    "            for v in self.value_list:\n",
    "                self.deck.append(Card(c, v, self.house))\n"
   ]
  },
  {
   "cell_type": "code",
   "execution_count": null,
   "id": "baef6ba9",
   "metadata": {},
   "outputs": [],
   "source": []
  },
  {
   "cell_type": "code",
   "execution_count": null,
   "id": "ca432466",
   "metadata": {},
   "outputs": [],
   "source": []
  }
 ],
 "metadata": {
  "kernelspec": {
   "display_name": "Python 3 (ipykernel)",
   "language": "python",
   "name": "python3"
  },
  "language_info": {
   "codemirror_mode": {
    "name": "ipython",
    "version": 3
   },
   "file_extension": ".py",
   "mimetype": "text/x-python",
   "name": "python",
   "nbconvert_exporter": "python",
   "pygments_lexer": "ipython3",
   "version": "3.7.11"
  }
 },
 "nbformat": 4,
 "nbformat_minor": 5
}
