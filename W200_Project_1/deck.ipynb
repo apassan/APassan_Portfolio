{
 "cells": [
  {
   "cell_type": "code",
   "execution_count": 35,
   "id": "4aa8bd49",
   "metadata": {},
   "outputs": [],
   "source": [
    "from card import Card\n",
    "import random \n"
   ]
  },
  {
   "cell_type": "code",
   "execution_count": 36,
   "id": "781a6dc0",
   "metadata": {},
   "outputs": [],
   "source": [
    "# class: deck \n",
    "\n",
    "class DeckClass():    \n",
    "\n",
    "    def __init__(self, house_dict, house):\n",
    "        '''There will be 4 decks/instances be based on the house,\n",
    "        which in itself has different anecdote and value dictionary.'''\n",
    "        self.house_dict = house_dict\n",
    "        self.house = house\n",
    "        self.deck = []\n",
    "        self.build()\n",
    "    \n",
    "        \n",
    "    # method: build \n",
    "    def build(self):\n",
    "        '''Build the deck for one Hogwarts House.'''\n",
    "        for key, value in self.house_dict.items():\n",
    "            self.deck.append(Card(key, value, self.house))\n",
    "        return (self.deck)\n",
    "\n",
    "    \n",
    "    # method: print_deck \n",
    "    def print_deck(self):\n",
    "        '''Have a function to print the deck - more for development purposes.'''\n",
    "        for cc in self.deck:\n",
    "            Card.card_print(cc)\n",
    "            \n",
    "    # method: shuffle_deck \n",
    "    def shuffle_deck(self):\n",
    "        '''Shuffle the deck in question.'''\n",
    "        random.shuffle(self.deck)\n",
    "    \n",
    "    # method: draw_card\n",
    "    def draw_card(self):\n",
    "        '''Draw 1 card which will be used to help move the \n",
    "        player on the board'''\n",
    "        card_drawn = self.deck.pop()\n",
    "        return (Card.card_print(card_drawn))\n",
    "    \n",
    "    # method: len_deck\n",
    "    def len_deck(self):\n",
    "        '''Get the number of cards remaining in the deck'''\n",
    "        return len(self.deck)\n",
    "    \n",
    "    # method: deck_empty\n",
    "    def deck_empty(self):\n",
    "        '''Find out if the deck is empty. This will be used to \n",
    "        inform whether the player has lost the game.'''\n",
    "        if len(self.deck) == 0:\n",
    "            return True\n",
    "        else:\n",
    "            return False \n",
    "        \n",
    "\n"
   ]
  },
  {
   "cell_type": "code",
   "execution_count": 37,
   "id": "cac5f578",
   "metadata": {},
   "outputs": [],
   "source": [
    "# Relevant house dictionaries [TO BE FILLED WITH ACTUAL ANECDOTES]\n",
    "g_dict = {'g1': 0, 'g2': -1, 'g3': 3, 'g4': 1, 'g5': 1, 'g6': 1, 'g7': 1, 'g8': 0, 'g9': 0, 'g10': 1}\n",
    "r_dict = {'r1': 0, 'r2': -1, 'r3': 3, 'r4': 1, 'r5': 1, 'r6': 1, 'r7': 1, 'r8': 0, 'r9': 0, 'r10': 1}\n",
    "h_dict = {'h1': 0, 'h2': -1, 'h3': 3, 'h4': 1, 'h5': 1, 'h6': 1, 'h7': 1, 'h8': 0, 'h9': 0, 'h10': 1}\n",
    "s_dict = {'s1': 0, 's2': -1, 's3': 3, 's4': 1, 's5': 1, 's6': 1, 's7': 1, 's8': 0, 's9': 0, 's10': 1}\n",
    "\n",
    "# House names \n",
    "g_house = 'Gryffindor'\n",
    "r_house = 'Ravenclaw'\n",
    "h_house = 'Hufflepuff'\n",
    "s_house = 'Slytherin'"
   ]
  },
  {
   "cell_type": "code",
   "execution_count": 38,
   "id": "b4777f42",
   "metadata": {},
   "outputs": [
    {
     "name": "stdout",
     "output_type": "stream",
     "text": [
      "g1\n",
      "Move 0 spaces.\n",
      "g2\n",
      "Move -1 spaces.\n",
      "g3\n",
      "Move 3 spaces.\n",
      "g4\n",
      "Move 1 spaces.\n",
      "g5\n",
      "Move 1 spaces.\n",
      "g6\n",
      "Move 1 spaces.\n",
      "g7\n",
      "Move 1 spaces.\n",
      "g8\n",
      "Move 0 spaces.\n",
      "g9\n",
      "Move 0 spaces.\n",
      "g10\n",
      "Move 1 spaces.\n"
     ]
    }
   ],
   "source": [
    "deck_gryffindor = Deck(g_dict, g_house)\n",
    "deck_gryffindor.print_deck()"
   ]
  },
  {
   "cell_type": "code",
   "execution_count": 41,
   "id": "91d8d43f",
   "metadata": {},
   "outputs": [
    {
     "name": "stdout",
     "output_type": "stream",
     "text": [
      "g7\n",
      "Move 1 spaces.\n",
      "g6\n",
      "Move 1 spaces.\n",
      "g5\n",
      "Move 1 spaces.\n",
      "g3\n",
      "Move 3 spaces.\n",
      "g2\n",
      "Move -1 spaces.\n",
      "g1\n",
      "Move 0 spaces.\n",
      "g10\n",
      "Move 1 spaces.\n",
      "g9\n",
      "Move 0 spaces.\n",
      "g4\n",
      "Move 1 spaces.\n",
      "g8\n",
      "Move 0 spaces.\n",
      "\n",
      "\n",
      "g7\n",
      "Move 1 spaces.\n",
      "g4\n",
      "Move 1 spaces.\n",
      "g3\n",
      "Move 3 spaces.\n",
      "g1\n",
      "Move 0 spaces.\n",
      "g9\n",
      "Move 0 spaces.\n",
      "g6\n",
      "Move 1 spaces.\n",
      "g10\n",
      "Move 1 spaces.\n",
      "g8\n",
      "Move 0 spaces.\n",
      "g2\n",
      "Move -1 spaces.\n",
      "g5\n",
      "Move 1 spaces.\n",
      "None\n"
     ]
    }
   ],
   "source": [
    "deck_gryffindor.shuffle_deck()\n",
    "deck_gryffindor.print_deck()\n",
    "print('\\n')\n",
    "shuffled_D = DeckClass.shuffle_deck(deck_gryffindor)\n",
    "deck_gryffindor.print_deck()\n",
    "print(shuffled_D)"
   ]
  },
  {
   "cell_type": "code",
   "execution_count": 42,
   "id": "eddf5e04",
   "metadata": {},
   "outputs": [
    {
     "name": "stdout",
     "output_type": "stream",
     "text": [
      "<__main__.Deck object at 0x7fc75085f510>\n"
     ]
    }
   ],
   "source": [
    "deck_ravenclaw = Deck(r_dict, r_house)\n",
    "print(deck_ravenclaw)"
   ]
  },
  {
   "cell_type": "code",
   "execution_count": 99,
   "id": "04cc00f1",
   "metadata": {},
   "outputs": [],
   "source": [
    "deck_hufflepuff = Deck(h_dict, h_house)"
   ]
  },
  {
   "cell_type": "code",
   "execution_count": 100,
   "id": "02b21837",
   "metadata": {},
   "outputs": [],
   "source": [
    "deck_slytherin = Deck(s_dict, s_house)"
   ]
  },
  {
   "cell_type": "code",
   "execution_count": null,
   "id": "0ad96c01",
   "metadata": {},
   "outputs": [],
   "source": []
  }
 ],
 "metadata": {
  "kernelspec": {
   "display_name": "Python 3 (ipykernel)",
   "language": "python",
   "name": "python3"
  },
  "language_info": {
   "codemirror_mode": {
    "name": "ipython",
    "version": 3
   },
   "file_extension": ".py",
   "mimetype": "text/x-python",
   "name": "python",
   "nbconvert_exporter": "python",
   "pygments_lexer": "ipython3",
   "version": "3.7.11"
  }
 },
 "nbformat": 4,
 "nbformat_minor": 5
}
