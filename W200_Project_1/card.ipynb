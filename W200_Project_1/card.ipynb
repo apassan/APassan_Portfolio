{
 "cells": [
  {
   "cell_type": "code",
   "execution_count": 5,
   "id": "170ebadb",
   "metadata": {},
   "outputs": [],
   "source": [
    "#from deck import Deck"
   ]
  },
  {
   "cell_type": "code",
   "execution_count": 6,
   "id": "fa20c7a5",
   "metadata": {},
   "outputs": [],
   "source": [
    "\n",
    "# class: card\n",
    "class Card():\n",
    "    def __init__(self, anecdote, value, house):\n",
    "        self.anecdote = anecdote\n",
    "        self.value = value\n",
    "        self.house = house\n",
    "    def card_print(self):\n",
    "        return print(self.anecdote + '\\n' + 'Move ' + str(self.value) +' spaces.')"
   ]
  },
  {
   "cell_type": "code",
   "execution_count": 7,
   "id": "1a0af2a7",
   "metadata": {},
   "outputs": [
    {
     "name": "stdout",
     "output_type": "stream",
     "text": [
      "You got caught skipping class.\n",
      "Move -1 spaces.\n"
     ]
    }
   ],
   "source": [
    "c1 = Card('You got caught skipping class.', -1, 'Slytherin')\n",
    "Card.card_print(c1)"
   ]
  },
  {
   "cell_type": "code",
   "execution_count": null,
   "id": "9a2c8ebc",
   "metadata": {},
   "outputs": [],
   "source": []
  }
 ],
 "metadata": {
  "kernelspec": {
   "display_name": "Python 3 (ipykernel)",
   "language": "python",
   "name": "python3"
  },
  "language_info": {
   "codemirror_mode": {
    "name": "ipython",
    "version": 3
   },
   "file_extension": ".py",
   "mimetype": "text/x-python",
   "name": "python",
   "nbconvert_exporter": "python",
   "pygments_lexer": "ipython3",
   "version": "3.7.11"
  }
 },
 "nbformat": 4,
 "nbformat_minor": 5
}
